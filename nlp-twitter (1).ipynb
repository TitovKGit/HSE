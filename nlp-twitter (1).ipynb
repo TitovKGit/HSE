{
 "cells": [
  {
   "cell_type": "code",
   "execution_count": 1,
   "id": "dba9e527",
   "metadata": {
    "_cell_guid": "b1076dfc-b9ad-4769-8c92-a6c4dae69d19",
    "_uuid": "8f2839f25d086af736a60e9eeb907d3b93b6e0e5",
    "execution": {
     "iopub.execute_input": "2025-03-19T18:47:04.297015Z",
     "iopub.status.busy": "2025-03-19T18:47:04.296711Z",
     "iopub.status.idle": "2025-03-19T18:47:29.771483Z",
     "shell.execute_reply": "2025-03-19T18:47:29.770725Z"
    },
    "papermill": {
     "duration": 25.484595,
     "end_time": "2025-03-19T18:47:29.772903",
     "exception": false,
     "start_time": "2025-03-19T18:47:04.288308",
     "status": "completed"
    },
    "tags": []
   },
   "outputs": [],
   "source": [
    "import pandas as pd\n",
    "import numpy as np\n",
    "import re\n",
    "from string import punctuation\n",
    "\n",
    "import nltk\n",
    "from nltk.tokenize import TweetTokenizer\n",
    "from nltk.corpus import stopwords\n",
    "from nltk.stem.snowball import PorterStemmer\n",
    "\n",
    "from sklearn.feature_extraction.text import CountVectorizer, TfidfVectorizer\n",
    "from sklearn.model_selection import train_test_split, GridSearchCV, ParameterGrid\n",
    "from sklearn.linear_model import LogisticRegression\n",
    "from sklearn.metrics import f1_score\n",
    "\n",
    "import torch\n",
    "import torch.nn as nn\n",
    "import torch.optim as optim\n",
    "from torch.utils.data import DataLoader, TensorDataset, random_split\n",
    "\n",
    "from transformers import RobertaTokenizer, RobertaForSequenceClassification, Trainer, TrainingArguments"
   ]
  },
  {
   "cell_type": "code",
   "execution_count": 2,
   "id": "99b85df5",
   "metadata": {
    "execution": {
     "iopub.execute_input": "2025-03-19T18:47:29.787790Z",
     "iopub.status.busy": "2025-03-19T18:47:29.787292Z",
     "iopub.status.idle": "2025-03-19T18:47:29.864730Z",
     "shell.execute_reply": "2025-03-19T18:47:29.863991Z"
    },
    "papermill": {
     "duration": 0.085835,
     "end_time": "2025-03-19T18:47:29.865964",
     "exception": false,
     "start_time": "2025-03-19T18:47:29.780129",
     "status": "completed"
    },
    "tags": []
   },
   "outputs": [
    {
     "data": {
      "text/html": [
       "<div>\n",
       "<style scoped>\n",
       "    .dataframe tbody tr th:only-of-type {\n",
       "        vertical-align: middle;\n",
       "    }\n",
       "\n",
       "    .dataframe tbody tr th {\n",
       "        vertical-align: top;\n",
       "    }\n",
       "\n",
       "    .dataframe thead th {\n",
       "        text-align: right;\n",
       "    }\n",
       "</style>\n",
       "<table border=\"1\" class=\"dataframe\">\n",
       "  <thead>\n",
       "    <tr style=\"text-align: right;\">\n",
       "      <th></th>\n",
       "      <th>id</th>\n",
       "      <th>keyword</th>\n",
       "      <th>location</th>\n",
       "      <th>text</th>\n",
       "      <th>target</th>\n",
       "    </tr>\n",
       "  </thead>\n",
       "  <tbody>\n",
       "    <tr>\n",
       "      <th>0</th>\n",
       "      <td>1</td>\n",
       "      <td>NaN</td>\n",
       "      <td>NaN</td>\n",
       "      <td>Our Deeds are the Reason of this #earthquake M...</td>\n",
       "      <td>1</td>\n",
       "    </tr>\n",
       "    <tr>\n",
       "      <th>1</th>\n",
       "      <td>4</td>\n",
       "      <td>NaN</td>\n",
       "      <td>NaN</td>\n",
       "      <td>Forest fire near La Ronge Sask. Canada</td>\n",
       "      <td>1</td>\n",
       "    </tr>\n",
       "    <tr>\n",
       "      <th>2</th>\n",
       "      <td>5</td>\n",
       "      <td>NaN</td>\n",
       "      <td>NaN</td>\n",
       "      <td>All residents asked to 'shelter in place' are ...</td>\n",
       "      <td>1</td>\n",
       "    </tr>\n",
       "    <tr>\n",
       "      <th>3</th>\n",
       "      <td>6</td>\n",
       "      <td>NaN</td>\n",
       "      <td>NaN</td>\n",
       "      <td>13,000 people receive #wildfires evacuation or...</td>\n",
       "      <td>1</td>\n",
       "    </tr>\n",
       "    <tr>\n",
       "      <th>4</th>\n",
       "      <td>7</td>\n",
       "      <td>NaN</td>\n",
       "      <td>NaN</td>\n",
       "      <td>Just got sent this photo from Ruby #Alaska as ...</td>\n",
       "      <td>1</td>\n",
       "    </tr>\n",
       "  </tbody>\n",
       "</table>\n",
       "</div>"
      ],
      "text/plain": [
       "   id keyword location                                               text  \\\n",
       "0   1     NaN      NaN  Our Deeds are the Reason of this #earthquake M...   \n",
       "1   4     NaN      NaN             Forest fire near La Ronge Sask. Canada   \n",
       "2   5     NaN      NaN  All residents asked to 'shelter in place' are ...   \n",
       "3   6     NaN      NaN  13,000 people receive #wildfires evacuation or...   \n",
       "4   7     NaN      NaN  Just got sent this photo from Ruby #Alaska as ...   \n",
       "\n",
       "   target  \n",
       "0       1  \n",
       "1       1  \n",
       "2       1  \n",
       "3       1  \n",
       "4       1  "
      ]
     },
     "execution_count": 2,
     "metadata": {},
     "output_type": "execute_result"
    }
   ],
   "source": [
    "df = pd.read_csv('/kaggle/input/nlp-getting-started/train.csv')\n",
    "df_test = pd.read_csv('/kaggle/input/nlp-getting-started/test.csv')\n",
    "\n",
    "df.head()"
   ]
  },
  {
   "cell_type": "markdown",
   "id": "50900ae2",
   "metadata": {
    "papermill": {
     "duration": 0.006488,
     "end_time": "2025-03-19T18:47:29.879477",
     "exception": false,
     "start_time": "2025-03-19T18:47:29.872989",
     "status": "completed"
    },
    "tags": []
   },
   "source": [
    "# Preprocessing Data"
   ]
  },
  {
   "cell_type": "markdown",
   "id": "1b5d8a56",
   "metadata": {
    "papermill": {
     "duration": 0.00652,
     "end_time": "2025-03-19T18:47:29.892653",
     "exception": false,
     "start_time": "2025-03-19T18:47:29.886133",
     "status": "completed"
    },
    "tags": []
   },
   "source": [
    "In the basic data preprocessing, columns of text, keywords, and locations were combined. In fact, this is not particularly good, because the importance of the first two columns is lost."
   ]
  },
  {
   "cell_type": "code",
   "execution_count": 3,
   "id": "671911a2",
   "metadata": {
    "execution": {
     "iopub.execute_input": "2025-03-19T18:47:29.906535Z",
     "iopub.status.busy": "2025-03-19T18:47:29.906297Z",
     "iopub.status.idle": "2025-03-19T18:47:29.910273Z",
     "shell.execute_reply": "2025-03-19T18:47:29.909470Z"
    },
    "papermill": {
     "duration": 0.012241,
     "end_time": "2025-03-19T18:47:29.911467",
     "exception": false,
     "start_time": "2025-03-19T18:47:29.899226",
     "status": "completed"
    },
    "tags": []
   },
   "outputs": [],
   "source": [
    "def preprocessing_data(df):\n",
    "    df.fillna({\"keyword\": '', \"location\": ''}, inplace=True)\n",
    "    \n",
    "\n",
    "    df['text'] = df['keyword'] + ' ' + df['location'] + ' ' + df['text'] \n",
    "    df.drop(\"keyword\", inplace= True, axis=1)\n",
    "    df.drop(\"location\", inplace= True, axis=1)"
   ]
  },
  {
   "cell_type": "code",
   "execution_count": 4,
   "id": "20229fc4",
   "metadata": {
    "execution": {
     "iopub.execute_input": "2025-03-19T18:47:29.925421Z",
     "iopub.status.busy": "2025-03-19T18:47:29.925165Z",
     "iopub.status.idle": "2025-03-19T18:47:29.951348Z",
     "shell.execute_reply": "2025-03-19T18:47:29.950513Z"
    },
    "papermill": {
     "duration": 0.034591,
     "end_time": "2025-03-19T18:47:29.952732",
     "exception": false,
     "start_time": "2025-03-19T18:47:29.918141",
     "status": "completed"
    },
    "tags": []
   },
   "outputs": [],
   "source": [
    "df.drop('id', inplace= True, axis= 1)\n",
    "\n",
    "preprocessing_data(df)\n",
    "preprocessing_data(df_test)\n",
    "\n",
    "train, test = train_test_split(df, test_size=0.3, random_state=42)"
   ]
  },
  {
   "cell_type": "markdown",
   "id": "1acb145f",
   "metadata": {
    "papermill": {
     "duration": 0.006334,
     "end_time": "2025-03-19T18:47:29.965777",
     "exception": false,
     "start_time": "2025-03-19T18:47:29.959443",
     "status": "completed"
    },
    "tags": []
   },
   "source": [
    "# BoW, TF_IDF solution\n"
   ]
  },
  {
   "cell_type": "markdown",
   "id": "2feb1b8e",
   "metadata": {
    "papermill": {
     "duration": 0.006346,
     "end_time": "2025-03-19T18:47:29.978733",
     "exception": false,
     "start_time": "2025-03-19T18:47:29.972387",
     "status": "completed"
    },
    "tags": []
   },
   "source": [
    "TweetTokenizer was chosen as the basic tokenizer (I think it makes no sense to explain why this particular tokenizer is used). In the tokenizer, we get rid of various special characters, as well as the most frequent words that do not carry any information. Also, stemming was chosen between lemmatizer and stemming, as it is the least sensitive to context. PorterStemmer was chosen as the streamer."
   ]
  },
  {
   "cell_type": "code",
   "execution_count": 5,
   "id": "005d196d",
   "metadata": {
    "execution": {
     "iopub.execute_input": "2025-03-19T18:47:29.992802Z",
     "iopub.status.busy": "2025-03-19T18:47:29.992586Z",
     "iopub.status.idle": "2025-03-19T18:47:29.996946Z",
     "shell.execute_reply": "2025-03-19T18:47:29.996347Z"
    },
    "papermill": {
     "duration": 0.012637,
     "end_time": "2025-03-19T18:47:29.998111",
     "exception": false,
     "start_time": "2025-03-19T18:47:29.985474",
     "status": "completed"
    },
    "tags": []
   },
   "outputs": [],
   "source": [
    "def CustomTokenizer(text: str) -> list[str]:\n",
    "    text_lower = text.lower()\n",
    "    text_lower_tokenized = TweetTokenizer().tokenize(text_lower)\n",
    "    \n",
    "    needed_pattern = re.compile(rf'^[#]?[a-z]+$|[{punctuation}]?[()][{punctuation}]?')\n",
    "    text_tokenized_latin = list(map(lambda x: needed_pattern.findall(x), text_lower_tokenized))\n",
    "    text_tokenized_latin_needed = list(filter((lambda y: len(y) > 0), text_tokenized_latin)) \n",
    "    stopwords_s = stopwords.words('english')\n",
    "    text_without_stopwords = list(filter((lambda y: y[0] not in stopwords_s), text_tokenized_latin_needed))\n",
    "    \n",
    "    stemmer = PorterStemmer()\n",
    "    text_stemmed = [stemmer.stem(w[0]) for w in text_without_stopwords]\n",
    "\n",
    "    return text_stemmed"
   ]
  },
  {
   "cell_type": "code",
   "execution_count": 6,
   "id": "7f2cf353",
   "metadata": {
    "execution": {
     "iopub.execute_input": "2025-03-19T18:47:30.012158Z",
     "iopub.status.busy": "2025-03-19T18:47:30.011941Z",
     "iopub.status.idle": "2025-03-19T18:47:30.016437Z",
     "shell.execute_reply": "2025-03-19T18:47:30.015637Z"
    },
    "papermill": {
     "duration": 0.01286,
     "end_time": "2025-03-19T18:47:30.017723",
     "exception": false,
     "start_time": "2025-03-19T18:47:30.004863",
     "status": "completed"
    },
    "tags": []
   },
   "outputs": [],
   "source": [
    "def find_best_estimator(X_train, y_train, X_test, y_test):\n",
    "    alphas = np.logspace(-1, 3, 10)\n",
    "    searcher = GridSearchCV(LogisticRegression(), [{'C': alphas, 'max_iter': [500]}],\n",
    "                            scoring='f1', cv=5, n_jobs=-1)\n",
    "    searcher.fit(X_train, y_train)\n",
    "\n",
    "    best_alpha = searcher.best_params_[\"C\"]\n",
    "    print(\"Best alpha = %.4f\" % best_alpha)\n",
    "\n",
    "    model = LogisticRegression(C=best_alpha, max_iter=500)\n",
    "    model.fit(X_train, y_train)\n",
    "\n",
    "    print(\"Train f1-score = %.4f\" % f1_score(y_train, model.predict(X_train)))\n",
    "    print(\"Test f1-score = %.4f\" % f1_score(y_test, model.predict(X_test)))\n",
    "\n",
    "    return model"
   ]
  },
  {
   "cell_type": "code",
   "execution_count": 7,
   "id": "18af975b",
   "metadata": {
    "execution": {
     "iopub.execute_input": "2025-03-19T18:47:30.031722Z",
     "iopub.status.busy": "2025-03-19T18:47:30.031497Z",
     "iopub.status.idle": "2025-03-19T18:47:34.851531Z",
     "shell.execute_reply": "2025-03-19T18:47:34.850769Z"
    },
    "papermill": {
     "duration": 4.828558,
     "end_time": "2025-03-19T18:47:34.853054",
     "exception": false,
     "start_time": "2025-03-19T18:47:30.024496",
     "status": "completed"
    },
    "tags": []
   },
   "outputs": [
    {
     "name": "stderr",
     "output_type": "stream",
     "text": [
      "/usr/local/lib/python3.10/dist-packages/sklearn/feature_extraction/text.py:528: UserWarning: The parameter 'token_pattern' will not be used since 'tokenizer' is not None'\n",
      "  warnings.warn(\n"
     ]
    }
   ],
   "source": [
    "cnt_vec = CountVectorizer(ngram_range=(1, 1), tokenizer=CustomTokenizer)\n",
    "\n",
    "bow_train = cnt_vec.fit_transform(train['text'])\n",
    "bow_test = cnt_vec.transform(test['text'])\n",
    "\n",
    "bow_Test = cnt_vec.transform(df_test['text'])"
   ]
  },
  {
   "cell_type": "code",
   "execution_count": 8,
   "id": "c086ab92",
   "metadata": {
    "execution": {
     "iopub.execute_input": "2025-03-19T18:47:34.869330Z",
     "iopub.status.busy": "2025-03-19T18:47:34.869036Z",
     "iopub.status.idle": "2025-03-19T18:47:42.538035Z",
     "shell.execute_reply": "2025-03-19T18:47:42.536859Z"
    },
    "papermill": {
     "duration": 7.678639,
     "end_time": "2025-03-19T18:47:42.539721",
     "exception": false,
     "start_time": "2025-03-19T18:47:34.861082",
     "status": "completed"
    },
    "tags": []
   },
   "outputs": [
    {
     "name": "stdout",
     "output_type": "stream",
     "text": [
      "Best alpha = 0.7743\n",
      "Train f1-score = 0.9413\n",
      "Test f1-score = 0.7554\n"
     ]
    }
   ],
   "source": [
    "best_estimator = find_best_estimator(bow_train, train['target'], bow_test, test['target'])\n",
    "\n",
    "predictions = best_estimator.predict(bow_Test)\n",
    "\n",
    "results = pd.DataFrame({\n",
    "    'id': df_test['id'].values,\n",
    "    'target': predictions\n",
    "})\n",
    "\n",
    "results.to_csv('predictions_bow.csv', index=False)"
   ]
  },
  {
   "cell_type": "code",
   "execution_count": 9,
   "id": "145a540f",
   "metadata": {
    "execution": {
     "iopub.execute_input": "2025-03-19T18:47:42.554721Z",
     "iopub.status.busy": "2025-03-19T18:47:42.554446Z",
     "iopub.status.idle": "2025-03-19T18:47:47.775318Z",
     "shell.execute_reply": "2025-03-19T18:47:47.774533Z"
    },
    "papermill": {
     "duration": 5.230054,
     "end_time": "2025-03-19T18:47:47.777005",
     "exception": false,
     "start_time": "2025-03-19T18:47:42.546951",
     "status": "completed"
    },
    "tags": []
   },
   "outputs": [
    {
     "name": "stderr",
     "output_type": "stream",
     "text": [
      "/usr/local/lib/python3.10/dist-packages/sklearn/feature_extraction/text.py:528: UserWarning: The parameter 'token_pattern' will not be used since 'tokenizer' is not None'\n",
      "  warnings.warn(\n"
     ]
    }
   ],
   "source": [
    "tf_idf = TfidfVectorizer(tokenizer=CustomTokenizer, max_df=0.9, min_df=0.0002)\n",
    "\n",
    "tf_idf_train = tf_idf.fit_transform(train['text'])\n",
    "tf_idf_test = tf_idf.transform(test['text'])\n",
    "tf_idf_Test = tf_idf.transform(df_test['text'])"
   ]
  },
  {
   "cell_type": "markdown",
   "id": "794ab48b",
   "metadata": {
    "papermill": {
     "duration": 0.00728,
     "end_time": "2025-03-19T18:47:47.792154",
     "exception": false,
     "start_time": "2025-03-19T18:47:47.784874",
     "status": "completed"
    },
    "tags": []
   },
   "source": [
    "Tf-idf showed a better result than BoW, so we will submit it."
   ]
  },
  {
   "cell_type": "code",
   "execution_count": 10,
   "id": "a45e9361",
   "metadata": {
    "execution": {
     "iopub.execute_input": "2025-03-19T18:47:47.806736Z",
     "iopub.status.busy": "2025-03-19T18:47:47.806472Z",
     "iopub.status.idle": "2025-03-19T18:47:51.419399Z",
     "shell.execute_reply": "2025-03-19T18:47:51.418492Z"
    },
    "papermill": {
     "duration": 3.622032,
     "end_time": "2025-03-19T18:47:51.421049",
     "exception": false,
     "start_time": "2025-03-19T18:47:47.799017",
     "status": "completed"
    },
    "tags": []
   },
   "outputs": [
    {
     "name": "stdout",
     "output_type": "stream",
     "text": [
      "Best alpha = 5.9948\n",
      "Train f1-score = 0.9105\n",
      "Test f1-score = 0.7527\n"
     ]
    }
   ],
   "source": [
    "best_estimator = find_best_estimator(tf_idf_train, train['target'], tf_idf_test, test['target'])\n",
    "predictions = best_estimator.predict(tf_idf_Test)\n",
    "\n",
    "results = pd.DataFrame({\n",
    "    'id': df_test['id'].values,\n",
    "    'target': predictions\n",
    "})\n",
    "\n",
    "results.to_csv('predictions_tf_idf.csv', index=False)"
   ]
  },
  {
   "attachments": {
    "11a5c43f-1789-4ec2-9459-d2eb8f2d2ab5.png": {
     "image/png": "[encoded data removed]"
    },
    "2e61c45a-dd54-4bda-ad85-a1fa3e3e701c.png": {
     "image/png": "[encoded data removed]"
    }
   },
   "cell_type": "markdown",
   "id": "b7f428df",
   "metadata": {
    "papermill": {
     "duration": 0.012515,
     "end_time": "2025-03-19T18:47:51.446722",
     "exception": false,
     "start_time": "2025-03-19T18:47:51.434207",
     "status": "completed"
    },
    "tags": []
   },
   "source": [
    "### Score\n",
    "![image.png](attachment:2e61c45a-dd54-4bda-ad85-a1fa3e3e701c.png)"
   ]
  },
  {
   "cell_type": "markdown",
   "id": "c66cda89",
   "metadata": {
    "papermill": {
     "duration": 0.011013,
     "end_time": "2025-03-19T18:47:51.470304",
     "exception": false,
     "start_time": "2025-03-19T18:47:51.459291",
     "status": "completed"
    },
    "tags": []
   },
   "source": [
    "# RNN, LSTM"
   ]
  },
  {
   "cell_type": "markdown",
   "id": "7318d8ba",
   "metadata": {
    "papermill": {
     "duration": 0.006662,
     "end_time": "2025-03-19T18:47:51.484225",
     "exception": false,
     "start_time": "2025-03-19T18:47:51.477563",
     "status": "completed"
    },
    "tags": []
   },
   "source": [
    "The same td-idf dataset was used as the date, no other vector representations were used, which is possible (and knowing the result, I think that's for sure) it will affect the result"
   ]
  },
  {
   "cell_type": "code",
   "execution_count": 11,
   "id": "c1beb9c1",
   "metadata": {
    "execution": {
     "iopub.execute_input": "2025-03-19T18:47:51.499017Z",
     "iopub.status.busy": "2025-03-19T18:47:51.498671Z",
     "iopub.status.idle": "2025-03-19T18:47:51.875531Z",
     "shell.execute_reply": "2025-03-19T18:47:51.874525Z"
    },
    "papermill": {
     "duration": 0.386169,
     "end_time": "2025-03-19T18:47:51.877293",
     "exception": false,
     "start_time": "2025-03-19T18:47:51.491124",
     "status": "completed"
    },
    "tags": []
   },
   "outputs": [],
   "source": [
    "X_train_tensor = torch.tensor(tf_idf_train.toarray(), dtype=torch.float32).unsqueeze(1)\n",
    "X_val_tensor = torch.tensor(tf_idf_test.toarray(), dtype=torch.float32).unsqueeze(1)\n",
    "y_train_tensor = torch.tensor(train['target'].values, dtype=torch.long)\n",
    "y_val_tensor = torch.tensor(test['target'], dtype=torch.long)\n",
    "\n",
    "train_dataset = TensorDataset(X_train_tensor, y_train_tensor)\n",
    "val_dataset = TensorDataset(X_val_tensor, y_val_tensor)\n",
    "train_loader = DataLoader(train_dataset, batch_size=32, shuffle=True)\n",
    "val_loader = DataLoader(val_dataset, batch_size=32, shuffle=False)"
   ]
  },
  {
   "cell_type": "code",
   "execution_count": 12,
   "id": "dd06b0cd",
   "metadata": {
    "execution": {
     "iopub.execute_input": "2025-03-19T18:47:51.897556Z",
     "iopub.status.busy": "2025-03-19T18:47:51.897284Z",
     "iopub.status.idle": "2025-03-19T18:47:51.903570Z",
     "shell.execute_reply": "2025-03-19T18:47:51.902791Z"
    },
    "papermill": {
     "duration": 0.015247,
     "end_time": "2025-03-19T18:47:51.904908",
     "exception": false,
     "start_time": "2025-03-19T18:47:51.889661",
     "status": "completed"
    },
    "tags": []
   },
   "outputs": [],
   "source": [
    "class RNNClassifier(nn.Module):\n",
    "    def __init__(self, input_dim, hidden_dim, output_dim, num_layers, dropout_rate= 0.3):\n",
    "        super(RNNClassifier, self).__init__()\n",
    "        self.rnn = nn.RNN(input_dim, hidden_dim, num_layers, batch_first=True)\n",
    "        self.fc = nn.Linear(hidden_dim, output_dim)\n",
    "        self.dropout = nn.Dropout(dropout_rate)\n",
    "\n",
    "    def forward(self, x):\n",
    "        _, hn = self.rnn(x)\n",
    "        out = self.dropout(hn[-1])\n",
    "        out = self.fc(out)\n",
    "        return out\n",
    "\n",
    "class LSTMClassifier(nn.Module):\n",
    "    def __init__(self, input_dim, hidden_dim, output_dim, num_layers, dropout_rate= 0.3):\n",
    "        super(LSTMClassifier, self).__init__()\n",
    "        self.lstm = nn.LSTM(input_dim, hidden_dim, num_layers, batch_first=True)\n",
    "        self.fc = nn.Linear(hidden_dim, output_dim)\n",
    "        self.dropout = nn.Dropout(dropout_rate)\n",
    "\n",
    "    def forward(self, x):\n",
    "        _, (hn, _) = self.lstm(x)\n",
    "        out = self.dropout(hn[-1])\n",
    "        out = self.fc(out)\n",
    "        return out"
   ]
  },
  {
   "cell_type": "code",
   "execution_count": 13,
   "id": "fd497dbc",
   "metadata": {
    "execution": {
     "iopub.execute_input": "2025-03-19T18:47:51.919401Z",
     "iopub.status.busy": "2025-03-19T18:47:51.919126Z",
     "iopub.status.idle": "2025-03-19T18:47:51.923463Z",
     "shell.execute_reply": "2025-03-19T18:47:51.922656Z"
    },
    "papermill": {
     "duration": 0.012967,
     "end_time": "2025-03-19T18:47:51.924759",
     "exception": false,
     "start_time": "2025-03-19T18:47:51.911792",
     "status": "completed"
    },
    "tags": []
   },
   "outputs": [],
   "source": [
    "def train_model(model, train_loader, num_epochs=10):\n",
    "    criterion = nn.CrossEntropyLoss()\n",
    "    optimizer = optim.Adam(model.parameters(), lr=0.001)\n",
    "    for epoch in range(num_epochs):\n",
    "        model.train()\n",
    "        for batch_X, batch_y in train_loader:\n",
    "            optimizer.zero_grad()\n",
    "            outputs = model(batch_X)\n",
    "            loss = criterion(outputs, batch_y)\n",
    "            loss.backward()\n",
    "            optimizer.step()\n",
    "        print(f'Epoch {epoch+1}, Loss: {loss.item()}')\n",
    "    return model"
   ]
  },
  {
   "cell_type": "code",
   "execution_count": 14,
   "id": "d2a33aed",
   "metadata": {
    "execution": {
     "iopub.execute_input": "2025-03-19T18:47:51.940158Z",
     "iopub.status.busy": "2025-03-19T18:47:51.939950Z",
     "iopub.status.idle": "2025-03-19T18:47:51.975812Z",
     "shell.execute_reply": "2025-03-19T18:47:51.975090Z"
    },
    "papermill": {
     "duration": 0.044634,
     "end_time": "2025-03-19T18:47:51.977160",
     "exception": false,
     "start_time": "2025-03-19T18:47:51.932526",
     "status": "completed"
    },
    "tags": []
   },
   "outputs": [],
   "source": [
    "input_dim = X_train_tensor.shape[2]\n",
    "hidden_dim = 128\n",
    "output_dim = 2\n",
    "num_layers = 2\n",
    "\n",
    "rnn_model = RNNClassifier(input_dim, hidden_dim, output_dim, num_layers)\n",
    "lstm_model = LSTMClassifier(input_dim, hidden_dim, output_dim, num_layers)"
   ]
  },
  {
   "cell_type": "code",
   "execution_count": 15,
   "id": "69d50f19",
   "metadata": {
    "execution": {
     "iopub.execute_input": "2025-03-19T18:47:51.991983Z",
     "iopub.status.busy": "2025-03-19T18:47:51.991772Z",
     "iopub.status.idle": "2025-03-19T18:47:59.362199Z",
     "shell.execute_reply": "2025-03-19T18:47:59.361049Z"
    },
    "papermill": {
     "duration": 7.379448,
     "end_time": "2025-03-19T18:47:59.363797",
     "exception": false,
     "start_time": "2025-03-19T18:47:51.984349",
     "status": "completed"
    },
    "tags": []
   },
   "outputs": [
    {
     "name": "stdout",
     "output_type": "stream",
     "text": [
      "Epoch 1, Loss: 0.32328519225120544\n",
      "Epoch 2, Loss: 0.18187911808490753\n",
      "Epoch 3, Loss: 0.1859659105539322\n",
      "Epoch 4, Loss: 0.21242254972457886\n",
      "Epoch 5, Loss: 0.050800226628780365\n",
      "Epoch 6, Loss: 0.20191150903701782\n",
      "Epoch 7, Loss: 0.02817641757428646\n",
      "Epoch 8, Loss: 0.07127170264720917\n",
      "Epoch 9, Loss: 0.42838725447654724\n",
      "Epoch 10, Loss: 0.00911568384617567\n"
     ]
    }
   ],
   "source": [
    "rnn_trained = train_model(rnn_model, train_loader)"
   ]
  },
  {
   "cell_type": "code",
   "execution_count": 16,
   "id": "3298433b",
   "metadata": {
    "execution": {
     "iopub.execute_input": "2025-03-19T18:47:59.380095Z",
     "iopub.status.busy": "2025-03-19T18:47:59.379853Z",
     "iopub.status.idle": "2025-03-19T18:49:12.915948Z",
     "shell.execute_reply": "2025-03-19T18:49:12.914951Z"
    },
    "papermill": {
     "duration": 73.551587,
     "end_time": "2025-03-19T18:49:12.923442",
     "exception": false,
     "start_time": "2025-03-19T18:47:59.371855",
     "status": "completed"
    },
    "tags": []
   },
   "outputs": [
    {
     "name": "stdout",
     "output_type": "stream",
     "text": [
      "Epoch 1, Loss: 0.7924928069114685\n",
      "Epoch 2, Loss: 0.5216608643531799\n",
      "Epoch 3, Loss: 0.5089721083641052\n",
      "Epoch 4, Loss: 0.17822101712226868\n",
      "Epoch 5, Loss: 0.06196733936667442\n",
      "Epoch 6, Loss: 0.0345333069562912\n",
      "Epoch 7, Loss: 0.04886048287153244\n",
      "Epoch 8, Loss: 0.05365728214383125\n",
      "Epoch 9, Loss: 0.34293943643569946\n",
      "Epoch 10, Loss: 0.18426741659641266\n"
     ]
    }
   ],
   "source": [
    "lstm_trained = train_model(lstm_model, train_loader)"
   ]
  },
  {
   "cell_type": "code",
   "execution_count": 17,
   "id": "be6c2218",
   "metadata": {
    "execution": {
     "iopub.execute_input": "2025-03-19T18:49:12.940453Z",
     "iopub.status.busy": "2025-03-19T18:49:12.940100Z",
     "iopub.status.idle": "2025-03-19T18:49:13.120732Z",
     "shell.execute_reply": "2025-03-19T18:49:13.119766Z"
    },
    "papermill": {
     "duration": 0.190974,
     "end_time": "2025-03-19T18:49:13.122512",
     "exception": false,
     "start_time": "2025-03-19T18:49:12.931538",
     "status": "completed"
    },
    "tags": []
   },
   "outputs": [],
   "source": [
    "def evaluate_model(model, X_val_tensor, y_val_tensor):\n",
    "    with torch.no_grad():\n",
    "        outputs = model(X_val_tensor)\n",
    "        predictions = torch.argmax(outputs, dim=1)\n",
    "        f1 = f1_score(y_val_tensor.numpy(), predictions.numpy())\n",
    "    return f1\n",
    "\n",
    "rnn_f1 = evaluate_model(rnn_trained, X_val_tensor, y_val_tensor)\n",
    "lstm_f1 = evaluate_model(lstm_trained, X_val_tensor, y_val_tensor)"
   ]
  },
  {
   "cell_type": "code",
   "execution_count": 18,
   "id": "0fdbf159",
   "metadata": {
    "execution": {
     "iopub.execute_input": "2025-03-19T18:49:13.139746Z",
     "iopub.status.busy": "2025-03-19T18:49:13.139475Z",
     "iopub.status.idle": "2025-03-19T18:49:13.143558Z",
     "shell.execute_reply": "2025-03-19T18:49:13.142876Z"
    },
    "papermill": {
     "duration": 0.013847,
     "end_time": "2025-03-19T18:49:13.144741",
     "exception": false,
     "start_time": "2025-03-19T18:49:13.130894",
     "status": "completed"
    },
    "tags": []
   },
   "outputs": [
    {
     "name": "stdout",
     "output_type": "stream",
     "text": [
      "0.6841593780369291\n",
      "0.6914103923647932\n"
     ]
    }
   ],
   "source": [
    "print(rnn_f1)\n",
    "print(lstm_f1)"
   ]
  },
  {
   "cell_type": "markdown",
   "id": "c617d730",
   "metadata": {
    "papermill": {
     "duration": 0.007499,
     "end_time": "2025-03-19T18:49:13.160068",
     "exception": false,
     "start_time": "2025-03-19T18:49:13.152569",
     "status": "completed"
    },
    "tags": []
   },
   "source": [
    "LSTM has better results so let's submit it"
   ]
  },
  {
   "cell_type": "code",
   "execution_count": 19,
   "id": "7088d0f4",
   "metadata": {
    "execution": {
     "iopub.execute_input": "2025-03-19T18:49:13.176242Z",
     "iopub.status.busy": "2025-03-19T18:49:13.175966Z",
     "iopub.status.idle": "2025-03-19T18:49:13.521889Z",
     "shell.execute_reply": "2025-03-19T18:49:13.521116Z"
    },
    "papermill": {
     "duration": 0.355834,
     "end_time": "2025-03-19T18:49:13.523498",
     "exception": false,
     "start_time": "2025-03-19T18:49:13.167664",
     "status": "completed"
    },
    "tags": []
   },
   "outputs": [],
   "source": [
    "X_test_tensor = torch.tensor(tf_idf_Test.toarray(), dtype=torch.float32).unsqueeze(1)\n",
    "with torch.no_grad():\n",
    "    predictions = lstm_trained(X_test_tensor).argmax(dim=1).numpy()\n",
    "\n",
    "results = pd.DataFrame({\n",
    "    'id': df_test['id'].values,\n",
    "    'target': predictions\n",
    "})\n",
    "\n",
    "results.to_csv('predictions_lstm.csv', index=False)"
   ]
  },
  {
   "attachments": {
    "fbf71b56-b124-48b1-bef8-e4c201670e7c.png": {
     "image/png": "[encoded data removed]"
    }
   },
   "cell_type": "markdown",
   "id": "b8e64e35",
   "metadata": {
    "papermill": {
     "duration": 0.007745,
     "end_time": "2025-03-19T18:49:13.539428",
     "exception": false,
     "start_time": "2025-03-19T18:49:13.531683",
     "status": "completed"
    },
    "tags": []
   },
   "source": [
    "### Score\n",
    "![image.png](attachment:fbf71b56-b124-48b1-bef8-e4c201670e7c.png)"
   ]
  },
  {
   "cell_type": "markdown",
   "id": "00ac6c02",
   "metadata": {
    "papermill": {
     "duration": 0.007613,
     "end_time": "2025-03-19T18:49:13.554715",
     "exception": false,
     "start_time": "2025-03-19T18:49:13.547102",
     "status": "completed"
    },
    "tags": []
   },
   "source": [
    "# Pre-trained model"
   ]
  },
  {
   "cell_type": "markdown",
   "id": "e71ecdcb",
   "metadata": {
    "papermill": {
     "duration": 0.007573,
     "end_time": "2025-03-19T18:49:13.570092",
     "exception": false,
     "start_time": "2025-03-19T18:49:13.562519",
     "status": "completed"
    },
    "tags": []
   },
   "source": [
    "I chose Roberta as the pretrained model, as it is not particularly difficult to use, and it is also claimed to be better than the usual Bert\n",
    "\n",
    "RobertaTokenizer was also used, as it is more convenient this way."
   ]
  },
  {
   "cell_type": "code",
   "execution_count": 20,
   "id": "2a629ca7",
   "metadata": {
    "execution": {
     "iopub.execute_input": "2025-03-19T18:49:13.586554Z",
     "iopub.status.busy": "2025-03-19T18:49:13.586257Z",
     "iopub.status.idle": "2025-03-19T18:49:19.803627Z",
     "shell.execute_reply": "2025-03-19T18:49:19.802618Z"
    },
    "papermill": {
     "duration": 6.227561,
     "end_time": "2025-03-19T18:49:19.805312",
     "exception": false,
     "start_time": "2025-03-19T18:49:13.577751",
     "status": "completed"
    },
    "tags": []
   },
   "outputs": [
    {
     "data": {
      "application/vnd.jupyter.widget-view+json": {
       "model_id": "ef41596a91094dcfae21ec0bba1e8fcb",
       "version_major": 2,
       "version_minor": 0
      },
      "text/plain": [
       "tokenizer_config.json:   0%|          | 0.00/25.0 [00:00<?, ?B/s]"
      ]
     },
     "metadata": {},
     "output_type": "display_data"
    },
    {
     "data": {
      "application/vnd.jupyter.widget-view+json": {
       "model_id": "596da3ad578e490288ec663e5f738fed",
       "version_major": 2,
       "version_minor": 0
      },
      "text/plain": [
       "vocab.json:   0%|          | 0.00/899k [00:00<?, ?B/s]"
      ]
     },
     "metadata": {},
     "output_type": "display_data"
    },
    {
     "data": {
      "application/vnd.jupyter.widget-view+json": {
       "model_id": "302b7becb7804ccab3d853e44b5bfb6a",
       "version_major": 2,
       "version_minor": 0
      },
      "text/plain": [
       "merges.txt:   0%|          | 0.00/456k [00:00<?, ?B/s]"
      ]
     },
     "metadata": {},
     "output_type": "display_data"
    },
    {
     "data": {
      "application/vnd.jupyter.widget-view+json": {
       "model_id": "4cf9fc350d3340deb8d0b9e8f49b0d7a",
       "version_major": 2,
       "version_minor": 0
      },
      "text/plain": [
       "tokenizer.json:   0%|          | 0.00/1.36M [00:00<?, ?B/s]"
      ]
     },
     "metadata": {},
     "output_type": "display_data"
    },
    {
     "data": {
      "application/vnd.jupyter.widget-view+json": {
       "model_id": "634bdebb09f748c7b355300de2248c34",
       "version_major": 2,
       "version_minor": 0
      },
      "text/plain": [
       "config.json:   0%|          | 0.00/481 [00:00<?, ?B/s]"
      ]
     },
     "metadata": {},
     "output_type": "display_data"
    }
   ],
   "source": [
    "tokenizer = RobertaTokenizer.from_pretrained('roberta-base')\n",
    "\n",
    "train_encodings = tokenizer(train['text'].tolist(), padding=True, truncation=True, return_tensors='pt')\n",
    "test_encodings = tokenizer(test['text'].tolist(), padding=True, truncation=True, return_tensors='pt')\n",
    "predict_encodings = tokenizer(df_test['text'].tolist(), padding=True, truncation=True, return_tensors='pt')"
   ]
  },
  {
   "cell_type": "code",
   "execution_count": 21,
   "id": "43cf1974",
   "metadata": {
    "execution": {
     "iopub.execute_input": "2025-03-19T18:49:19.823384Z",
     "iopub.status.busy": "2025-03-19T18:49:19.823077Z",
     "iopub.status.idle": "2025-03-19T18:49:19.828443Z",
     "shell.execute_reply": "2025-03-19T18:49:19.827768Z"
    },
    "papermill": {
     "duration": 0.015457,
     "end_time": "2025-03-19T18:49:19.829658",
     "exception": false,
     "start_time": "2025-03-19T18:49:19.814201",
     "status": "completed"
    },
    "tags": []
   },
   "outputs": [],
   "source": [
    "class NewsDataset(torch.utils.data.Dataset):\n",
    "   def __init__(self, encodings, labels=None):\n",
    "       self.encodings = encodings\n",
    "       self.labels = labels\n",
    "\n",
    "   def __getitem__(self, idx):\n",
    "       item = {key: val[idx] for key, val in self.encodings.items()}\n",
    "       if self.labels is not None:\n",
    "           item['labels'] = torch.tensor(self.labels[idx])\n",
    "       return item\n",
    "\n",
    "   def __len__(self):\n",
    "       return len(self.labels) if self.labels is not None else len(self.encodings['input_ids'])\n",
    "\n",
    "train_dataset = NewsDataset(train_encodings, train['target'].tolist())\n",
    "test_dataset = NewsDataset(test_encodings, test['target'].tolist())\n",
    "predict_dataset = NewsDataset(predict_encodings)"
   ]
  },
  {
   "cell_type": "code",
   "execution_count": 22,
   "id": "b24d694c",
   "metadata": {
    "execution": {
     "iopub.execute_input": "2025-03-19T18:49:19.846788Z",
     "iopub.status.busy": "2025-03-19T18:49:19.846570Z",
     "iopub.status.idle": "2025-03-19T18:49:34.949770Z",
     "shell.execute_reply": "2025-03-19T18:49:34.949000Z"
    },
    "papermill": {
     "duration": 15.113468,
     "end_time": "2025-03-19T18:49:34.951270",
     "exception": false,
     "start_time": "2025-03-19T18:49:19.837802",
     "status": "completed"
    },
    "tags": []
   },
   "outputs": [
    {
     "data": {
      "application/vnd.jupyter.widget-view+json": {
       "model_id": "e70ba9266b904180bfb7b2191f7dbc7d",
       "version_major": 2,
       "version_minor": 0
      },
      "text/plain": [
       "model.safetensors:   0%|          | 0.00/499M [00:00<?, ?B/s]"
      ]
     },
     "metadata": {},
     "output_type": "display_data"
    },
    {
     "name": "stderr",
     "output_type": "stream",
     "text": [
      "Some weights of RobertaForSequenceClassification were not initialized from the model checkpoint at roberta-base and are newly initialized: ['classifier.dense.bias', 'classifier.dense.weight', 'classifier.out_proj.bias', 'classifier.out_proj.weight']\n",
      "You should probably TRAIN this model on a down-stream task to be able to use it for predictions and inference.\n"
     ]
    }
   ],
   "source": [
    "model = RobertaForSequenceClassification.from_pretrained('roberta-base', num_labels=len(train['target'].unique()))\n",
    "\n",
    "device = torch.device(\"cuda\" if torch.cuda.is_available() else \"cpu\")\n",
    "model.to(device)\n",
    "\n",
    "optimizer = optim.Adam(model.parameters(), lr=2e-5)\n",
    "criterion = nn.CrossEntropyLoss()\n",
    "\n",
    "def train_model(model, train_loader, optimizer, criterion, device, epochs=10):\n",
    "    model.train()  \n",
    "    for epoch in range(epochs):\n",
    "        total_loss = 0\n",
    "        for batch in train_loader:\n",
    "            optimizer.zero_grad()\n",
    "            input_ids = batch['input_ids'].to(device)\n",
    "            attention_mask = batch['attention_mask'].to(device)\n",
    "            labels = batch['labels'].to(device)\n",
    "            outputs = model(input_ids, attention_mask=attention_mask)\n",
    "            loss = criterion(outputs.logits, labels)\n",
    "            loss.backward()\n",
    "            optimizer.step()\n",
    "            total_loss += loss.item()\n",
    "        print(f'Epoch {epoch + 1}, Loss: {total_loss / len(train_loader):.4f}')\n",
    "    return model"
   ]
  },
  {
   "cell_type": "code",
   "execution_count": 23,
   "id": "fdb94ac9",
   "metadata": {
    "execution": {
     "iopub.execute_input": "2025-03-19T18:49:34.969633Z",
     "iopub.status.busy": "2025-03-19T18:49:34.969374Z",
     "iopub.status.idle": "2025-03-19T19:05:55.109930Z",
     "shell.execute_reply": "2025-03-19T19:05:55.109164Z"
    },
    "papermill": {
     "duration": 980.151256,
     "end_time": "2025-03-19T19:05:55.111551",
     "exception": false,
     "start_time": "2025-03-19T18:49:34.960295",
     "status": "completed"
    },
    "tags": []
   },
   "outputs": [
    {
     "name": "stdout",
     "output_type": "stream",
     "text": [
      "Epoch 1, Loss: 0.4678\n",
      "Epoch 2, Loss: 0.3528\n",
      "Epoch 3, Loss: 0.2938\n",
      "Epoch 4, Loss: 0.2151\n",
      "Epoch 5, Loss: 0.1643\n",
      "Epoch 6, Loss: 0.1279\n",
      "Epoch 7, Loss: 0.0996\n",
      "Epoch 8, Loss: 0.1014\n",
      "Epoch 9, Loss: 0.0921\n",
      "Epoch 10, Loss: 0.0728\n"
     ]
    }
   ],
   "source": [
    "train_loader = DataLoader(train_dataset, batch_size=16, shuffle=True)\n",
    "test_loader = DataLoader(test_dataset, batch_size=16, shuffle=False)\n",
    "\n",
    "trained_model = train_model(model, train_loader, optimizer, criterion, device)\n",
    "trained_model.eval()\n",
    "\n",
    "all_preds = []\n",
    "all_labels = []\n",
    "\n",
    "with torch.no_grad():\n",
    "    for batch in test_loader:\n",
    "        input_ids = batch['input_ids'].to(device)\n",
    "        attention_mask = batch['attention_mask'].to(device)\n",
    "        labels = batch['labels'].to(device)\n",
    "        \n",
    "        outputs = trained_model(input_ids, attention_mask=attention_mask)\n",
    "        preds = outputs.logits.argmax(dim=1)\n",
    "        \n",
    "        all_preds.extend(preds.cpu().numpy())\n",
    "        all_labels.extend(labels.cpu().numpy())\n",
    "\n",
    "f1 = f1_score(all_labels, all_preds, average='weighted')"
   ]
  },
  {
   "cell_type": "code",
   "execution_count": 24,
   "id": "7a6e7de8",
   "metadata": {
    "execution": {
     "iopub.execute_input": "2025-03-19T19:05:55.131943Z",
     "iopub.status.busy": "2025-03-19T19:05:55.131658Z",
     "iopub.status.idle": "2025-03-19T19:05:55.136562Z",
     "shell.execute_reply": "2025-03-19T19:05:55.135593Z"
    },
    "papermill": {
     "duration": 0.016325,
     "end_time": "2025-03-19T19:05:55.137733",
     "exception": false,
     "start_time": "2025-03-19T19:05:55.121408",
     "status": "completed"
    },
    "tags": []
   },
   "outputs": [
    {
     "data": {
      "text/plain": [
       "0.7934842206476636"
      ]
     },
     "execution_count": 24,
     "metadata": {},
     "output_type": "execute_result"
    }
   ],
   "source": [
    "f1"
   ]
  },
  {
   "cell_type": "code",
   "execution_count": 25,
   "id": "b0d523f1",
   "metadata": {
    "execution": {
     "iopub.execute_input": "2025-03-19T19:05:55.157131Z",
     "iopub.status.busy": "2025-03-19T19:05:55.156865Z",
     "iopub.status.idle": "2025-03-19T19:06:13.334497Z",
     "shell.execute_reply": "2025-03-19T19:06:13.333792Z"
    },
    "papermill": {
     "duration": 18.188939,
     "end_time": "2025-03-19T19:06:13.335976",
     "exception": false,
     "start_time": "2025-03-19T19:05:55.147037",
     "status": "completed"
    },
    "tags": []
   },
   "outputs": [],
   "source": [
    "predict_loader = DataLoader(predict_dataset, batch_size=16, shuffle=False)\n",
    "\n",
    "predictions = []\n",
    "\n",
    "with torch.no_grad():\n",
    "    for batch in predict_loader:\n",
    "        input_ids = batch['input_ids'].to(device)\n",
    "        attention_mask = batch['attention_mask'].to(device)\n",
    "\n",
    "        outputs = trained_model(input_ids, attention_mask=attention_mask)\n",
    "        preds = outputs.logits.argmax(dim=1)\n",
    "        predictions.extend(preds.cpu().numpy())"
   ]
  },
  {
   "cell_type": "code",
   "execution_count": 26,
   "id": "aac63418",
   "metadata": {
    "execution": {
     "iopub.execute_input": "2025-03-19T19:06:13.355365Z",
     "iopub.status.busy": "2025-03-19T19:06:13.355058Z",
     "iopub.status.idle": "2025-03-19T19:06:13.368287Z",
     "shell.execute_reply": "2025-03-19T19:06:13.367463Z"
    },
    "papermill": {
     "duration": 0.024219,
     "end_time": "2025-03-19T19:06:13.369624",
     "exception": false,
     "start_time": "2025-03-19T19:06:13.345405",
     "status": "completed"
    },
    "tags": []
   },
   "outputs": [],
   "source": [
    "results = pd.DataFrame({\n",
    "    'id': df_test['id'].values,\n",
    "    'target': predictions\n",
    "})\n",
    "\n",
    "results.to_csv('predictions_Roberta.csv', index=False)"
   ]
  },
  {
   "attachments": {
    "b0928888-8dbc-4360-945d-00bca197e05c.png": {
     "image/png": "[encoded data removed]"
    }
   },
   "cell_type": "markdown",
   "id": "326d1cb7",
   "metadata": {
    "papermill": {
     "duration": 0.009052,
     "end_time": "2025-03-19T19:06:13.388008",
     "exception": false,
     "start_time": "2025-03-19T19:06:13.378956",
     "status": "completed"
    },
    "tags": []
   },
   "source": [
    "### Score\n",
    "![image.png](attachment:b0928888-8dbc-4360-945d-00bca197e05c.png)"
   ]
  },
  {
   "cell_type": "markdown",
   "id": "047e8447",
   "metadata": {
    "papermill": {
     "duration": 0.00866,
     "end_time": "2025-03-19T19:06:13.405686",
     "exception": false,
     "start_time": "2025-03-19T19:06:13.397026",
     "status": "completed"
    },
    "tags": []
   },
   "source": [
    "# Conclusions\n",
    "Roberta showed the best result, followed by classic ML, and neural networks trained from scratch showed the worst result.\n",
    "\n",
    "I assume that the best result without generating new features can be achieved using a pretrained model, perhaps it makes sense to take a model with a different architecture. \n",
    "It also makes sense to use manual tokenization, since the object of research is somewhat specific.\n",
    "\n",
    "In terms of difficulties, I can say that writing neural networks was not the easiest, and the quality wants to leave the best. Also, pre-trained models are quite expensive in terms of training:"
   ]
  }
 ],
 "metadata": {
  "kaggle": {
   "accelerator": "nvidiaTeslaT4",
   "dataSources": [
    {
     "databundleVersionId": 869809,
     "sourceId": 17777,
     "sourceType": "competition"
    }
   ],
   "dockerImageVersionId": 30918,
   "isGpuEnabled": true,
   "isInternetEnabled": true,
   "language": "python",
   "sourceType": "notebook"
  },
  "kernelspec": {
   "display_name": "Python 3",
   "language": "python",
   "name": "python3"
  },
  "language_info": {
   "codemirror_mode": {
    "name": "ipython",
    "version": 3
   },
   "file_extension": ".py",
   "mimetype": "text/x-python",
   "name": "python",
   "nbconvert_exporter": "python",
   "pygments_lexer": "ipython3",
   "version": "3.10.12"
  },
  "papermill": {
   "default_parameters": {},
   "duration": 1155.306669,
   "end_time": "2025-03-19T19:06:16.957141",
   "environment_variables": {},
   "exception": null,
   "input_path": "__notebook__.ipynb",
   "output_path": "__notebook__.ipynb",
   "parameters": {},
   "start_time": "2025-03-19T18:47:01.650472",
   "version": "2.6.0"
  },
  "widgets": {
   "application/vnd.jupyter.widget-state+json": {
    "state": {
     "00d2cfd440844907bd28501eb162785e": {
      "model_module": "@jupyter-widgets/controls",
      "model_module_version": "2.0.0",
      "model_name": "HTMLStyleModel",
      "state": {
       "_model_module": "@jupyter-widgets/controls",
       "_model_module_version": "2.0.0",
       "_model_name": "HTMLStyleModel",
       "_view_count": null,
       "_view_module": "@jupyter-widgets/base",
       "_view_module_version": "2.0.0",
       "_view_name": "StyleView",
       "background": null,
       "description_width": "",
       "font_size": null,
       "text_color": null
      }
     },
     "0255ae1fe22c458286209582a445748c": {
      "model_module": "@jupyter-widgets/base",
      "model_module_version": "2.0.0",
      "model_name": "LayoutModel",
      "state": {
       "_model_module": "@jupyter-widgets/base",
       "_model_module_version": "2.0.0",
       "_model_name": "LayoutModel",
       "_view_count": null,
       "_view_module": "@jupyter-widgets/base",
       "_view_module_version": "2.0.0",
       "_view_name": "LayoutView",
       "align_content": null,
       "align_items": null,
       "align_self": null,
       "border_bottom": null,
       "border_left": null,
       "border_right": null,
       "border_top": null,
       "bottom": null,
       "display": null,
       "flex": null,
       "flex_flow": null,
       "grid_area": null,
       "grid_auto_columns": null,
       "grid_auto_flow": null,
       "grid_auto_rows": null,
       "grid_column": null,
       "grid_gap": null,
       "grid_row": null,
       "grid_template_areas": null,
       "grid_template_columns": null,
       "grid_template_rows": null,
       "height": null,
       "justify_content": null,
       "justify_items": null,
       "left": null,
       "margin": null,
       "max_height": null,
       "max_width": null,
       "min_height": null,
       "min_width": null,
       "object_fit": null,
       "object_position": null,
       "order": null,
       "overflow": null,
       "padding": null,
       "right": null,
       "top": null,
       "visibility": null,
       "width": null
      }
     },
     "0cd84d2594cc4666a22ae34c1f87a753": {
      "model_module": "@jupyter-widgets/base",
      "model_module_version": "2.0.0",
      "model_name": "LayoutModel",
      "state": {
       "_model_module": "@jupyter-widgets/base",
       "_model_module_version": "2.0.0",
       "_model_name": "LayoutModel",
       "_view_count": null,
       "_view_module": "@jupyter-widgets/base",
       "_view_module_version": "2.0.0",
       "_view_name": "LayoutView",
       "align_content": null,
       "align_items": null,
       "align_self": null,
       "border_bottom": null,
       "border_left": null,
       "border_right": null,
       "border_top": null,
       "bottom": null,
       "display": null,
       "flex": null,
       "flex_flow": null,
       "grid_area": null,
       "grid_auto_columns": null,
       "grid_auto_flow": null,
       "grid_auto_rows": null,
       "grid_column": null,
       "grid_gap": null,
       "grid_row": null,
       "grid_template_areas": null,
       "grid_template_columns": null,
       "grid_template_rows": null,
       "height": null,
       "justify_content": null,
       "justify_items": null,
       "left": null,
       "margin": null,
       "max_height": null,
       "max_width": null,
       "min_height": null,
       "min_width": null,
       "object_fit": null,
       "object_position": null,
       "order": null,
       "overflow": null,
       "padding": null,
       "right": null,
       "top": null,
       "visibility": null,
       "width": null
      }
     },
     "0d04b8bd0d634c08878f2e614302a4ff": {
      "model_module": "@jupyter-widgets/controls",
      "model_module_version": "2.0.0",
      "model_name": "HTMLModel",
      "state": {
       "_dom_classes": [],
       "_model_module": "@jupyter-widgets/controls",
       "_model_module_version": "2.0.0",
       "_model_name": "HTMLModel",
       "_view_count": null,
       "_view_module": "@jupyter-widgets/controls",
       "_view_module_version": "2.0.0",
       "_view_name": "HTMLView",
       "description": "",
       "description_allow_html": false,
       "layout": "IPY_MODEL_35194ed9acc74a58b59dee7d82ebb81c",
       "placeholder": "​",
       "style": "IPY_MODEL_00d2cfd440844907bd28501eb162785e",
       "tabbable": null,
       "tooltip": null,
       "value": "model.safetensors: 100%"
      }
     },
     "0d38623df7524cc8aeb76afa5e475dc3": {
      "model_module": "@jupyter-widgets/base",
      "model_module_version": "2.0.0",
      "model_name": "LayoutModel",
      "state": {
       "_model_module": "@jupyter-widgets/base",
       "_model_module_version": "2.0.0",
       "_model_name": "LayoutModel",
       "_view_count": null,
       "_view_module": "@jupyter-widgets/base",
       "_view_module_version": "2.0.0",
       "_view_name": "LayoutView",
       "align_content": null,
       "align_items": null,
       "align_self": null,
       "border_bottom": null,
       "border_left": null,
       "border_right": null,
       "border_top": null,
       "bottom": null,
       "display": null,
       "flex": null,
       "flex_flow": null,
       "grid_area": null,
       "grid_auto_columns": null,
       "grid_auto_flow": null,
       "grid_auto_rows": null,
       "grid_column": null,
       "grid_gap": null,
       "grid_row": null,
       "grid_template_areas": null,
       "grid_template_columns": null,
       "grid_template_rows": null,
       "height": null,
       "justify_content": null,
       "justify_items": null,
       "left": null,
       "margin": null,
       "max_height": null,
       "max_width": null,
       "min_height": null,
       "min_width": null,
       "object_fit": null,
       "object_position": null,
       "order": null,
       "overflow": null,
       "padding": null,
       "right": null,
       "top": null,
       "visibility": null,
       "width": null
      }
     },
     "0f2f0fb24db5486abbcdf1b14465a522": {
      "model_module": "@jupyter-widgets/controls",
      "model_module_version": "2.0.0",
      "model_name": "FloatProgressModel",
      "state": {
       "_dom_classes": [],
       "_model_module": "@jupyter-widgets/controls",
       "_model_module_version": "2.0.0",
       "_model_name": "FloatProgressModel",
       "_view_count": null,
       "_view_module": "@jupyter-widgets/controls",
       "_view_module_version": "2.0.0",
       "_view_name": "ProgressView",
       "bar_style": "success",
       "description": "",
       "description_allow_html": false,
       "layout": "IPY_MODEL_ec2a9cb010794c02a193f7b14b3d8d07",
       "max": 481.0,
       "min": 0.0,
       "orientation": "horizontal",
       "style": "IPY_MODEL_c7768b5ee0d949b99588b73bf82d9c22",
       "tabbable": null,
       "tooltip": null,
       "value": 481.0
      }
     },
     "10f72d46ab0242518926f1dbb7fdc1c5": {
      "model_module": "@jupyter-widgets/controls",
      "model_module_version": "2.0.0",
      "model_name": "HTMLModel",
      "state": {
       "_dom_classes": [],
       "_model_module": "@jupyter-widgets/controls",
       "_model_module_version": "2.0.0",
       "_model_name": "HTMLModel",
       "_view_count": null,
       "_view_module": "@jupyter-widgets/controls",
       "_view_module_version": "2.0.0",
       "_view_name": "HTMLView",
       "description": "",
       "description_allow_html": false,
       "layout": "IPY_MODEL_0255ae1fe22c458286209582a445748c",
       "placeholder": "​",
       "style": "IPY_MODEL_db8b877193004b0bb96ae9b8e4b47430",
       "tabbable": null,
       "tooltip": null,
       "value": " 499M/499M [00:02&lt;00:00, 233MB/s]"
      }
     },
     "1373c443f8e8407881f1f8a62b9292a0": {
      "model_module": "@jupyter-widgets/controls",
      "model_module_version": "2.0.0",
      "model_name": "FloatProgressModel",
      "state": {
       "_dom_classes": [],
       "_model_module": "@jupyter-widgets/controls",
       "_model_module_version": "2.0.0",
       "_model_name": "FloatProgressModel",
       "_view_count": null,
       "_view_module": "@jupyter-widgets/controls",
       "_view_module_version": "2.0.0",
       "_view_name": "ProgressView",
       "bar_style": "success",
       "description": "",
       "description_allow_html": false,
       "layout": "IPY_MODEL_dd8507f95c644cb1b46ee8b48ef67012",
       "max": 456318.0,
       "min": 0.0,
       "orientation": "horizontal",
       "style": "IPY_MODEL_69a7ca59f88741f39bba5374e8d546b8",
       "tabbable": null,
       "tooltip": null,
       "value": 456318.0
      }
     },
     "154a8b00f5fc4358bc866c684bebadbc": {
      "model_module": "@jupyter-widgets/controls",
      "model_module_version": "2.0.0",
      "model_name": "HTMLModel",
      "state": {
       "_dom_classes": [],
       "_model_module": "@jupyter-widgets/controls",
       "_model_module_version": "2.0.0",
       "_model_name": "HTMLModel",
       "_view_count": null,
       "_view_module": "@jupyter-widgets/controls",
       "_view_module_version": "2.0.0",
       "_view_name": "HTMLView",
       "description": "",
       "description_allow_html": false,
       "layout": "IPY_MODEL_c048f9d960374c7b94e5b642e6e815aa",
       "placeholder": "​",
       "style": "IPY_MODEL_41304f0329de4c0ba5d2a5f84c7443ba",
       "tabbable": null,
       "tooltip": null,
       "value": " 899k/899k [00:00&lt;00:00, 14.3MB/s]"
      }
     },
     "1a809332536140ca93d3ca30f4429616": {
      "model_module": "@jupyter-widgets/base",
      "model_module_version": "2.0.0",
      "model_name": "LayoutModel",
      "state": {
       "_model_module": "@jupyter-widgets/base",
       "_model_module_version": "2.0.0",
       "_model_name": "LayoutModel",
       "_view_count": null,
       "_view_module": "@jupyter-widgets/base",
       "_view_module_version": "2.0.0",
       "_view_name": "LayoutView",
       "align_content": null,
       "align_items": null,
       "align_self": null,
       "border_bottom": null,
       "border_left": null,
       "border_right": null,
       "border_top": null,
       "bottom": null,
       "display": null,
       "flex": null,
       "flex_flow": null,
       "grid_area": null,
       "grid_auto_columns": null,
       "grid_auto_flow": null,
       "grid_auto_rows": null,
       "grid_column": null,
       "grid_gap": null,
       "grid_row": null,
       "grid_template_areas": null,
       "grid_template_columns": null,
       "grid_template_rows": null,
       "height": null,
       "justify_content": null,
       "justify_items": null,
       "left": null,
       "margin": null,
       "max_height": null,
       "max_width": null,
       "min_height": null,
       "min_width": null,
       "object_fit": null,
       "object_position": null,
       "order": null,
       "overflow": null,
       "padding": null,
       "right": null,
       "top": null,
       "visibility": null,
       "width": null
      }
     },
     "1b28a8baab1d432598ea1a12fe4ce4a4": {
      "model_module": "@jupyter-widgets/controls",
      "model_module_version": "2.0.0",
      "model_name": "HTMLModel",
      "state": {
       "_dom_classes": [],
       "_model_module": "@jupyter-widgets/controls",
       "_model_module_version": "2.0.0",
       "_model_name": "HTMLModel",
       "_view_count": null,
       "_view_module": "@jupyter-widgets/controls",
       "_view_module_version": "2.0.0",
       "_view_name": "HTMLView",
       "description": "",
       "description_allow_html": false,
       "layout": "IPY_MODEL_9560ccacaddc4a70b8472b15399cede3",
       "placeholder": "​",
       "style": "IPY_MODEL_8fdf91be6f92482fadd054389bdca140",
       "tabbable": null,
       "tooltip": null,
       "value": "merges.txt: 100%"
      }
     },
     "2bbec72cdb8b4ddea91b155bb2429f7e": {
      "model_module": "@jupyter-widgets/controls",
      "model_module_version": "2.0.0",
      "model_name": "HTMLModel",
      "state": {
       "_dom_classes": [],
       "_model_module": "@jupyter-widgets/controls",
       "_model_module_version": "2.0.0",
       "_model_name": "HTMLModel",
       "_view_count": null,
       "_view_module": "@jupyter-widgets/controls",
       "_view_module_version": "2.0.0",
       "_view_name": "HTMLView",
       "description": "",
       "description_allow_html": false,
       "layout": "IPY_MODEL_0d38623df7524cc8aeb76afa5e475dc3",
       "placeholder": "​",
       "style": "IPY_MODEL_7ebefc17b81c409c9c71ec467c800262",
       "tabbable": null,
       "tooltip": null,
       "value": "vocab.json: 100%"
      }
     },
     "2eecd036a325438883953e2ba3b138c0": {
      "model_module": "@jupyter-widgets/base",
      "model_module_version": "2.0.0",
      "model_name": "LayoutModel",
      "state": {
       "_model_module": "@jupyter-widgets/base",
       "_model_module_version": "2.0.0",
       "_model_name": "LayoutModel",
       "_view_count": null,
       "_view_module": "@jupyter-widgets/base",
       "_view_module_version": "2.0.0",
       "_view_name": "LayoutView",
       "align_content": null,
       "align_items": null,
       "align_self": null,
       "border_bottom": null,
       "border_left": null,
       "border_right": null,
       "border_top": null,
       "bottom": null,
       "display": null,
       "flex": null,
       "flex_flow": null,
       "grid_area": null,
       "grid_auto_columns": null,
       "grid_auto_flow": null,
       "grid_auto_rows": null,
       "grid_column": null,
       "grid_gap": null,
       "grid_row": null,
       "grid_template_areas": null,
       "grid_template_columns": null,
       "grid_template_rows": null,
       "height": null,
       "justify_content": null,
       "justify_items": null,
       "left": null,
       "margin": null,
       "max_height": null,
       "max_width": null,
       "min_height": null,
       "min_width": null,
       "object_fit": null,
       "object_position": null,
       "order": null,
       "overflow": null,
       "padding": null,
       "right": null,
       "top": null,
       "visibility": null,
       "width": null
      }
     },
     "302b7becb7804ccab3d853e44b5bfb6a": {
      "model_module": "@jupyter-widgets/controls",
      "model_module_version": "2.0.0",
      "model_name": "HBoxModel",
      "state": {
       "_dom_classes": [],
       "_model_module": "@jupyter-widgets/controls",
       "_model_module_version": "2.0.0",
       "_model_name": "HBoxModel",
       "_view_count": null,
       "_view_module": "@jupyter-widgets/controls",
       "_view_module_version": "2.0.0",
       "_view_name": "HBoxView",
       "box_style": "",
       "children": [
        "IPY_MODEL_1b28a8baab1d432598ea1a12fe4ce4a4",
        "IPY_MODEL_1373c443f8e8407881f1f8a62b9292a0",
        "IPY_MODEL_7cd998aed8344f9f968fe710501f8aa0"
       ],
       "layout": "IPY_MODEL_40fd97ba2a874ecc8a6e205b19204092",
       "tabbable": null,
       "tooltip": null
      }
     },
     "35194ed9acc74a58b59dee7d82ebb81c": {
      "model_module": "@jupyter-widgets/base",
      "model_module_version": "2.0.0",
      "model_name": "LayoutModel",
      "state": {
       "_model_module": "@jupyter-widgets/base",
       "_model_module_version": "2.0.0",
       "_model_name": "LayoutModel",
       "_view_count": null,
       "_view_module": "@jupyter-widgets/base",
       "_view_module_version": "2.0.0",
       "_view_name": "LayoutView",
       "align_content": null,
       "align_items": null,
       "align_self": null,
       "border_bottom": null,
       "border_left": null,
       "border_right": null,
       "border_top": null,
       "bottom": null,
       "display": null,
       "flex": null,
       "flex_flow": null,
       "grid_area": null,
       "grid_auto_columns": null,
       "grid_auto_flow": null,
       "grid_auto_rows": null,
       "grid_column": null,
       "grid_gap": null,
       "grid_row": null,
       "grid_template_areas": null,
       "grid_template_columns": null,
       "grid_template_rows": null,
       "height": null,
       "justify_content": null,
       "justify_items": null,
       "left": null,
       "margin": null,
       "max_height": null,
       "max_width": null,
       "min_height": null,
       "min_width": null,
       "object_fit": null,
       "object_position": null,
       "order": null,
       "overflow": null,
       "padding": null,
       "right": null,
       "top": null,
       "visibility": null,
       "width": null
      }
     },
     "36479a9b0428492ebfacf27c54b90f83": {
      "model_module": "@jupyter-widgets/base",
      "model_module_version": "2.0.0",
      "model_name": "LayoutModel",
      "state": {
       "_model_module": "@jupyter-widgets/base",
       "_model_module_version": "2.0.0",
       "_model_name": "LayoutModel",
       "_view_count": null,
       "_view_module": "@jupyter-widgets/base",
       "_view_module_version": "2.0.0",
       "_view_name": "LayoutView",
       "align_content": null,
       "align_items": null,
       "align_self": null,
       "border_bottom": null,
       "border_left": null,
       "border_right": null,
       "border_top": null,
       "bottom": null,
       "display": null,
       "flex": null,
       "flex_flow": null,
       "grid_area": null,
       "grid_auto_columns": null,
       "grid_auto_flow": null,
       "grid_auto_rows": null,
       "grid_column": null,
       "grid_gap": null,
       "grid_row": null,
       "grid_template_areas": null,
       "grid_template_columns": null,
       "grid_template_rows": null,
       "height": null,
       "justify_content": null,
       "justify_items": null,
       "left": null,
       "margin": null,
       "max_height": null,
       "max_width": null,
       "min_height": null,
       "min_width": null,
       "object_fit": null,
       "object_position": null,
       "order": null,
       "overflow": null,
       "padding": null,
       "right": null,
       "top": null,
       "visibility": null,
       "width": null
      }
     },
     "364ba6d136f5483c883d5e1130044270": {
      "model_module": "@jupyter-widgets/controls",
      "model_module_version": "2.0.0",
      "model_name": "HTMLModel",
      "state": {
       "_dom_classes": [],
       "_model_module": "@jupyter-widgets/controls",
       "_model_module_version": "2.0.0",
       "_model_name": "HTMLModel",
       "_view_count": null,
       "_view_module": "@jupyter-widgets/controls",
       "_view_module_version": "2.0.0",
       "_view_name": "HTMLView",
       "description": "",
       "description_allow_html": false,
       "layout": "IPY_MODEL_d889d019b71a4056a2506f94a0d6e23d",
       "placeholder": "​",
       "style": "IPY_MODEL_755f1a335107491796c196876d7b2c09",
       "tabbable": null,
       "tooltip": null,
       "value": " 25.0/25.0 [00:00&lt;00:00, 2.51kB/s]"
      }
     },
     "374e6b85af2340f1820efbc20a3cdec2": {
      "model_module": "@jupyter-widgets/controls",
      "model_module_version": "2.0.0",
      "model_name": "HTMLStyleModel",
      "state": {
       "_model_module": "@jupyter-widgets/controls",
       "_model_module_version": "2.0.0",
       "_model_name": "HTMLStyleModel",
       "_view_count": null,
       "_view_module": "@jupyter-widgets/base",
       "_view_module_version": "2.0.0",
       "_view_name": "StyleView",
       "background": null,
       "description_width": "",
       "font_size": null,
       "text_color": null
      }
     },
     "3a42a77afa0d4a57ba3fc36bc9a5e8d2": {
      "model_module": "@jupyter-widgets/controls",
      "model_module_version": "2.0.0",
      "model_name": "HTMLStyleModel",
      "state": {
       "_model_module": "@jupyter-widgets/controls",
       "_model_module_version": "2.0.0",
       "_model_name": "HTMLStyleModel",
       "_view_count": null,
       "_view_module": "@jupyter-widgets/base",
       "_view_module_version": "2.0.0",
       "_view_name": "StyleView",
       "background": null,
       "description_width": "",
       "font_size": null,
       "text_color": null
      }
     },
     "40fd97ba2a874ecc8a6e205b19204092": {
      "model_module": "@jupyter-widgets/base",
      "model_module_version": "2.0.0",
      "model_name": "LayoutModel",
      "state": {
       "_model_module": "@jupyter-widgets/base",
       "_model_module_version": "2.0.0",
       "_model_name": "LayoutModel",
       "_view_count": null,
       "_view_module": "@jupyter-widgets/base",
       "_view_module_version": "2.0.0",
       "_view_name": "LayoutView",
       "align_content": null,
       "align_items": null,
       "align_self": null,
       "border_bottom": null,
       "border_left": null,
       "border_right": null,
       "border_top": null,
       "bottom": null,
       "display": null,
       "flex": null,
       "flex_flow": null,
       "grid_area": null,
       "grid_auto_columns": null,
       "grid_auto_flow": null,
       "grid_auto_rows": null,
       "grid_column": null,
       "grid_gap": null,
       "grid_row": null,
       "grid_template_areas": null,
       "grid_template_columns": null,
       "grid_template_rows": null,
       "height": null,
       "justify_content": null,
       "justify_items": null,
       "left": null,
       "margin": null,
       "max_height": null,
       "max_width": null,
       "min_height": null,
       "min_width": null,
       "object_fit": null,
       "object_position": null,
       "order": null,
       "overflow": null,
       "padding": null,
       "right": null,
       "top": null,
       "visibility": null,
       "width": null
      }
     },
     "41304f0329de4c0ba5d2a5f84c7443ba": {
      "model_module": "@jupyter-widgets/controls",
      "model_module_version": "2.0.0",
      "model_name": "HTMLStyleModel",
      "state": {
       "_model_module": "@jupyter-widgets/controls",
       "_model_module_version": "2.0.0",
       "_model_name": "HTMLStyleModel",
       "_view_count": null,
       "_view_module": "@jupyter-widgets/base",
       "_view_module_version": "2.0.0",
       "_view_name": "StyleView",
       "background": null,
       "description_width": "",
       "font_size": null,
       "text_color": null
      }
     },
     "4cf9fc350d3340deb8d0b9e8f49b0d7a": {
      "model_module": "@jupyter-widgets/controls",
      "model_module_version": "2.0.0",
      "model_name": "HBoxModel",
      "state": {
       "_dom_classes": [],
       "_model_module": "@jupyter-widgets/controls",
       "_model_module_version": "2.0.0",
       "_model_name": "HBoxModel",
       "_view_count": null,
       "_view_module": "@jupyter-widgets/controls",
       "_view_module_version": "2.0.0",
       "_view_name": "HBoxView",
       "box_style": "",
       "children": [
        "IPY_MODEL_946f5450502e4e33a4985ee87e049da9",
        "IPY_MODEL_5a4722c2db20432a8d32c27d9f9d499d",
        "IPY_MODEL_5f959803ac8645f3b3d860fbdb37946c"
       ],
       "layout": "IPY_MODEL_2eecd036a325438883953e2ba3b138c0",
       "tabbable": null,
       "tooltip": null
      }
     },
     "5510741e11ea4b018be1f8747f2c4b57": {
      "model_module": "@jupyter-widgets/base",
      "model_module_version": "2.0.0",
      "model_name": "LayoutModel",
      "state": {
       "_model_module": "@jupyter-widgets/base",
       "_model_module_version": "2.0.0",
       "_model_name": "LayoutModel",
       "_view_count": null,
       "_view_module": "@jupyter-widgets/base",
       "_view_module_version": "2.0.0",
       "_view_name": "LayoutView",
       "align_content": null,
       "align_items": null,
       "align_self": null,
       "border_bottom": null,
       "border_left": null,
       "border_right": null,
       "border_top": null,
       "bottom": null,
       "display": null,
       "flex": null,
       "flex_flow": null,
       "grid_area": null,
       "grid_auto_columns": null,
       "grid_auto_flow": null,
       "grid_auto_rows": null,
       "grid_column": null,
       "grid_gap": null,
       "grid_row": null,
       "grid_template_areas": null,
       "grid_template_columns": null,
       "grid_template_rows": null,
       "height": null,
       "justify_content": null,
       "justify_items": null,
       "left": null,
       "margin": null,
       "max_height": null,
       "max_width": null,
       "min_height": null,
       "min_width": null,
       "object_fit": null,
       "object_position": null,
       "order": null,
       "overflow": null,
       "padding": null,
       "right": null,
       "top": null,
       "visibility": null,
       "width": null
      }
     },
     "58eb8aeef8a94a86ba473216026f7ba3": {
      "model_module": "@jupyter-widgets/base",
      "model_module_version": "2.0.0",
      "model_name": "LayoutModel",
      "state": {
       "_model_module": "@jupyter-widgets/base",
       "_model_module_version": "2.0.0",
       "_model_name": "LayoutModel",
       "_view_count": null,
       "_view_module": "@jupyter-widgets/base",
       "_view_module_version": "2.0.0",
       "_view_name": "LayoutView",
       "align_content": null,
       "align_items": null,
       "align_self": null,
       "border_bottom": null,
       "border_left": null,
       "border_right": null,
       "border_top": null,
       "bottom": null,
       "display": null,
       "flex": null,
       "flex_flow": null,
       "grid_area": null,
       "grid_auto_columns": null,
       "grid_auto_flow": null,
       "grid_auto_rows": null,
       "grid_column": null,
       "grid_gap": null,
       "grid_row": null,
       "grid_template_areas": null,
       "grid_template_columns": null,
       "grid_template_rows": null,
       "height": null,
       "justify_content": null,
       "justify_items": null,
       "left": null,
       "margin": null,
       "max_height": null,
       "max_width": null,
       "min_height": null,
       "min_width": null,
       "object_fit": null,
       "object_position": null,
       "order": null,
       "overflow": null,
       "padding": null,
       "right": null,
       "top": null,
       "visibility": null,
       "width": null
      }
     },
     "596da3ad578e490288ec663e5f738fed": {
      "model_module": "@jupyter-widgets/controls",
      "model_module_version": "2.0.0",
      "model_name": "HBoxModel",
      "state": {
       "_dom_classes": [],
       "_model_module": "@jupyter-widgets/controls",
       "_model_module_version": "2.0.0",
       "_model_name": "HBoxModel",
       "_view_count": null,
       "_view_module": "@jupyter-widgets/controls",
       "_view_module_version": "2.0.0",
       "_view_name": "HBoxView",
       "box_style": "",
       "children": [
        "IPY_MODEL_2bbec72cdb8b4ddea91b155bb2429f7e",
        "IPY_MODEL_72c6c841b7df448c88a9cd3850bc6391",
        "IPY_MODEL_154a8b00f5fc4358bc866c684bebadbc"
       ],
       "layout": "IPY_MODEL_876edcef8b3648039520a5c1df36cfdb",
       "tabbable": null,
       "tooltip": null
      }
     },
     "5a4722c2db20432a8d32c27d9f9d499d": {
      "model_module": "@jupyter-widgets/controls",
      "model_module_version": "2.0.0",
      "model_name": "FloatProgressModel",
      "state": {
       "_dom_classes": [],
       "_model_module": "@jupyter-widgets/controls",
       "_model_module_version": "2.0.0",
       "_model_name": "FloatProgressModel",
       "_view_count": null,
       "_view_module": "@jupyter-widgets/controls",
       "_view_module_version": "2.0.0",
       "_view_name": "ProgressView",
       "bar_style": "success",
       "description": "",
       "description_allow_html": false,
       "layout": "IPY_MODEL_e86ec08d5117457995bc807592851e3c",
       "max": 1355863.0,
       "min": 0.0,
       "orientation": "horizontal",
       "style": "IPY_MODEL_a975c251f9bd4d889d0b5d8af43c6faf",
       "tabbable": null,
       "tooltip": null,
       "value": 1355863.0
      }
     },
     "5f959803ac8645f3b3d860fbdb37946c": {
      "model_module": "@jupyter-widgets/controls",
      "model_module_version": "2.0.0",
      "model_name": "HTMLModel",
      "state": {
       "_dom_classes": [],
       "_model_module": "@jupyter-widgets/controls",
       "_model_module_version": "2.0.0",
       "_model_name": "HTMLModel",
       "_view_count": null,
       "_view_module": "@jupyter-widgets/controls",
       "_view_module_version": "2.0.0",
       "_view_name": "HTMLView",
       "description": "",
       "description_allow_html": false,
       "layout": "IPY_MODEL_bd61cb13ad3c454a9dc39ece517d3af9",
       "placeholder": "​",
       "style": "IPY_MODEL_374e6b85af2340f1820efbc20a3cdec2",
       "tabbable": null,
       "tooltip": null,
       "value": " 1.36M/1.36M [00:00&lt;00:00, 22.7MB/s]"
      }
     },
     "634bdebb09f748c7b355300de2248c34": {
      "model_module": "@jupyter-widgets/controls",
      "model_module_version": "2.0.0",
      "model_name": "HBoxModel",
      "state": {
       "_dom_classes": [],
       "_model_module": "@jupyter-widgets/controls",
       "_model_module_version": "2.0.0",
       "_model_name": "HBoxModel",
       "_view_count": null,
       "_view_module": "@jupyter-widgets/controls",
       "_view_module_version": "2.0.0",
       "_view_name": "HBoxView",
       "box_style": "",
       "children": [
        "IPY_MODEL_e6222ebdcfcb4b5cb7f364cd77973672",
        "IPY_MODEL_0f2f0fb24db5486abbcdf1b14465a522",
        "IPY_MODEL_b965d0ebfb5a4c4eb6f0714d974f57b6"
       ],
       "layout": "IPY_MODEL_58eb8aeef8a94a86ba473216026f7ba3",
       "tabbable": null,
       "tooltip": null
      }
     },
     "69a7ca59f88741f39bba5374e8d546b8": {
      "model_module": "@jupyter-widgets/controls",
      "model_module_version": "2.0.0",
      "model_name": "ProgressStyleModel",
      "state": {
       "_model_module": "@jupyter-widgets/controls",
       "_model_module_version": "2.0.0",
       "_model_name": "ProgressStyleModel",
       "_view_count": null,
       "_view_module": "@jupyter-widgets/base",
       "_view_module_version": "2.0.0",
       "_view_name": "StyleView",
       "bar_color": null,
       "description_width": ""
      }
     },
     "71d5e459574e4de6a614130e923a421a": {
      "model_module": "@jupyter-widgets/controls",
      "model_module_version": "2.0.0",
      "model_name": "HTMLStyleModel",
      "state": {
       "_model_module": "@jupyter-widgets/controls",
       "_model_module_version": "2.0.0",
       "_model_name": "HTMLStyleModel",
       "_view_count": null,
       "_view_module": "@jupyter-widgets/base",
       "_view_module_version": "2.0.0",
       "_view_name": "StyleView",
       "background": null,
       "description_width": "",
       "font_size": null,
       "text_color": null
      }
     },
     "72c6c841b7df448c88a9cd3850bc6391": {
      "model_module": "@jupyter-widgets/controls",
      "model_module_version": "2.0.0",
      "model_name": "FloatProgressModel",
      "state": {
       "_dom_classes": [],
       "_model_module": "@jupyter-widgets/controls",
       "_model_module_version": "2.0.0",
       "_model_name": "FloatProgressModel",
       "_view_count": null,
       "_view_module": "@jupyter-widgets/controls",
       "_view_module_version": "2.0.0",
       "_view_name": "ProgressView",
       "bar_style": "success",
       "description": "",
       "description_allow_html": false,
       "layout": "IPY_MODEL_36479a9b0428492ebfacf27c54b90f83",
       "max": 898823.0,
       "min": 0.0,
       "orientation": "horizontal",
       "style": "IPY_MODEL_d6965eeb851045f9a8ad61e707f767e0",
       "tabbable": null,
       "tooltip": null,
       "value": 898823.0
      }
     },
     "755f1a335107491796c196876d7b2c09": {
      "model_module": "@jupyter-widgets/controls",
      "model_module_version": "2.0.0",
      "model_name": "HTMLStyleModel",
      "state": {
       "_model_module": "@jupyter-widgets/controls",
       "_model_module_version": "2.0.0",
       "_model_name": "HTMLStyleModel",
       "_view_count": null,
       "_view_module": "@jupyter-widgets/base",
       "_view_module_version": "2.0.0",
       "_view_name": "StyleView",
       "background": null,
       "description_width": "",
       "font_size": null,
       "text_color": null
      }
     },
     "76fc5c90e2a3496d9fc4378b528b8f82": {
      "model_module": "@jupyter-widgets/base",
      "model_module_version": "2.0.0",
      "model_name": "LayoutModel",
      "state": {
       "_model_module": "@jupyter-widgets/base",
       "_model_module_version": "2.0.0",
       "_model_name": "LayoutModel",
       "_view_count": null,
       "_view_module": "@jupyter-widgets/base",
       "_view_module_version": "2.0.0",
       "_view_name": "LayoutView",
       "align_content": null,
       "align_items": null,
       "align_self": null,
       "border_bottom": null,
       "border_left": null,
       "border_right": null,
       "border_top": null,
       "bottom": null,
       "display": null,
       "flex": null,
       "flex_flow": null,
       "grid_area": null,
       "grid_auto_columns": null,
       "grid_auto_flow": null,
       "grid_auto_rows": null,
       "grid_column": null,
       "grid_gap": null,
       "grid_row": null,
       "grid_template_areas": null,
       "grid_template_columns": null,
       "grid_template_rows": null,
       "height": null,
       "justify_content": null,
       "justify_items": null,
       "left": null,
       "margin": null,
       "max_height": null,
       "max_width": null,
       "min_height": null,
       "min_width": null,
       "object_fit": null,
       "object_position": null,
       "order": null,
       "overflow": null,
       "padding": null,
       "right": null,
       "top": null,
       "visibility": null,
       "width": null
      }
     },
     "7cd998aed8344f9f968fe710501f8aa0": {
      "model_module": "@jupyter-widgets/controls",
      "model_module_version": "2.0.0",
      "model_name": "HTMLModel",
      "state": {
       "_dom_classes": [],
       "_model_module": "@jupyter-widgets/controls",
       "_model_module_version": "2.0.0",
       "_model_name": "HTMLModel",
       "_view_count": null,
       "_view_module": "@jupyter-widgets/controls",
       "_view_module_version": "2.0.0",
       "_view_name": "HTMLView",
       "description": "",
       "description_allow_html": false,
       "layout": "IPY_MODEL_0cd84d2594cc4666a22ae34c1f87a753",
       "placeholder": "​",
       "style": "IPY_MODEL_db74cfc30f194a4c8ab9f305544652e0",
       "tabbable": null,
       "tooltip": null,
       "value": " 456k/456k [00:00&lt;00:00, 2.60MB/s]"
      }
     },
     "7ebefc17b81c409c9c71ec467c800262": {
      "model_module": "@jupyter-widgets/controls",
      "model_module_version": "2.0.0",
      "model_name": "HTMLStyleModel",
      "state": {
       "_model_module": "@jupyter-widgets/controls",
       "_model_module_version": "2.0.0",
       "_model_name": "HTMLStyleModel",
       "_view_count": null,
       "_view_module": "@jupyter-widgets/base",
       "_view_module_version": "2.0.0",
       "_view_name": "StyleView",
       "background": null,
       "description_width": "",
       "font_size": null,
       "text_color": null
      }
     },
     "876edcef8b3648039520a5c1df36cfdb": {
      "model_module": "@jupyter-widgets/base",
      "model_module_version": "2.0.0",
      "model_name": "LayoutModel",
      "state": {
       "_model_module": "@jupyter-widgets/base",
       "_model_module_version": "2.0.0",
       "_model_name": "LayoutModel",
       "_view_count": null,
       "_view_module": "@jupyter-widgets/base",
       "_view_module_version": "2.0.0",
       "_view_name": "LayoutView",
       "align_content": null,
       "align_items": null,
       "align_self": null,
       "border_bottom": null,
       "border_left": null,
       "border_right": null,
       "border_top": null,
       "bottom": null,
       "display": null,
       "flex": null,
       "flex_flow": null,
       "grid_area": null,
       "grid_auto_columns": null,
       "grid_auto_flow": null,
       "grid_auto_rows": null,
       "grid_column": null,
       "grid_gap": null,
       "grid_row": null,
       "grid_template_areas": null,
       "grid_template_columns": null,
       "grid_template_rows": null,
       "height": null,
       "justify_content": null,
       "justify_items": null,
       "left": null,
       "margin": null,
       "max_height": null,
       "max_width": null,
       "min_height": null,
       "min_width": null,
       "object_fit": null,
       "object_position": null,
       "order": null,
       "overflow": null,
       "padding": null,
       "right": null,
       "top": null,
       "visibility": null,
       "width": null
      }
     },
     "8aa1912001cb4dfe994a8310c35f395d": {
      "model_module": "@jupyter-widgets/base",
      "model_module_version": "2.0.0",
      "model_name": "LayoutModel",
      "state": {
       "_model_module": "@jupyter-widgets/base",
       "_model_module_version": "2.0.0",
       "_model_name": "LayoutModel",
       "_view_count": null,
       "_view_module": "@jupyter-widgets/base",
       "_view_module_version": "2.0.0",
       "_view_name": "LayoutView",
       "align_content": null,
       "align_items": null,
       "align_self": null,
       "border_bottom": null,
       "border_left": null,
       "border_right": null,
       "border_top": null,
       "bottom": null,
       "display": null,
       "flex": null,
       "flex_flow": null,
       "grid_area": null,
       "grid_auto_columns": null,
       "grid_auto_flow": null,
       "grid_auto_rows": null,
       "grid_column": null,
       "grid_gap": null,
       "grid_row": null,
       "grid_template_areas": null,
       "grid_template_columns": null,
       "grid_template_rows": null,
       "height": null,
       "justify_content": null,
       "justify_items": null,
       "left": null,
       "margin": null,
       "max_height": null,
       "max_width": null,
       "min_height": null,
       "min_width": null,
       "object_fit": null,
       "object_position": null,
       "order": null,
       "overflow": null,
       "padding": null,
       "right": null,
       "top": null,
       "visibility": null,
       "width": null
      }
     },
     "8e5391e8eddc40509f2203d7b06e9998": {
      "model_module": "@jupyter-widgets/controls",
      "model_module_version": "2.0.0",
      "model_name": "HTMLStyleModel",
      "state": {
       "_model_module": "@jupyter-widgets/controls",
       "_model_module_version": "2.0.0",
       "_model_name": "HTMLStyleModel",
       "_view_count": null,
       "_view_module": "@jupyter-widgets/base",
       "_view_module_version": "2.0.0",
       "_view_name": "StyleView",
       "background": null,
       "description_width": "",
       "font_size": null,
       "text_color": null
      }
     },
     "8fdf91be6f92482fadd054389bdca140": {
      "model_module": "@jupyter-widgets/controls",
      "model_module_version": "2.0.0",
      "model_name": "HTMLStyleModel",
      "state": {
       "_model_module": "@jupyter-widgets/controls",
       "_model_module_version": "2.0.0",
       "_model_name": "HTMLStyleModel",
       "_view_count": null,
       "_view_module": "@jupyter-widgets/base",
       "_view_module_version": "2.0.0",
       "_view_name": "StyleView",
       "background": null,
       "description_width": "",
       "font_size": null,
       "text_color": null
      }
     },
     "92365e6d08a945da86d8be6b6cde3fa4": {
      "model_module": "@jupyter-widgets/controls",
      "model_module_version": "2.0.0",
      "model_name": "FloatProgressModel",
      "state": {
       "_dom_classes": [],
       "_model_module": "@jupyter-widgets/controls",
       "_model_module_version": "2.0.0",
       "_model_name": "FloatProgressModel",
       "_view_count": null,
       "_view_module": "@jupyter-widgets/controls",
       "_view_module_version": "2.0.0",
       "_view_name": "ProgressView",
       "bar_style": "success",
       "description": "",
       "description_allow_html": false,
       "layout": "IPY_MODEL_76fc5c90e2a3496d9fc4378b528b8f82",
       "max": 498818054.0,
       "min": 0.0,
       "orientation": "horizontal",
       "style": "IPY_MODEL_bf79629ed11547cebd0394f6bc288bd2",
       "tabbable": null,
       "tooltip": null,
       "value": 498818054.0
      }
     },
     "946f5450502e4e33a4985ee87e049da9": {
      "model_module": "@jupyter-widgets/controls",
      "model_module_version": "2.0.0",
      "model_name": "HTMLModel",
      "state": {
       "_dom_classes": [],
       "_model_module": "@jupyter-widgets/controls",
       "_model_module_version": "2.0.0",
       "_model_name": "HTMLModel",
       "_view_count": null,
       "_view_module": "@jupyter-widgets/controls",
       "_view_module_version": "2.0.0",
       "_view_name": "HTMLView",
       "description": "",
       "description_allow_html": false,
       "layout": "IPY_MODEL_e036e7b0947d44fab555043597b9471f",
       "placeholder": "​",
       "style": "IPY_MODEL_8e5391e8eddc40509f2203d7b06e9998",
       "tabbable": null,
       "tooltip": null,
       "value": "tokenizer.json: 100%"
      }
     },
     "9560ccacaddc4a70b8472b15399cede3": {
      "model_module": "@jupyter-widgets/base",
      "model_module_version": "2.0.0",
      "model_name": "LayoutModel",
      "state": {
       "_model_module": "@jupyter-widgets/base",
       "_model_module_version": "2.0.0",
       "_model_name": "LayoutModel",
       "_view_count": null,
       "_view_module": "@jupyter-widgets/base",
       "_view_module_version": "2.0.0",
       "_view_name": "LayoutView",
       "align_content": null,
       "align_items": null,
       "align_self": null,
       "border_bottom": null,
       "border_left": null,
       "border_right": null,
       "border_top": null,
       "bottom": null,
       "display": null,
       "flex": null,
       "flex_flow": null,
       "grid_area": null,
       "grid_auto_columns": null,
       "grid_auto_flow": null,
       "grid_auto_rows": null,
       "grid_column": null,
       "grid_gap": null,
       "grid_row": null,
       "grid_template_areas": null,
       "grid_template_columns": null,
       "grid_template_rows": null,
       "height": null,
       "justify_content": null,
       "justify_items": null,
       "left": null,
       "margin": null,
       "max_height": null,
       "max_width": null,
       "min_height": null,
       "min_width": null,
       "object_fit": null,
       "object_position": null,
       "order": null,
       "overflow": null,
       "padding": null,
       "right": null,
       "top": null,
       "visibility": null,
       "width": null
      }
     },
     "964a405991bf497e8ddb87393e6cb34d": {
      "model_module": "@jupyter-widgets/base",
      "model_module_version": "2.0.0",
      "model_name": "LayoutModel",
      "state": {
       "_model_module": "@jupyter-widgets/base",
       "_model_module_version": "2.0.0",
       "_model_name": "LayoutModel",
       "_view_count": null,
       "_view_module": "@jupyter-widgets/base",
       "_view_module_version": "2.0.0",
       "_view_name": "LayoutView",
       "align_content": null,
       "align_items": null,
       "align_self": null,
       "border_bottom": null,
       "border_left": null,
       "border_right": null,
       "border_top": null,
       "bottom": null,
       "display": null,
       "flex": null,
       "flex_flow": null,
       "grid_area": null,
       "grid_auto_columns": null,
       "grid_auto_flow": null,
       "grid_auto_rows": null,
       "grid_column": null,
       "grid_gap": null,
       "grid_row": null,
       "grid_template_areas": null,
       "grid_template_columns": null,
       "grid_template_rows": null,
       "height": null,
       "justify_content": null,
       "justify_items": null,
       "left": null,
       "margin": null,
       "max_height": null,
       "max_width": null,
       "min_height": null,
       "min_width": null,
       "object_fit": null,
       "object_position": null,
       "order": null,
       "overflow": null,
       "padding": null,
       "right": null,
       "top": null,
       "visibility": null,
       "width": null
      }
     },
     "a30d8b21a8474382803e2c5f302751ef": {
      "model_module": "@jupyter-widgets/controls",
      "model_module_version": "2.0.0",
      "model_name": "HTMLModel",
      "state": {
       "_dom_classes": [],
       "_model_module": "@jupyter-widgets/controls",
       "_model_module_version": "2.0.0",
       "_model_name": "HTMLModel",
       "_view_count": null,
       "_view_module": "@jupyter-widgets/controls",
       "_view_module_version": "2.0.0",
       "_view_name": "HTMLView",
       "description": "",
       "description_allow_html": false,
       "layout": "IPY_MODEL_dddfa7ef75604e2a87f5e4cd9319a7df",
       "placeholder": "​",
       "style": "IPY_MODEL_ac9561365d054d82b96690fd240d08e0",
       "tabbable": null,
       "tooltip": null,
       "value": "tokenizer_config.json: 100%"
      }
     },
     "a975c251f9bd4d889d0b5d8af43c6faf": {
      "model_module": "@jupyter-widgets/controls",
      "model_module_version": "2.0.0",
      "model_name": "ProgressStyleModel",
      "state": {
       "_model_module": "@jupyter-widgets/controls",
       "_model_module_version": "2.0.0",
       "_model_name": "ProgressStyleModel",
       "_view_count": null,
       "_view_module": "@jupyter-widgets/base",
       "_view_module_version": "2.0.0",
       "_view_name": "StyleView",
       "bar_color": null,
       "description_width": ""
      }
     },
     "ac9561365d054d82b96690fd240d08e0": {
      "model_module": "@jupyter-widgets/controls",
      "model_module_version": "2.0.0",
      "model_name": "HTMLStyleModel",
      "state": {
       "_model_module": "@jupyter-widgets/controls",
       "_model_module_version": "2.0.0",
       "_model_name": "HTMLStyleModel",
       "_view_count": null,
       "_view_module": "@jupyter-widgets/base",
       "_view_module_version": "2.0.0",
       "_view_name": "StyleView",
       "background": null,
       "description_width": "",
       "font_size": null,
       "text_color": null
      }
     },
     "b965d0ebfb5a4c4eb6f0714d974f57b6": {
      "model_module": "@jupyter-widgets/controls",
      "model_module_version": "2.0.0",
      "model_name": "HTMLModel",
      "state": {
       "_dom_classes": [],
       "_model_module": "@jupyter-widgets/controls",
       "_model_module_version": "2.0.0",
       "_model_name": "HTMLModel",
       "_view_count": null,
       "_view_module": "@jupyter-widgets/controls",
       "_view_module_version": "2.0.0",
       "_view_name": "HTMLView",
       "description": "",
       "description_allow_html": false,
       "layout": "IPY_MODEL_1a809332536140ca93d3ca30f4429616",
       "placeholder": "​",
       "style": "IPY_MODEL_3a42a77afa0d4a57ba3fc36bc9a5e8d2",
       "tabbable": null,
       "tooltip": null,
       "value": " 481/481 [00:00&lt;00:00, 47.9kB/s]"
      }
     },
     "bd61cb13ad3c454a9dc39ece517d3af9": {
      "model_module": "@jupyter-widgets/base",
      "model_module_version": "2.0.0",
      "model_name": "LayoutModel",
      "state": {
       "_model_module": "@jupyter-widgets/base",
       "_model_module_version": "2.0.0",
       "_model_name": "LayoutModel",
       "_view_count": null,
       "_view_module": "@jupyter-widgets/base",
       "_view_module_version": "2.0.0",
       "_view_name": "LayoutView",
       "align_content": null,
       "align_items": null,
       "align_self": null,
       "border_bottom": null,
       "border_left": null,
       "border_right": null,
       "border_top": null,
       "bottom": null,
       "display": null,
       "flex": null,
       "flex_flow": null,
       "grid_area": null,
       "grid_auto_columns": null,
       "grid_auto_flow": null,
       "grid_auto_rows": null,
       "grid_column": null,
       "grid_gap": null,
       "grid_row": null,
       "grid_template_areas": null,
       "grid_template_columns": null,
       "grid_template_rows": null,
       "height": null,
       "justify_content": null,
       "justify_items": null,
       "left": null,
       "margin": null,
       "max_height": null,
       "max_width": null,
       "min_height": null,
       "min_width": null,
       "object_fit": null,
       "object_position": null,
       "order": null,
       "overflow": null,
       "padding": null,
       "right": null,
       "top": null,
       "visibility": null,
       "width": null
      }
     },
     "bf79629ed11547cebd0394f6bc288bd2": {
      "model_module": "@jupyter-widgets/controls",
      "model_module_version": "2.0.0",
      "model_name": "ProgressStyleModel",
      "state": {
       "_model_module": "@jupyter-widgets/controls",
       "_model_module_version": "2.0.0",
       "_model_name": "ProgressStyleModel",
       "_view_count": null,
       "_view_module": "@jupyter-widgets/base",
       "_view_module_version": "2.0.0",
       "_view_name": "StyleView",
       "bar_color": null,
       "description_width": ""
      }
     },
     "c048f9d960374c7b94e5b642e6e815aa": {
      "model_module": "@jupyter-widgets/base",
      "model_module_version": "2.0.0",
      "model_name": "LayoutModel",
      "state": {
       "_model_module": "@jupyter-widgets/base",
       "_model_module_version": "2.0.0",
       "_model_name": "LayoutModel",
       "_view_count": null,
       "_view_module": "@jupyter-widgets/base",
       "_view_module_version": "2.0.0",
       "_view_name": "LayoutView",
       "align_content": null,
       "align_items": null,
       "align_self": null,
       "border_bottom": null,
       "border_left": null,
       "border_right": null,
       "border_top": null,
       "bottom": null,
       "display": null,
       "flex": null,
       "flex_flow": null,
       "grid_area": null,
       "grid_auto_columns": null,
       "grid_auto_flow": null,
       "grid_auto_rows": null,
       "grid_column": null,
       "grid_gap": null,
       "grid_row": null,
       "grid_template_areas": null,
       "grid_template_columns": null,
       "grid_template_rows": null,
       "height": null,
       "justify_content": null,
       "justify_items": null,
       "left": null,
       "margin": null,
       "max_height": null,
       "max_width": null,
       "min_height": null,
       "min_width": null,
       "object_fit": null,
       "object_position": null,
       "order": null,
       "overflow": null,
       "padding": null,
       "right": null,
       "top": null,
       "visibility": null,
       "width": null
      }
     },
     "c7768b5ee0d949b99588b73bf82d9c22": {
      "model_module": "@jupyter-widgets/controls",
      "model_module_version": "2.0.0",
      "model_name": "ProgressStyleModel",
      "state": {
       "_model_module": "@jupyter-widgets/controls",
       "_model_module_version": "2.0.0",
       "_model_name": "ProgressStyleModel",
       "_view_count": null,
       "_view_module": "@jupyter-widgets/base",
       "_view_module_version": "2.0.0",
       "_view_name": "StyleView",
       "bar_color": null,
       "description_width": ""
      }
     },
     "ccf7ebd42d7d48ee94c6a48683d075af": {
      "model_module": "@jupyter-widgets/base",
      "model_module_version": "2.0.0",
      "model_name": "LayoutModel",
      "state": {
       "_model_module": "@jupyter-widgets/base",
       "_model_module_version": "2.0.0",
       "_model_name": "LayoutModel",
       "_view_count": null,
       "_view_module": "@jupyter-widgets/base",
       "_view_module_version": "2.0.0",
       "_view_name": "LayoutView",
       "align_content": null,
       "align_items": null,
       "align_self": null,
       "border_bottom": null,
       "border_left": null,
       "border_right": null,
       "border_top": null,
       "bottom": null,
       "display": null,
       "flex": null,
       "flex_flow": null,
       "grid_area": null,
       "grid_auto_columns": null,
       "grid_auto_flow": null,
       "grid_auto_rows": null,
       "grid_column": null,
       "grid_gap": null,
       "grid_row": null,
       "grid_template_areas": null,
       "grid_template_columns": null,
       "grid_template_rows": null,
       "height": null,
       "justify_content": null,
       "justify_items": null,
       "left": null,
       "margin": null,
       "max_height": null,
       "max_width": null,
       "min_height": null,
       "min_width": null,
       "object_fit": null,
       "object_position": null,
       "order": null,
       "overflow": null,
       "padding": null,
       "right": null,
       "top": null,
       "visibility": null,
       "width": null
      }
     },
     "d6965eeb851045f9a8ad61e707f767e0": {
      "model_module": "@jupyter-widgets/controls",
      "model_module_version": "2.0.0",
      "model_name": "ProgressStyleModel",
      "state": {
       "_model_module": "@jupyter-widgets/controls",
       "_model_module_version": "2.0.0",
       "_model_name": "ProgressStyleModel",
       "_view_count": null,
       "_view_module": "@jupyter-widgets/base",
       "_view_module_version": "2.0.0",
       "_view_name": "StyleView",
       "bar_color": null,
       "description_width": ""
      }
     },
     "d82fb8ff8ff543dfa9a2efcccb25425a": {
      "model_module": "@jupyter-widgets/controls",
      "model_module_version": "2.0.0",
      "model_name": "FloatProgressModel",
      "state": {
       "_dom_classes": [],
       "_model_module": "@jupyter-widgets/controls",
       "_model_module_version": "2.0.0",
       "_model_name": "FloatProgressModel",
       "_view_count": null,
       "_view_module": "@jupyter-widgets/controls",
       "_view_module_version": "2.0.0",
       "_view_name": "ProgressView",
       "bar_style": "success",
       "description": "",
       "description_allow_html": false,
       "layout": "IPY_MODEL_8aa1912001cb4dfe994a8310c35f395d",
       "max": 25.0,
       "min": 0.0,
       "orientation": "horizontal",
       "style": "IPY_MODEL_f836dcc1ecc54945976c9d9a56a99e01",
       "tabbable": null,
       "tooltip": null,
       "value": 25.0
      }
     },
     "d889d019b71a4056a2506f94a0d6e23d": {
      "model_module": "@jupyter-widgets/base",
      "model_module_version": "2.0.0",
      "model_name": "LayoutModel",
      "state": {
       "_model_module": "@jupyter-widgets/base",
       "_model_module_version": "2.0.0",
       "_model_name": "LayoutModel",
       "_view_count": null,
       "_view_module": "@jupyter-widgets/base",
       "_view_module_version": "2.0.0",
       "_view_name": "LayoutView",
       "align_content": null,
       "align_items": null,
       "align_self": null,
       "border_bottom": null,
       "border_left": null,
       "border_right": null,
       "border_top": null,
       "bottom": null,
       "display": null,
       "flex": null,
       "flex_flow": null,
       "grid_area": null,
       "grid_auto_columns": null,
       "grid_auto_flow": null,
       "grid_auto_rows": null,
       "grid_column": null,
       "grid_gap": null,
       "grid_row": null,
       "grid_template_areas": null,
       "grid_template_columns": null,
       "grid_template_rows": null,
       "height": null,
       "justify_content": null,
       "justify_items": null,
       "left": null,
       "margin": null,
       "max_height": null,
       "max_width": null,
       "min_height": null,
       "min_width": null,
       "object_fit": null,
       "object_position": null,
       "order": null,
       "overflow": null,
       "padding": null,
       "right": null,
       "top": null,
       "visibility": null,
       "width": null
      }
     },
     "db74cfc30f194a4c8ab9f305544652e0": {
      "model_module": "@jupyter-widgets/controls",
      "model_module_version": "2.0.0",
      "model_name": "HTMLStyleModel",
      "state": {
       "_model_module": "@jupyter-widgets/controls",
       "_model_module_version": "2.0.0",
       "_model_name": "HTMLStyleModel",
       "_view_count": null,
       "_view_module": "@jupyter-widgets/base",
       "_view_module_version": "2.0.0",
       "_view_name": "StyleView",
       "background": null,
       "description_width": "",
       "font_size": null,
       "text_color": null
      }
     },
     "db8b877193004b0bb96ae9b8e4b47430": {
      "model_module": "@jupyter-widgets/controls",
      "model_module_version": "2.0.0",
      "model_name": "HTMLStyleModel",
      "state": {
       "_model_module": "@jupyter-widgets/controls",
       "_model_module_version": "2.0.0",
       "_model_name": "HTMLStyleModel",
       "_view_count": null,
       "_view_module": "@jupyter-widgets/base",
       "_view_module_version": "2.0.0",
       "_view_name": "StyleView",
       "background": null,
       "description_width": "",
       "font_size": null,
       "text_color": null
      }
     },
     "dd8507f95c644cb1b46ee8b48ef67012": {
      "model_module": "@jupyter-widgets/base",
      "model_module_version": "2.0.0",
      "model_name": "LayoutModel",
      "state": {
       "_model_module": "@jupyter-widgets/base",
       "_model_module_version": "2.0.0",
       "_model_name": "LayoutModel",
       "_view_count": null,
       "_view_module": "@jupyter-widgets/base",
       "_view_module_version": "2.0.0",
       "_view_name": "LayoutView",
       "align_content": null,
       "align_items": null,
       "align_self": null,
       "border_bottom": null,
       "border_left": null,
       "border_right": null,
       "border_top": null,
       "bottom": null,
       "display": null,
       "flex": null,
       "flex_flow": null,
       "grid_area": null,
       "grid_auto_columns": null,
       "grid_auto_flow": null,
       "grid_auto_rows": null,
       "grid_column": null,
       "grid_gap": null,
       "grid_row": null,
       "grid_template_areas": null,
       "grid_template_columns": null,
       "grid_template_rows": null,
       "height": null,
       "justify_content": null,
       "justify_items": null,
       "left": null,
       "margin": null,
       "max_height": null,
       "max_width": null,
       "min_height": null,
       "min_width": null,
       "object_fit": null,
       "object_position": null,
       "order": null,
       "overflow": null,
       "padding": null,
       "right": null,
       "top": null,
       "visibility": null,
       "width": null
      }
     },
     "dddfa7ef75604e2a87f5e4cd9319a7df": {
      "model_module": "@jupyter-widgets/base",
      "model_module_version": "2.0.0",
      "model_name": "LayoutModel",
      "state": {
       "_model_module": "@jupyter-widgets/base",
       "_model_module_version": "2.0.0",
       "_model_name": "LayoutModel",
       "_view_count": null,
       "_view_module": "@jupyter-widgets/base",
       "_view_module_version": "2.0.0",
       "_view_name": "LayoutView",
       "align_content": null,
       "align_items": null,
       "align_self": null,
       "border_bottom": null,
       "border_left": null,
       "border_right": null,
       "border_top": null,
       "bottom": null,
       "display": null,
       "flex": null,
       "flex_flow": null,
       "grid_area": null,
       "grid_auto_columns": null,
       "grid_auto_flow": null,
       "grid_auto_rows": null,
       "grid_column": null,
       "grid_gap": null,
       "grid_row": null,
       "grid_template_areas": null,
       "grid_template_columns": null,
       "grid_template_rows": null,
       "height": null,
       "justify_content": null,
       "justify_items": null,
       "left": null,
       "margin": null,
       "max_height": null,
       "max_width": null,
       "min_height": null,
       "min_width": null,
       "object_fit": null,
       "object_position": null,
       "order": null,
       "overflow": null,
       "padding": null,
       "right": null,
       "top": null,
       "visibility": null,
       "width": null
      }
     },
     "e036e7b0947d44fab555043597b9471f": {
      "model_module": "@jupyter-widgets/base",
      "model_module_version": "2.0.0",
      "model_name": "LayoutModel",
      "state": {
       "_model_module": "@jupyter-widgets/base",
       "_model_module_version": "2.0.0",
       "_model_name": "LayoutModel",
       "_view_count": null,
       "_view_module": "@jupyter-widgets/base",
       "_view_module_version": "2.0.0",
       "_view_name": "LayoutView",
       "align_content": null,
       "align_items": null,
       "align_self": null,
       "border_bottom": null,
       "border_left": null,
       "border_right": null,
       "border_top": null,
       "bottom": null,
       "display": null,
       "flex": null,
       "flex_flow": null,
       "grid_area": null,
       "grid_auto_columns": null,
       "grid_auto_flow": null,
       "grid_auto_rows": null,
       "grid_column": null,
       "grid_gap": null,
       "grid_row": null,
       "grid_template_areas": null,
       "grid_template_columns": null,
       "grid_template_rows": null,
       "height": null,
       "justify_content": null,
       "justify_items": null,
       "left": null,
       "margin": null,
       "max_height": null,
       "max_width": null,
       "min_height": null,
       "min_width": null,
       "object_fit": null,
       "object_position": null,
       "order": null,
       "overflow": null,
       "padding": null,
       "right": null,
       "top": null,
       "visibility": null,
       "width": null
      }
     },
     "e6222ebdcfcb4b5cb7f364cd77973672": {
      "model_module": "@jupyter-widgets/controls",
      "model_module_version": "2.0.0",
      "model_name": "HTMLModel",
      "state": {
       "_dom_classes": [],
       "_model_module": "@jupyter-widgets/controls",
       "_model_module_version": "2.0.0",
       "_model_name": "HTMLModel",
       "_view_count": null,
       "_view_module": "@jupyter-widgets/controls",
       "_view_module_version": "2.0.0",
       "_view_name": "HTMLView",
       "description": "",
       "description_allow_html": false,
       "layout": "IPY_MODEL_964a405991bf497e8ddb87393e6cb34d",
       "placeholder": "​",
       "style": "IPY_MODEL_71d5e459574e4de6a614130e923a421a",
       "tabbable": null,
       "tooltip": null,
       "value": "config.json: 100%"
      }
     },
     "e70ba9266b904180bfb7b2191f7dbc7d": {
      "model_module": "@jupyter-widgets/controls",
      "model_module_version": "2.0.0",
      "model_name": "HBoxModel",
      "state": {
       "_dom_classes": [],
       "_model_module": "@jupyter-widgets/controls",
       "_model_module_version": "2.0.0",
       "_model_name": "HBoxModel",
       "_view_count": null,
       "_view_module": "@jupyter-widgets/controls",
       "_view_module_version": "2.0.0",
       "_view_name": "HBoxView",
       "box_style": "",
       "children": [
        "IPY_MODEL_0d04b8bd0d634c08878f2e614302a4ff",
        "IPY_MODEL_92365e6d08a945da86d8be6b6cde3fa4",
        "IPY_MODEL_10f72d46ab0242518926f1dbb7fdc1c5"
       ],
       "layout": "IPY_MODEL_5510741e11ea4b018be1f8747f2c4b57",
       "tabbable": null,
       "tooltip": null
      }
     },
     "e86ec08d5117457995bc807592851e3c": {
      "model_module": "@jupyter-widgets/base",
      "model_module_version": "2.0.0",
      "model_name": "LayoutModel",
      "state": {
       "_model_module": "@jupyter-widgets/base",
       "_model_module_version": "2.0.0",
       "_model_name": "LayoutModel",
       "_view_count": null,
       "_view_module": "@jupyter-widgets/base",
       "_view_module_version": "2.0.0",
       "_view_name": "LayoutView",
       "align_content": null,
       "align_items": null,
       "align_self": null,
       "border_bottom": null,
       "border_left": null,
       "border_right": null,
       "border_top": null,
       "bottom": null,
       "display": null,
       "flex": null,
       "flex_flow": null,
       "grid_area": null,
       "grid_auto_columns": null,
       "grid_auto_flow": null,
       "grid_auto_rows": null,
       "grid_column": null,
       "grid_gap": null,
       "grid_row": null,
       "grid_template_areas": null,
       "grid_template_columns": null,
       "grid_template_rows": null,
       "height": null,
       "justify_content": null,
       "justify_items": null,
       "left": null,
       "margin": null,
       "max_height": null,
       "max_width": null,
       "min_height": null,
       "min_width": null,
       "object_fit": null,
       "object_position": null,
       "order": null,
       "overflow": null,
       "padding": null,
       "right": null,
       "top": null,
       "visibility": null,
       "width": null
      }
     },
     "ec2a9cb010794c02a193f7b14b3d8d07": {
      "model_module": "@jupyter-widgets/base",
      "model_module_version": "2.0.0",
      "model_name": "LayoutModel",
      "state": {
       "_model_module": "@jupyter-widgets/base",
       "_model_module_version": "2.0.0",
       "_model_name": "LayoutModel",
       "_view_count": null,
       "_view_module": "@jupyter-widgets/base",
       "_view_module_version": "2.0.0",
       "_view_name": "LayoutView",
       "align_content": null,
       "align_items": null,
       "align_self": null,
       "border_bottom": null,
       "border_left": null,
       "border_right": null,
       "border_top": null,
       "bottom": null,
       "display": null,
       "flex": null,
       "flex_flow": null,
       "grid_area": null,
       "grid_auto_columns": null,
       "grid_auto_flow": null,
       "grid_auto_rows": null,
       "grid_column": null,
       "grid_gap": null,
       "grid_row": null,
       "grid_template_areas": null,
       "grid_template_columns": null,
       "grid_template_rows": null,
       "height": null,
       "justify_content": null,
       "justify_items": null,
       "left": null,
       "margin": null,
       "max_height": null,
       "max_width": null,
       "min_height": null,
       "min_width": null,
       "object_fit": null,
       "object_position": null,
       "order": null,
       "overflow": null,
       "padding": null,
       "right": null,
       "top": null,
       "visibility": null,
       "width": null
      }
     },
     "ef41596a91094dcfae21ec0bba1e8fcb": {
      "model_module": "@jupyter-widgets/controls",
      "model_module_version": "2.0.0",
      "model_name": "HBoxModel",
      "state": {
       "_dom_classes": [],
       "_model_module": "@jupyter-widgets/controls",
       "_model_module_version": "2.0.0",
       "_model_name": "HBoxModel",
       "_view_count": null,
       "_view_module": "@jupyter-widgets/controls",
       "_view_module_version": "2.0.0",
       "_view_name": "HBoxView",
       "box_style": "",
       "children": [
        "IPY_MODEL_a30d8b21a8474382803e2c5f302751ef",
        "IPY_MODEL_d82fb8ff8ff543dfa9a2efcccb25425a",
        "IPY_MODEL_364ba6d136f5483c883d5e1130044270"
       ],
       "layout": "IPY_MODEL_ccf7ebd42d7d48ee94c6a48683d075af",
       "tabbable": null,
       "tooltip": null
      }
     },
     "f836dcc1ecc54945976c9d9a56a99e01": {
      "model_module": "@jupyter-widgets/controls",
      "model_module_version": "2.0.0",
      "model_name": "ProgressStyleModel",
      "state": {
       "_model_module": "@jupyter-widgets/controls",
       "_model_module_version": "2.0.0",
       "_model_name": "ProgressStyleModel",
       "_view_count": null,
       "_view_module": "@jupyter-widgets/base",
       "_view_module_version": "2.0.0",
       "_view_name": "StyleView",
       "bar_color": null,
       "description_width": ""
      }
     }
    },
    "version_major": 2,
    "version_minor": 0
   }
  }
 },
 "nbformat": 4,
 "nbformat_minor": 5
}

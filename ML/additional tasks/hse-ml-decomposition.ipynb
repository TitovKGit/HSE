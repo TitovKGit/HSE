{
 "cells": [
  {
   "cell_type": "markdown",
   "id": "5d2b952b",
   "metadata": {
    "papermill": {
     "duration": 0.002688,
     "end_time": "2024-12-07T12:40:57.060735",
     "exception": false,
     "start_time": "2024-12-07T12:40:57.058047",
     "status": "completed"
    },
    "tags": []
   },
   "source": [
    "# Cholesky decomposition"
   ]
  },
  {
   "cell_type": "code",
   "execution_count": 1,
   "id": "4c0d4e7e",
   "metadata": {
    "_cell_guid": "b1076dfc-b9ad-4769-8c92-a6c4dae69d19",
    "_uuid": "8f2839f25d086af736a60e9eeb907d3b93b6e0e5",
    "execution": {
     "iopub.execute_input": "2024-12-07T12:40:57.067273Z",
     "iopub.status.busy": "2024-12-07T12:40:57.066882Z",
     "iopub.status.idle": "2024-12-07T12:40:57.087273Z",
     "shell.execute_reply": "2024-12-07T12:40:57.086105Z"
    },
    "papermill": {
     "duration": 0.026528,
     "end_time": "2024-12-07T12:40:57.089734",
     "exception": false,
     "start_time": "2024-12-07T12:40:57.063206",
     "status": "completed"
    },
    "tags": []
   },
   "outputs": [
    {
     "name": "stdout",
     "output_type": "stream",
     "text": [
      "Matrix L:\n",
      " [[ 2.23606798  0.          0.          0.        ]\n",
      " [ 0.4472136   1.94935887  0.          0.        ]\n",
      " [ 0.89442719  0.30779351  1.4509525   0.        ]\n",
      " [ 0.4472136  -0.10259784  0.43528575  1.26491106]]\n",
      "Checking: A = L * L^T:\n",
      " [[ True  True  True  True]\n",
      " [ True  True  True  True]\n",
      " [ True  True  True  True]\n",
      " [ True  True  True  True]]\n"
     ]
    }
   ],
   "source": [
    "import numpy as np\n",
    "\n",
    "def cholesky_decomposition(A):\n",
    "    \"\"\"\n",
    "    Performs the Cholesky decomposition for a positive definite matrix A.\n",
    "    \n",
    "    :param A: Positive definite matrix\n",
    "    :return: Lower triangular matrix L such that A = L*L^T\n",
    "    \"\"\"\n",
    "    \n",
    "    n = A.shape[0]\n",
    "    L = np.zeros_like(A)\n",
    "\n",
    "    for i in range(n):\n",
    "        L[i, i] = np.sqrt(A[i, i] - np.dot(L[i, :i], L[i, :i]))\n",
    "\n",
    "        L[i+1:, i] = (A[i+1:, i] - np.dot(L[i+1:, :i], L[i, :i])) / L[i, i]\n",
    "\n",
    "    return L\n",
    "\n",
    "\n",
    "A = np.array([[5, 1, 2, 1],\n",
    "             [1, 4, 1, 0],\n",
    "             [2, 1, 3, 1],\n",
    "             [1, 0, 1, 2]], dtype= float)\n",
    "\n",
    "L = cholesky_decomposition(A)\n",
    "print(\"Matrix L:\\n\", L)\n",
    "print(\"Checking: A = L * L^T:\\n\", np.dot(L, L.T) - A < 10e-09)"
   ]
  },
  {
   "cell_type": "markdown",
   "id": "a6472168",
   "metadata": {
    "papermill": {
     "duration": 0.001924,
     "end_time": "2024-12-07T12:40:57.093980",
     "exception": false,
     "start_time": "2024-12-07T12:40:57.092056",
     "status": "completed"
    },
    "tags": []
   },
   "source": [
    "# Gelss"
   ]
  },
  {
   "cell_type": "code",
   "execution_count": 2,
   "id": "c69f6c63",
   "metadata": {
    "execution": {
     "iopub.execute_input": "2024-12-07T12:40:57.100397Z",
     "iopub.status.busy": "2024-12-07T12:40:57.099517Z",
     "iopub.status.idle": "2024-12-07T12:40:57.122663Z",
     "shell.execute_reply": "2024-12-07T12:40:57.121436Z"
    },
    "papermill": {
     "duration": 0.028893,
     "end_time": "2024-12-07T12:40:57.125008",
     "exception": false,
     "start_time": "2024-12-07T12:40:57.096115",
     "status": "completed"
    },
    "tags": []
   },
   "outputs": [
    {
     "name": "stdout",
     "output_type": "stream",
     "text": [
      "Solution x:\n",
      " [-0.11111111  1.48148148  1.62962963]\n",
      "Checking:\n",
      "Ax = [1. 2. 3. 6.]\n",
      "b = [1. 2. 3. 6.]\n"
     ]
    }
   ],
   "source": [
    "import numpy as np\n",
    "\n",
    "def gelss(A, b):\n",
    "    \"\"\"\n",
    "    Solves the least squares problem for the Ax = b system.\n",
    "    \n",
    "    :param A: Coefficient matrix\n",
    "    :param b: Right-hand side vector\n",
    "    :return: Vector x that minimizes ||Ax - b||\n",
    "    \"\"\"\n",
    "    \n",
    "    U, S, Vt = np.linalg.svd(A, full_matrices=False)\n",
    "    \n",
    "    S_inv = np.zeros_like(S)\n",
    "    for i in range(len(S)):\n",
    "        if S[i] > 1e-10:  \n",
    "            S_inv[i] = 1 / S[i]\n",
    "    \n",
    "    A_plus = Vt.T @ np.diag(S_inv) @ U.T\n",
    "    \n",
    "    x = A_plus @ b\n",
    "    return x\n",
    "\n",
    "A = np.array([[3, 2, -1],\n",
    "              [2, -4, 5],\n",
    "              [1, 1, 1],\n",
    "             [2,2,2]], dtype=float)\n",
    "b = np.array([1, 2, 3, 6], dtype=float)\n",
    "\n",
    "x = gelss(A, b)\n",
    "print(\"Solution x:\\n\", x)\n",
    "\n",
    "print(\"Checking:\\nAx =\", np.dot(A, x))\n",
    "print(\"b =\", b)"
   ]
  },
  {
   "cell_type": "markdown",
   "id": "8d450080",
   "metadata": {
    "papermill": {
     "duration": 0.002192,
     "end_time": "2024-12-07T12:40:57.129856",
     "exception": false,
     "start_time": "2024-12-07T12:40:57.127664",
     "status": "completed"
    },
    "tags": []
   },
   "source": [
    "# Gelsy"
   ]
  },
  {
   "cell_type": "code",
   "execution_count": 3,
   "id": "05dc0087",
   "metadata": {
    "execution": {
     "iopub.execute_input": "2024-12-07T12:40:57.137157Z",
     "iopub.status.busy": "2024-12-07T12:40:57.136776Z",
     "iopub.status.idle": "2024-12-07T12:40:57.511783Z",
     "shell.execute_reply": "2024-12-07T12:40:57.510354Z"
    },
    "papermill": {
     "duration": 0.382247,
     "end_time": "2024-12-07T12:40:57.515267",
     "exception": false,
     "start_time": "2024-12-07T12:40:57.133020",
     "status": "completed"
    },
    "tags": []
   },
   "outputs": [
    {
     "name": "stdout",
     "output_type": "stream",
     "text": [
      "Solution x:\n",
      " [-0.11111111  1.48148148  1.62962963]\n",
      "Verification:\n",
      " Ax = [1. 2. 3. 6.]\n",
      "b = [1. 2. 3. 6.]\n"
     ]
    }
   ],
   "source": [
    "import numpy as np\n",
    "from scipy.linalg import qr\n",
    "\n",
    "def gelsy(A, b, rcond=None):\n",
    "    \"\"\"\n",
    "    Solves the least squares problem Ax = b using QR decomposition with column pivoting.\n",
    "\n",
    "    Parameters:\n",
    "    A (ndarray): Matrix A in the equation Ax = b.\n",
    "    b (ndarray): Vector b in the equation Ax = b.\n",
    "    rcond (float, optional): Threshold for determining effective rank. Defaults to machine precision times max dimension of A.\n",
    "\n",
    "    Returns:\n",
    "    x (ndarray): Solution vector x minimizing ||Ax - b||.\n",
    "    \"\"\"\n",
    "    Q, R, P = qr(A, pivoting=True)\n",
    "\n",
    "    if rcond is None:\n",
    "        rcond = np.finfo(A.dtype).eps * max(A.shape)\n",
    "    rank = np.sum(np.abs(np.diag(R)) > rcond)\n",
    "\n",
    "    R11 = R[:rank, :rank]\n",
    "    Qt_b = Q.T @ b\n",
    "\n",
    "    y = np.zeros(R.shape[1])\n",
    "    y[:rank] = np.linalg.solve(R11, Qt_b[:rank])\n",
    "\n",
    "    x = np.zeros(R.shape[1])\n",
    "    x[P] = y\n",
    "\n",
    "    return x\n",
    "\n",
    "# Example usage\n",
    "A = np.array([[3, 2, -1],\n",
    "              [2, -4, 5],\n",
    "              [1, 1, 1],\n",
    "              [2, 2, 2]], dtype=float)\n",
    "b = np.array([1, 2, 3, 6], dtype=float)\n",
    "\n",
    "x = gelsy(A, b)\n",
    "print(\"Solution x:\\n\", x)\n",
    "\n",
    "# Verification\n",
    "print(\"Verification:\\n Ax =\", np.dot(A, x))\n",
    "print(\"b =\", b)"
   ]
  }
 ],
 "metadata": {
  "kaggle": {
   "accelerator": "none",
   "dataSources": [],
   "dockerImageVersionId": 30804,
   "isGpuEnabled": false,
   "isInternetEnabled": true,
   "language": "python",
   "sourceType": "notebook"
  },
  "kernelspec": {
   "display_name": "Python 3",
   "language": "python",
   "name": "python3"
  },
  "language_info": {
   "codemirror_mode": {
    "name": "ipython",
    "version": 3
   },
   "file_extension": ".py",
   "mimetype": "text/x-python",
   "name": "python",
   "nbconvert_exporter": "python",
   "pygments_lexer": "ipython3",
   "version": "3.10.14"
  },
  "papermill": {
   "default_parameters": {},
   "duration": 3.629554,
   "end_time": "2024-12-07T12:40:57.938518",
   "environment_variables": {},
   "exception": null,
   "input_path": "__notebook__.ipynb",
   "output_path": "__notebook__.ipynb",
   "parameters": {},
   "start_time": "2024-12-07T12:40:54.308964",
   "version": "2.6.0"
  }
 },
 "nbformat": 4,
 "nbformat_minor": 5
}

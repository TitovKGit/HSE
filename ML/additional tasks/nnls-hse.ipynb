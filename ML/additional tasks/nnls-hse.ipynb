{
 "cells": [
  {
   "cell_type": "markdown",
   "id": "bc54c8b2",
   "metadata": {
    "papermill": {
     "duration": 0.002201,
     "end_time": "2024-11-23T12:49:25.660983",
     "exception": false,
     "start_time": "2024-11-23T12:49:25.658782",
     "status": "completed"
    },
    "tags": []
   },
   "source": [
    "Напишите свою Non-Negative-Least-Squares на numpy (scipy.optimize нельзя).\r\n",
    "\r\n",
    "Подробно прокомментируйте, почему ваш алгоритм работае\n"
   ]
  },
  {
   "cell_type": "markdown",
   "id": "e62fd2a2",
   "metadata": {
    "papermill": {
     "duration": 0.001428,
     "end_time": "2024-11-23T12:49:25.664294",
     "exception": false,
     "start_time": "2024-11-23T12:49:25.662866",
     "status": "completed"
    },
    "tags": []
   },
   "source": [
    "Комментировать особо нечего, обычный спуск, с ограничением на движение в сторону нуля, "
   ]
  },
  {
   "cell_type": "code",
   "execution_count": 1,
   "id": "c6b45d43",
   "metadata": {
    "_cell_guid": "b1076dfc-b9ad-4769-8c92-a6c4dae69d19",
    "_uuid": "8f2839f25d086af736a60e9eeb907d3b93b6e0e5",
    "execution": {
     "iopub.execute_input": "2024-11-23T12:49:25.669319Z",
     "iopub.status.busy": "2024-11-23T12:49:25.668899Z",
     "iopub.status.idle": "2024-11-23T12:49:27.313870Z",
     "shell.execute_reply": "2024-11-23T12:49:27.312719Z"
    },
    "papermill": {
     "duration": 1.650426,
     "end_time": "2024-11-23T12:49:27.316246",
     "exception": false,
     "start_time": "2024-11-23T12:49:25.665820",
     "status": "completed"
    },
    "tags": []
   },
   "outputs": [
    {
     "name": "stdout",
     "output_type": "stream",
     "text": [
      "Найденные веса у NNLS: [1. 0.]\n",
      "Найденные веса у LR: [ 0.5 -0.5]\n"
     ]
    }
   ],
   "source": [
    "import numpy as np\n",
    "from sklearn.linear_model import LinearRegression\n",
    "\n",
    "class NNLS:\n",
    "    def __init__(self, max_iterations=1000, tolerance=1e-6):\n",
    "        self.max_iterations = max_iterations\n",
    "        self.tolerance = tolerance\n",
    "        self.beta = None\n",
    "\n",
    "    def fit(self, X, y):\n",
    "        n_samples, n_features = X.shape\n",
    "        self.beta = np.zeros(n_features)\n",
    "\n",
    "        for iteration in range(self.max_iterations):\n",
    "            gradient = -2 * X.T @ (y - X @ self.beta)\n",
    "\n",
    "            step_size = 2 * np.sum(X ** 2, axis=0)\n",
    "            beta_update = self.beta - gradient / step_size\n",
    "\n",
    "            mask = (self.beta > 0) | (gradient < 0)\n",
    "            self.beta = np.where(mask, beta_update, self.beta)\n",
    "            self.beta = np.maximum(0, self.beta)\n",
    "            \n",
    "            if np.linalg.norm(gradient) < self.tolerance:\n",
    "                break\n",
    "\n",
    "    def predict(self, X):\n",
    "        return X @ self.beta\n",
    "\n",
    "    def compute_mse(self, X, y):\n",
    "        return np.mean((y - self.predict(X)) ** 2)\n",
    "\n",
    "\n",
    "X = np.array([[-1, 2],\n",
    "              [-2, 3],\n",
    "              [-3, 4],\n",
    "              [-4, 5]])\n",
    "\n",
    "y = np.array([-1, -2, -3, -4])\n",
    "\n",
    "model = NNLS()\n",
    "model.fit(X, y)\n",
    "\n",
    "print(\"Найденные веса у NNLS:\", model.beta)\n",
    "\n",
    "model = LinearRegression()\n",
    "model.fit(X, y)\n",
    "\n",
    "print(\"Найденные веса у LR:\", model.coef_)"
   ]
  }
 ],
 "metadata": {
  "kaggle": {
   "accelerator": "none",
   "dataSources": [],
   "dockerImageVersionId": 30786,
   "isGpuEnabled": false,
   "isInternetEnabled": true,
   "language": "python",
   "sourceType": "notebook"
  },
  "kernelspec": {
   "display_name": "Python 3",
   "language": "python",
   "name": "python3"
  },
  "language_info": {
   "codemirror_mode": {
    "name": "ipython",
    "version": 3
   },
   "file_extension": ".py",
   "mimetype": "text/x-python",
   "name": "python",
   "nbconvert_exporter": "python",
   "pygments_lexer": "ipython3",
   "version": "3.10.14"
  },
  "papermill": {
   "default_parameters": {},
   "duration": 4.910676,
   "end_time": "2024-11-23T12:49:27.838794",
   "environment_variables": {},
   "exception": null,
   "input_path": "__notebook__.ipynb",
   "output_path": "__notebook__.ipynb",
   "parameters": {},
   "start_time": "2024-11-23T12:49:22.928118",
   "version": "2.6.0"
  }
 },
 "nbformat": 4,
 "nbformat_minor": 5
}

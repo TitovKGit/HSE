{
 "cells": [
  {
   "cell_type": "markdown",
   "id": "b7747ab4",
   "metadata": {
    "papermill": {
     "duration": 0.003648,
     "end_time": "2024-09-27T22:26:27.667843",
     "exception": false,
     "start_time": "2024-09-27T22:26:27.664195",
     "status": "completed"
    },
    "tags": []
   },
   "source": [
    "**Задача 1**: Попарные углы (1 балл)\n",
    "Даны набор векторов. Без использования циклов в Python найдите номера двух различных векторов, угол между которыми - минимален. Максимум 3 строки, соответсвующие форматированию jupyter_black."
   ]
  },
  {
   "cell_type": "code",
   "execution_count": 1,
   "id": "22081869",
   "metadata": {
    "_cell_guid": "b1076dfc-b9ad-4769-8c92-a6c4dae69d19",
    "_uuid": "8f2839f25d086af736a60e9eeb907d3b93b6e0e5",
    "execution": {
     "iopub.execute_input": "2024-09-27T22:26:27.675145Z",
     "iopub.status.busy": "2024-09-27T22:26:27.674190Z",
     "iopub.status.idle": "2024-09-27T22:26:27.695206Z",
     "shell.execute_reply": "2024-09-27T22:26:27.694108Z"
    },
    "papermill": {
     "duration": 0.027395,
     "end_time": "2024-09-27T22:26:27.697729",
     "exception": false,
     "start_time": "2024-09-27T22:26:27.670334",
     "status": "completed"
    },
    "tags": []
   },
   "outputs": [],
   "source": [
    "import numpy as np \n",
    "\n",
    "x = np.array(\n",
    "    [\n",
    "        [-1.05247805, 0.0813231, 0.94708268, -0.53371674],\n",
    "        [0.01359646, -1.43838044, 1.01326978, -0.38062482],\n",
    "        [0.30563645, 1.18997822, 0.48149476, 0.83524308],\n",
    "        [1.22609704, 1.72169283, -0.21137761, -1.21598295],\n",
    "        [0.6397264, -1.24751009, 0.03137696, 0.55576899],\n",
    "        [1.55630085, 1.2840827, -0.52525765, 2.4523538],\n",
    "        [-1.70632707, 0.45006017, -1.04214031, -1.47674443],\n",
    "        [-0.51870141, -0.01755243, 1.95102122, 0.36809772],\n",
    "        [-0.97629927, 0.35430853, -0.63895086, -0.2467184],\n",
    "        [-0.51120513, -0.33014789, -1.45017724, -0.02398285],\n",
    "    ]\n",
    ")\n",
    "#solution\n",
    "norm_x = x / (np.sum(x * x, axis= 1) ** 0.5).reshape(10,1)\n",
    "cos_angles = np.inner(norm_x, norm_x)\n",
    "i, j = np.unravel_index(np.argmax(cos_angles - np.eye(len(x))), cos_angles.shape)\n",
    "\n",
    "assert (i, j) == (6, 8) or (i, j) == (8, 6), \"Wrong Answer\""
   ]
  },
  {
   "cell_type": "markdown",
   "id": "9f000cc1",
   "metadata": {
    "papermill": {
     "duration": 0.002142,
     "end_time": "2024-09-27T22:26:27.702422",
     "exception": false,
     "start_time": "2024-09-27T22:26:27.700280",
     "status": "completed"
    },
    "tags": []
   },
   "source": [
    "**Задача 2: Cвертка (1 балл)**\n",
    "Реализуйте двумерную свертку при помощи numpy без использования циклов в python. Максимум 4 строки, соответсвующие форматированию jupyter_black.\n",
    "\n",
    "\n",
    "![](https://media.proglib.io/wp-uploads/2018/06/1.gif) ![](https://media.proglib.io/wp-uploads/2018/06/2.gif)"
   ]
  },
  {
   "cell_type": "code",
   "execution_count": 2,
   "id": "f1f685c2",
   "metadata": {
    "execution": {
     "iopub.execute_input": "2024-09-27T22:26:27.708850Z",
     "iopub.status.busy": "2024-09-27T22:26:27.708369Z",
     "iopub.status.idle": "2024-09-27T22:26:27.717982Z",
     "shell.execute_reply": "2024-09-27T22:26:27.716784Z"
    },
    "papermill": {
     "duration": 0.015593,
     "end_time": "2024-09-27T22:26:27.720328",
     "exception": false,
     "start_time": "2024-09-27T22:26:27.704735",
     "status": "completed"
    },
    "tags": []
   },
   "outputs": [],
   "source": [
    "import numpy as np\n",
    "x = np.arange(64).reshape((8, 8))\n",
    "kernel = np.array([[1, -1, 2], [3, -2, 1], [0, 0, 1]])\n",
    "#solution\n",
    "x = np.einsum('ij,klij->kl', kernel, np.lib.stride_tricks.sliding_window_view(x, kernel.shape))\n",
    "\n",
    "ans = np.array(\n",
    "    [\n",
    "        [37, 42, 47, 52, 57, 62],\n",
    "        [77, 82, 87, 92, 97, 102],\n",
    "        [117, 122, 127, 132, 137, 142],\n",
    "        [157, 162, 167, 172, 177, 182],\n",
    "        [197, 202, 207, 212, 217, 222],\n",
    "        [237, 242, 247, 252, 257, 262],\n",
    "    ]\n",
    ")\n",
    "assert (x == ans).all(), \"Wrong answer\""
   ]
  }
 ],
 "metadata": {
  "kaggle": {
   "accelerator": "none",
   "dataSources": [],
   "dockerImageVersionId": 30775,
   "isGpuEnabled": false,
   "isInternetEnabled": true,
   "language": "python",
   "sourceType": "notebook"
  },
  "kernelspec": {
   "display_name": "Python 3",
   "language": "python",
   "name": "python3"
  },
  "language_info": {
   "codemirror_mode": {
    "name": "ipython",
    "version": 3
   },
   "file_extension": ".py",
   "mimetype": "text/x-python",
   "name": "python",
   "nbconvert_exporter": "python",
   "pygments_lexer": "ipython3",
   "version": "3.10.14"
  },
  "papermill": {
   "default_parameters": {},
   "duration": 3.451963,
   "end_time": "2024-09-27T22:26:28.143201",
   "environment_variables": {},
   "exception": null,
   "input_path": "__notebook__.ipynb",
   "output_path": "__notebook__.ipynb",
   "parameters": {},
   "start_time": "2024-09-27T22:26:24.691238",
   "version": "2.6.0"
  }
 },
 "nbformat": 4,
 "nbformat_minor": 5
}

{
 "cells": [
  {
   "cell_type": "code",
   "execution_count": 1,
   "id": "77a40915",
   "metadata": {
    "execution": {
     "iopub.execute_input": "2024-11-08T17:36:07.311028Z",
     "iopub.status.busy": "2024-11-08T17:36:07.310601Z",
     "iopub.status.idle": "2024-11-08T17:36:10.460332Z",
     "shell.execute_reply": "2024-11-08T17:36:10.458882Z"
    },
    "papermill": {
     "duration": 3.158161,
     "end_time": "2024-11-08T17:36:10.463342",
     "exception": false,
     "start_time": "2024-11-08T17:36:07.305181",
     "status": "completed"
    },
    "tags": []
   },
   "outputs": [],
   "source": [
    "import pandas as pd\n",
    "import numpy as np\n",
    "from sklearn.ensemble import RandomForestClassifier\n",
    "from sklearn.model_selection import StratifiedKFold, GridSearchCV\n",
    "from sklearn.preprocessing import LabelEncoder\n",
    "from sklearn.metrics import accuracy_score\n",
    "import os\n",
    "import random"
   ]
  },
  {
   "cell_type": "code",
   "execution_count": 2,
   "id": "f5a3f045",
   "metadata": {
    "execution": {
     "iopub.execute_input": "2024-11-08T17:36:10.473259Z",
     "iopub.status.busy": "2024-11-08T17:36:10.472615Z",
     "iopub.status.idle": "2024-11-08T17:36:10.479706Z",
     "shell.execute_reply": "2024-11-08T17:36:10.478473Z"
    },
    "papermill": {
     "duration": 0.015108,
     "end_time": "2024-11-08T17:36:10.482485",
     "exception": false,
     "start_time": "2024-11-08T17:36:10.467377",
     "status": "completed"
    },
    "tags": []
   },
   "outputs": [],
   "source": [
    "DEFAULT_RANDOM_SEED = 42\n",
    "\n",
    "def set_all_seeds(seed=DEFAULT_RANDOM_SEED):\n",
    "\n",
    "    # python's seeds\n",
    "    random.seed(seed)\n",
    "    os.environ['PYTHONHASHSEED'] = str(seed)\n",
    "    np.random.seed(seed)\n",
    "\n",
    "set_all_seeds(seed=DEFAULT_RANDOM_SEED)"
   ]
  },
  {
   "cell_type": "markdown",
   "id": "28333319",
   "metadata": {
    "papermill": {
     "duration": 0.003091,
     "end_time": "2024-11-08T17:36:10.488765",
     "exception": false,
     "start_time": "2024-11-08T17:36:10.485674",
     "status": "completed"
    },
    "tags": []
   },
   "source": [
    "**Пояснение к решению**\n",
    "\n",
    "На самом деле ничего интересного тут нет\n",
    "1) Простая предобработка данных:\n",
    "   \n",
    "   * заполняем NaN\n",
    "   * переводим возраст в месяцы\n",
    "   * при помощи label encoder переводим категориальные признаки в числовые\n",
    "   * Разбиваем дату на год, месяц, день, часы и минуты.\n",
    "   * Вау тут даже есть генерация новой фичи!!! Если выделить выходные дни отдельно, результат чуть улучшится\n",
    "     \n",
    "2) Модель\n",
    "   * За основу взят случайный лес, так как для сырых данных хочется использовать сильную модель, с высокой дисперсией, чтоб регуляризацию дополнительно не докидывать\n",
    "   * Используем стратифицированную к-валидацию\n",
    "   * Параметры для модели были подогнаны при помощи грид серча, так что выжать что-то дополнительное не получится"
   ]
  },
  {
   "cell_type": "code",
   "execution_count": 3,
   "id": "a4622d0b",
   "metadata": {
    "execution": {
     "iopub.execute_input": "2024-11-08T17:36:10.497613Z",
     "iopub.status.busy": "2024-11-08T17:36:10.497128Z",
     "iopub.status.idle": "2024-11-08T17:36:10.518733Z",
     "shell.execute_reply": "2024-11-08T17:36:10.516678Z"
    },
    "papermill": {
     "duration": 0.030566,
     "end_time": "2024-11-08T17:36:10.522543",
     "exception": false,
     "start_time": "2024-11-08T17:36:10.491977",
     "status": "completed"
    },
    "tags": []
   },
   "outputs": [],
   "source": [
    "def new_preprocess_data(data):\n",
    "\n",
    "\n",
    "    # Обработка пропусков\n",
    "    data.fillna({'SexuponOutcome': 'Unknown', 'AgeuponOutcome': '0 years'}, inplace=True)\n",
    "    data.drop(['Name', 'ID'], axis= 1, inplace= True)\n",
    "    # Преобразование возраста в месяцы\n",
    "    def convert_age_to_months(age_str):\n",
    "        number, unit = age_str.split()\n",
    "        number = int(number)\n",
    "        if 'year' in unit:\n",
    "            return number * 12\n",
    "        elif 'month' in unit:\n",
    "            return number\n",
    "        elif 'week' in unit:\n",
    "            return number / 4\n",
    "        elif 'day' in unit:\n",
    "            return number / 30\n",
    "        return 0\n",
    "\n",
    "    data['AgeuponOutcome'] = data['AgeuponOutcome'].apply(convert_age_to_months)\n",
    "\n",
    "    # Извлечение признаков из даты\n",
    "    data['DateTime'] = pd.to_datetime(data['DateTime'])\n",
    "    data['Year'] = data['DateTime'].dt.year\n",
    "    data['Month'] = data['DateTime'].dt.month\n",
    "    data['DayOfWeek'] = data['DateTime'].dt.dayofweek\n",
    "    data['Hour'] = data['DateTime'].dt.hour\n",
    "    data['Minute'] = data['DateTime'].dt.minute\n",
    "    data.drop(columns=['DateTime'], inplace= True)\n",
    "\n",
    "    data['Is_Weekend'] = 1/data['DayOfWeek'].apply(lambda x: 2 if x >= 5 else 1)\n",
    "\n",
    "    # Преобразование категориальных признаков\n",
    "    label_encoders = {}\n",
    "    categorical_features = ['AnimalType', 'SexuponOutcome', 'Breed', 'Color']\n",
    "    for feature in categorical_features:\n",
    "        le = LabelEncoder()\n",
    "        data[feature] = le.fit_transform(data[feature])\n",
    "\n",
    "    X = data.drop(columns=['Outcome'], errors= 'ignore')\n",
    "    y = data['Outcome'] if 'Outcome' in data.columns else None\n",
    "    data['SexuponOutcome'] = 1/(data['SexuponOutcome'] + 1)\n",
    "    return X, y\n",
    "\n",
    "def new_train_random_forest(X, y):\n",
    "    \n",
    "    # Стратифицированная k-fold кросс-валидация\n",
    "    skf = StratifiedKFold(n_splits= 20, shuffle= True, random_state= 42)\n",
    "    model = RandomForestClassifier(n_estimators= 200, random_state= 42)\n",
    "\n",
    "    accuracies = []\n",
    "    for train_index, test_index in skf.split(X, y):\n",
    "        X_train, X_test = X.iloc[train_index], X.iloc[test_index]\n",
    "        y_train, y_test = y.iloc[train_index], y.iloc[test_index]\n",
    "\n",
    "        # Обучение модели\n",
    "        model.fit(X_train, y_train)\n",
    "\n",
    "        # Предсказание и оценка\n",
    "        y_pred = model.predict(X_test)\n",
    "        accuracy = accuracy_score(y_test, y_pred)\n",
    "        accuracies.append(accuracy)\n",
    "\n",
    "    print(f'Average Accuracy: {np.mean(accuracies):.2f}')\n",
    "    return model\n",
    "\n",
    "def new_predict_test_file(model, df_test, output_file):\n",
    "    ids = df_test['ID']\n",
    "    \n",
    "    # Предобработка тестового файла\n",
    "    X_test, _ = new_preprocess_data(df_test)\n",
    "\n",
    "    # Получение предсказаний\n",
    "    predictions = model.predict(X_test)\n",
    "    \n",
    "    output_df = pd.DataFrame({\n",
    "        'ID': ids,\n",
    "        'Outcome': predictions\n",
    "    })\n",
    "    output_df.to_csv(output_file, index=False)"
   ]
  },
  {
   "cell_type": "code",
   "execution_count": 4,
   "id": "650ccd12",
   "metadata": {
    "execution": {
     "iopub.execute_input": "2024-11-08T17:36:10.531526Z",
     "iopub.status.busy": "2024-11-08T17:36:10.531017Z",
     "iopub.status.idle": "2024-11-08T17:38:21.942146Z",
     "shell.execute_reply": "2024-11-08T17:38:21.940662Z"
    },
    "papermill": {
     "duration": 131.419062,
     "end_time": "2024-11-08T17:38:21.945266",
     "exception": false,
     "start_time": "2024-11-08T17:36:10.526204",
     "status": "completed"
    },
    "tags": []
   },
   "outputs": [
    {
     "name": "stdout",
     "output_type": "stream",
     "text": [
      "Average Accuracy: 0.68\n"
     ]
    }
   ],
   "source": [
    "df_train = pd.read_csv('/kaggle/input/animal-shelter-log/train.csv')\n",
    "df_test = pd.read_csv('/kaggle/input/animal-shelter-log/test.csv')\n",
    "\n",
    "X, y = new_preprocess_data(df_train)\n",
    "model = new_train_random_forest(X, y)\n",
    "\n",
    "new_predict_test_file(model, df_test, 'submission.csv')"
   ]
  }
 ],
 "metadata": {
  "kaggle": {
   "accelerator": "none",
   "dataSources": [
    {
     "databundleVersionId": 9793277,
     "sourceId": 86372,
     "sourceType": "competition"
    }
   ],
   "dockerImageVersionId": 30786,
   "isGpuEnabled": false,
   "isInternetEnabled": true,
   "language": "python",
   "sourceType": "notebook"
  },
  "kernelspec": {
   "display_name": "Python 3",
   "language": "python",
   "name": "python3"
  },
  "language_info": {
   "codemirror_mode": {
    "name": "ipython",
    "version": 3
   },
   "file_extension": ".py",
   "mimetype": "text/x-python",
   "name": "python",
   "nbconvert_exporter": "python",
   "pygments_lexer": "ipython3",
   "version": "3.10.14"
  },
  "papermill": {
   "default_parameters": {},
   "duration": 138.851568,
   "end_time": "2024-11-08T17:38:22.775550",
   "environment_variables": {},
   "exception": null,
   "input_path": "__notebook__.ipynb",
   "output_path": "__notebook__.ipynb",
   "parameters": {},
   "start_time": "2024-11-08T17:36:03.923982",
   "version": "2.6.0"
  }
 },
 "nbformat": 4,
 "nbformat_minor": 5
}

{
 "cells": [
  {
   "cell_type": "code",
   "execution_count": 1,
   "id": "5c1bca31",
   "metadata": {
    "_cell_guid": "b1076dfc-b9ad-4769-8c92-a6c4dae69d19",
    "_uuid": "8f2839f25d086af736a60e9eeb907d3b93b6e0e5",
    "execution": {
     "iopub.execute_input": "2025-02-08T07:25:24.287881Z",
     "iopub.status.busy": "2025-02-08T07:25:24.287536Z",
     "iopub.status.idle": "2025-02-08T07:25:24.293374Z",
     "shell.execute_reply": "2025-02-08T07:25:24.292330Z"
    },
    "papermill": {
     "duration": 0.011306,
     "end_time": "2025-02-08T07:25:24.294915",
     "exception": false,
     "start_time": "2025-02-08T07:25:24.283609",
     "status": "completed"
    },
    "tags": []
   },
   "outputs": [],
   "source": [
    "import numpy as np"
   ]
  },
  {
   "cell_type": "markdown",
   "id": "093654d7",
   "metadata": {
    "papermill": {
     "duration": 0.001952,
     "end_time": "2025-02-08T07:25:24.299554",
     "exception": false,
     "start_time": "2025-02-08T07:25:24.297602",
     "status": "completed"
    },
    "tags": []
   },
   "source": [
    "### Bonus task 19: \n",
    "Suppose that $x=(x_0, x_1)^T \\sim N(\\mu, \\Sigma)$. Find the distribution of $(a, b)^T$ of line $y=ax+b$ passing through points $(0, x_0)$and $(1, x_1)$. Derive the distribution and it's parameters, implement and check if works.\n",
    "\n",
    "Тут все просто: подставляем точки в уравнение, получаем\n",
    "* $b = x_0$ ~ $N(\\mu_{00}, \\sigma_{00})$\n",
    "* $a = x_1 - x_0$ ~ $N(\\mu_{1} - \\mu_{0}, \\sigma_{11} + \\sigma_{00} - 2\\sigma_{01})$ "
   ]
  },
  {
   "cell_type": "code",
   "execution_count": 2,
   "id": "399476ea",
   "metadata": {
    "execution": {
     "iopub.execute_input": "2025-02-08T07:25:24.304840Z",
     "iopub.status.busy": "2025-02-08T07:25:24.304567Z",
     "iopub.status.idle": "2025-02-08T07:25:24.373119Z",
     "shell.execute_reply": "2025-02-08T07:25:24.372035Z"
    },
    "papermill": {
     "duration": 0.073168,
     "end_time": "2025-02-08T07:25:24.374819",
     "exception": false,
     "start_time": "2025-02-08T07:25:24.301651",
     "status": "completed"
    },
    "tags": []
   },
   "outputs": [
    {
     "name": "stdout",
     "output_type": "stream",
     "text": [
      "Theoretical Parameters b: mean = 0 , std = 1.0\n",
      "Theoretical Parameters a: mean = 1 , std = 1.0\n",
      "\n",
      "Estimated Parameters b: mean = 0.002037960091619244 , std = 0.9991322059518628\n",
      "Estimated Parameters a: mean = 1.0029136467500817 , std = 1.0005925701243465\n"
     ]
    }
   ],
   "source": [
    "mu = np.array([0, 1])  \n",
    "Sigma = np.array([[1, 0.5], [0.5, 1]])  \n",
    "\n",
    "b_mean = mu[0]\n",
    "b_std = np.sqrt(Sigma[0, 0])\n",
    "\n",
    "a_mean = mu[1] - mu[0]\n",
    "a_std = np.sqrt(Sigma[1, 1] + Sigma[0, 0] - 2 * Sigma[0, 1])\n",
    "\n",
    "samples = np.random.multivariate_normal(mu, Sigma, size=100000)\n",
    "\n",
    "x0 = samples[:, 0]\n",
    "x1 = samples[:, 1]\n",
    "\n",
    "b = x0\n",
    "a = x1 - x0\n",
    "\n",
    "print(\"Theoretical Parameters b: mean =\", b_mean, \", std =\", b_std)\n",
    "print(\"Theoretical Parameters a: mean =\", a_mean, \", std =\", a_std, end= '\\n\\n')\n",
    "\n",
    "print(\"Estimated Parameters b: mean =\", np.mean(b), \", std =\", np.std(b))\n",
    "print(\"Estimated Parameters a: mean =\", np.mean(a), \", std =\", np.std(a))"
   ]
  },
  {
   "cell_type": "markdown",
   "id": "f8a77c77",
   "metadata": {
    "papermill": {
     "duration": 0.002142,
     "end_time": "2025-02-08T07:25:24.379526",
     "exception": false,
     "start_time": "2025-02-08T07:25:24.377384",
     "status": "completed"
    },
    "tags": []
   },
   "source": []
  },
  {
   "cell_type": "markdown",
   "id": "ad1fd30d",
   "metadata": {
    "papermill": {
     "duration": 0.001993,
     "end_time": "2025-02-08T07:25:24.383805",
     "exception": false,
     "start_time": "2025-02-08T07:25:24.381812",
     "status": "completed"
    },
    "tags": []
   },
   "source": [
    "### Bonus task 20: \n",
    "Same, but for $x=(x_0, x_1, x_2)^T$ and coefficients of quadratic polynomials passing through all three points $(0, x_1), (1, x_1), (2, x_2)$.\n",
    "\n",
    "Примерно тоже самое, но пришлось решать систему уравнений(не круто!!!)\n",
    "\n",
    "* $с = x_0$ ~ $N(\\mu_{00}, \\sigma_{00})$\n",
    "  \n",
    "* $b = $$\\frac{-x_2 + 4x_1 - 3x_0}{2}$ ~ $  N($$\\frac{-\\mu_{2} + 4\\mu_{1} - 3\\mu_{0}}{2}$$,\n",
    "   $$\\frac{\\sigma_{22} + 16\\sigma_{11} + 9\\sigma_{00} - 24\\sigma_{01} + 6\\sigma_{02} - 8\\sigma_{12}}{4}$$)$\n",
    "\n",
    "  \n",
    "* $a = $$\\frac{x_2 - 2x_1 + x_0}{2}$ ~ $  N($$\\frac{\\mu_{2} - 2\\mu_{1} + \\mu_{0}}{2}$$,\n",
    "   $$\\frac{\\sigma_{22} + 4\\sigma_{11} + \\sigma_{00} - 4\\sigma_{01} + 2\\sigma_{02} - 4\\sigma_{12}}{4}$$))$"
   ]
  },
  {
   "cell_type": "code",
   "execution_count": 3,
   "id": "5b8984dc",
   "metadata": {
    "execution": {
     "iopub.execute_input": "2025-02-08T07:25:24.389376Z",
     "iopub.status.busy": "2025-02-08T07:25:24.389044Z",
     "iopub.status.idle": "2025-02-08T07:25:24.427205Z",
     "shell.execute_reply": "2025-02-08T07:25:24.426188Z"
    },
    "papermill": {
     "duration": 0.042779,
     "end_time": "2025-02-08T07:25:24.428699",
     "exception": false,
     "start_time": "2025-02-08T07:25:24.385920",
     "status": "completed"
    },
    "tags": []
   },
   "outputs": [
    {
     "name": "stdout",
     "output_type": "stream",
     "text": [
      "Theoretical Parameters c: mean = 0 , std = 1.0\n",
      "Theoretical Parameters b: mean = 1.0 , std = 1.7888543819998317\n",
      "Theoretical Parameters a: mean = 0.0 , std = 0.8944271909999159\n",
      "\n",
      "Estimated Parameters c: mean = -0.005177771968732286 , std = 1.0028944878235013\n",
      "Estimated Parameters b: mean = 0.9993517458176921 , std = 1.7909808522688118\n",
      "Estimated Parameters a: mean = 0.0018777076024764057 , std = 0.8943520861549012\n"
     ]
    }
   ],
   "source": [
    "mu = np.array([0, 1, 2])  \n",
    "Sigma = np.array([[1, 0.5, 0.2], [0.5, 1, 0.3], [0.2, 0.3, 1]])  \n",
    "\n",
    "c_mean = mu[0]\n",
    "c_std = np.sqrt(Sigma[0, 0])\n",
    "\n",
    "b_mean = (-mu[2] + 4 * mu[1] - 3 * mu[0]) /2\n",
    "b_std = np.sqrt(\n",
    "    (Sigma[2, 2] + 16 * Sigma[1, 1] + 9 * Sigma[0, 0] - 24 * Sigma[0, 1] + 6 * Sigma[0, 2] - 8 * Sigma[1, 2]) / 4)\n",
    "\n",
    "a_mean = (mu[2] - 2 * mu[1] + mu[0]) / 2\n",
    "a_std = np.sqrt(\n",
    "    (Sigma[2, 2] + 4 * Sigma[1, 1] + Sigma[0, 0] - 4 * Sigma[0, 1 ] + 2 * Sigma[0, 2] - 4 * Sigma[1, 2]) / 4)\n",
    "\n",
    "samples = np.random.multivariate_normal(mu, Sigma, size=100000)\n",
    "\n",
    "x0 = samples[:, 0]\n",
    "x1 = samples[:, 1]\n",
    "x2 = samples[:, 2]\n",
    "\n",
    "a = (x2 - 2 * x1 + x0) / 2\n",
    "b = (4 * x1 - x2 - 3 * x0) / 2\n",
    "c = x0\n",
    "\n",
    "\n",
    "print(\"Theoretical Parameters c: mean =\", c_mean, \", std =\", c_std)\n",
    "print(\"Theoretical Parameters b: mean =\", b_mean, \", std =\", b_std)\n",
    "print(\"Theoretical Parameters a: mean =\", a_mean, \", std =\", a_std, end= '\\n\\n')\n",
    "\n",
    "print(\"Estimated Parameters c: mean =\", np.mean(c), \", std =\", np.std(c))\n",
    "print(\"Estimated Parameters b: mean =\", np.mean(b), \", std =\", np.std(b))\n",
    "print(\"Estimated Parameters a: mean =\", np.mean(a), \", std =\", np.std(a))"
   ]
  },
  {
   "cell_type": "markdown",
   "id": "a4b5ecb3",
   "metadata": {
    "papermill": {
     "duration": 0.002241,
     "end_time": "2025-02-08T07:25:24.433572",
     "exception": false,
     "start_time": "2025-02-08T07:25:24.431331",
     "status": "completed"
    },
    "tags": []
   },
   "source": [
    "### Bonus task 21: \n",
    "Same, but for $x=(x_0, x_1,\\dots x_{n-1})^T$ and coefficients of polynomials with degree $n$ passing through all $n$ points $(i, x_i)$. \n",
    "\n",
    "Тут надо решить СЛАУ: **$AC = x$**, где A - матрица Вандермонда, а C - искомый вектор коэффициентов.\n",
    "\n",
    "Для наглядности все $x_i$ совместно независимы (случай для n = 3 можно проверить по формулам из предыдущей задачи, занулив совместную ковариацию)"
   ]
  },
  {
   "cell_type": "code",
   "execution_count": 4,
   "id": "3e6197e0",
   "metadata": {
    "execution": {
     "iopub.execute_input": "2025-02-08T07:25:24.439285Z",
     "iopub.status.busy": "2025-02-08T07:25:24.438987Z",
     "iopub.status.idle": "2025-02-08T07:25:25.217815Z",
     "shell.execute_reply": "2025-02-08T07:25:25.216694Z"
    },
    "papermill": {
     "duration": 0.783645,
     "end_time": "2025-02-08T07:25:25.219524",
     "exception": false,
     "start_time": "2025-02-08T07:25:24.435879",
     "status": "completed"
    },
    "tags": []
   },
   "outputs": [
    {
     "name": "stdout",
     "output_type": "stream",
     "text": [
      "Coefficient (a_0): mean = -0.004835902765969476, std = 1.0012083569611723\n",
      "Coefficient (a_1): mean = 0.019124912427564138, std = 2.5482141637585882\n",
      "Coefficient (a_2): mean = -0.008576280805947257, std = 1.2243895169071457\n"
     ]
    }
   ],
   "source": [
    "n = 3 \n",
    "mean = 0  \n",
    "variance = 1 \n",
    " \n",
    "x = np.random.normal(mean, np.sqrt(variance), size=(100000, n)).T\n",
    "A = np.vander(np.arange(n), increasing=True)\n",
    "\n",
    "coefficients = np.array([np.linalg.solve(A, x[:, i]) for i in range(x.shape[1])])\n",
    "\n",
    "for i in range(n):\n",
    "    print(f\"Coefficient (a_{i}): mean = {np.mean(coefficients[:, i])}, std = {np.std(coefficients[:, i])}\")"
   ]
  }
 ],
 "metadata": {
  "kaggle": {
   "accelerator": "none",
   "dataSources": [],
   "dockerImageVersionId": 30886,
   "isGpuEnabled": false,
   "isInternetEnabled": true,
   "language": "python",
   "sourceType": "notebook"
  },
  "kernelspec": {
   "display_name": "Python 3",
   "language": "python",
   "name": "python3"
  },
  "language_info": {
   "codemirror_mode": {
    "name": "ipython",
    "version": 3
   },
   "file_extension": ".py",
   "mimetype": "text/x-python",
   "name": "python",
   "nbconvert_exporter": "python",
   "pygments_lexer": "ipython3",
   "version": "3.10.12"
  },
  "papermill": {
   "default_parameters": {},
   "duration": 3.944108,
   "end_time": "2025-02-08T07:25:25.641166",
   "environment_variables": {},
   "exception": null,
   "input_path": "__notebook__.ipynb",
   "output_path": "__notebook__.ipynb",
   "parameters": {},
   "start_time": "2025-02-08T07:25:21.697058",
   "version": "2.6.0"
  }
 },
 "nbformat": 4,
 "nbformat_minor": 5
}

{
 "cells": [
  {
   "cell_type": "code",
   "execution_count": 1,
   "id": "8b9bd2aa",
   "metadata": {
    "execution": {
     "iopub.execute_input": "2025-03-31T22:11:00.690501Z",
     "iopub.status.busy": "2025-03-31T22:11:00.690252Z",
     "iopub.status.idle": "2025-03-31T22:11:06.038951Z",
     "shell.execute_reply": "2025-03-31T22:11:06.037901Z"
    },
    "papermill": {
     "duration": 5.356351,
     "end_time": "2025-03-31T22:11:06.040668",
     "exception": false,
     "start_time": "2025-03-31T22:11:00.684317",
     "status": "completed"
    },
    "tags": []
   },
   "outputs": [
    {
     "name": "stdout",
     "output_type": "stream",
     "text": [
      "Collecting stanza\r\n",
      "  Downloading stanza-1.10.1-py3-none-any.whl.metadata (13 kB)\r\n",
      "Requirement already satisfied: emoji in /usr/local/lib/python3.10/dist-packages (from stanza) (2.14.1)\r\n",
      "Requirement already satisfied: numpy in /usr/local/lib/python3.10/dist-packages (from stanza) (1.26.4)\r\n",
      "Requirement already satisfied: protobuf>=3.15.0 in /usr/local/lib/python3.10/dist-packages (from stanza) (3.20.3)\r\n",
      "Requirement already satisfied: requests in /usr/local/lib/python3.10/dist-packages (from stanza) (2.32.3)\r\n",
      "Requirement already satisfied: networkx in /usr/local/lib/python3.10/dist-packages (from stanza) (3.4.2)\r\n",
      "Requirement already satisfied: tomli in /usr/local/lib/python3.10/dist-packages (from stanza) (2.2.1)\r\n",
      "Requirement already satisfied: torch>=1.3.0 in /usr/local/lib/python3.10/dist-packages (from stanza) (2.5.1+cu121)\r\n",
      "Requirement already satisfied: tqdm in /usr/local/lib/python3.10/dist-packages (from stanza) (4.67.1)\r\n",
      "Requirement already satisfied: filelock in /usr/local/lib/python3.10/dist-packages (from torch>=1.3.0->stanza) (3.17.0)\r\n",
      "Requirement already satisfied: typing-extensions>=4.8.0 in /usr/local/lib/python3.10/dist-packages (from torch>=1.3.0->stanza) (4.12.2)\r\n",
      "Requirement already satisfied: jinja2 in /usr/local/lib/python3.10/dist-packages (from torch>=1.3.0->stanza) (3.1.4)\r\n",
      "Requirement already satisfied: fsspec in /usr/local/lib/python3.10/dist-packages (from torch>=1.3.0->stanza) (2024.12.0)\r\n",
      "Requirement already satisfied: sympy==1.13.1 in /usr/local/lib/python3.10/dist-packages (from torch>=1.3.0->stanza) (1.13.1)\r\n",
      "Requirement already satisfied: mpmath<1.4,>=1.1.0 in /usr/local/lib/python3.10/dist-packages (from sympy==1.13.1->torch>=1.3.0->stanza) (1.3.0)\r\n",
      "Requirement already satisfied: mkl_fft in /usr/local/lib/python3.10/dist-packages (from numpy->stanza) (1.3.8)\r\n",
      "Requirement already satisfied: mkl_random in /usr/local/lib/python3.10/dist-packages (from numpy->stanza) (1.2.4)\r\n",
      "Requirement already satisfied: mkl_umath in /usr/local/lib/python3.10/dist-packages (from numpy->stanza) (0.1.1)\r\n",
      "Requirement already satisfied: mkl in /usr/local/lib/python3.10/dist-packages (from numpy->stanza) (2025.0.1)\r\n",
      "Requirement already satisfied: tbb4py in /usr/local/lib/python3.10/dist-packages (from numpy->stanza) (2022.0.0)\r\n",
      "Requirement already satisfied: mkl-service in /usr/local/lib/python3.10/dist-packages (from numpy->stanza) (2.4.1)\r\n",
      "Requirement already satisfied: charset-normalizer<4,>=2 in /usr/local/lib/python3.10/dist-packages (from requests->stanza) (3.4.1)\r\n",
      "Requirement already satisfied: idna<4,>=2.5 in /usr/local/lib/python3.10/dist-packages (from requests->stanza) (3.10)\r\n",
      "Requirement already satisfied: urllib3<3,>=1.21.1 in /usr/local/lib/python3.10/dist-packages (from requests->stanza) (2.3.0)\r\n",
      "Requirement already satisfied: certifi>=2017.4.17 in /usr/local/lib/python3.10/dist-packages (from requests->stanza) (2025.1.31)\r\n",
      "Requirement already satisfied: MarkupSafe>=2.0 in /usr/local/lib/python3.10/dist-packages (from jinja2->torch>=1.3.0->stanza) (3.0.2)\r\n",
      "Requirement already satisfied: intel-openmp>=2024 in /usr/local/lib/python3.10/dist-packages (from mkl->numpy->stanza) (2024.2.0)\r\n",
      "Requirement already satisfied: tbb==2022.* in /usr/local/lib/python3.10/dist-packages (from mkl->numpy->stanza) (2022.0.0)\r\n",
      "Requirement already satisfied: tcmlib==1.* in /usr/local/lib/python3.10/dist-packages (from tbb==2022.*->mkl->numpy->stanza) (1.2.0)\r\n",
      "Requirement already satisfied: intel-cmplr-lib-rt in /usr/local/lib/python3.10/dist-packages (from mkl_umath->numpy->stanza) (2024.2.0)\r\n",
      "Requirement already satisfied: intel-cmplr-lib-ur==2024.2.0 in /usr/local/lib/python3.10/dist-packages (from intel-openmp>=2024->mkl->numpy->stanza) (2024.2.0)\r\n",
      "Downloading stanza-1.10.1-py3-none-any.whl (1.1 MB)\r\n",
      "\u001b[2K   \u001b[90m━━━━━━━━━━━━━━━━━━━━━━━━━━━━━━━━━━━━━━━━\u001b[0m \u001b[32m1.1/1.1 MB\u001b[0m \u001b[31m15.1 MB/s\u001b[0m eta \u001b[36m0:00:00\u001b[0m\r\n",
      "\u001b[?25hInstalling collected packages: stanza\r\n",
      "Successfully installed stanza-1.10.1\r\n"
     ]
    }
   ],
   "source": [
    "!pip install stanza"
   ]
  },
  {
   "cell_type": "code",
   "execution_count": 2,
   "id": "8c208363",
   "metadata": {
    "execution": {
     "iopub.execute_input": "2025-03-31T22:11:06.051901Z",
     "iopub.status.busy": "2025-03-31T22:11:06.051656Z",
     "iopub.status.idle": "2025-03-31T22:11:11.415541Z",
     "shell.execute_reply": "2025-03-31T22:11:11.414669Z"
    },
    "papermill": {
     "duration": 5.37098,
     "end_time": "2025-03-31T22:11:11.417152",
     "exception": false,
     "start_time": "2025-03-31T22:11:06.046172",
     "status": "completed"
    },
    "tags": []
   },
   "outputs": [],
   "source": [
    "import pandas as pd\n",
    "import numpy as np\n",
    "\n",
    "import re\n",
    "\n",
    "import stanza"
   ]
  },
  {
   "cell_type": "code",
   "execution_count": 3,
   "id": "4b366ee4",
   "metadata": {
    "execution": {
     "iopub.execute_input": "2025-03-31T22:11:11.428121Z",
     "iopub.status.busy": "2025-03-31T22:11:11.427747Z",
     "iopub.status.idle": "2025-03-31T22:11:40.594897Z",
     "shell.execute_reply": "2025-03-31T22:11:40.594155Z"
    },
    "papermill": {
     "duration": 29.17424,
     "end_time": "2025-03-31T22:11:40.596593",
     "exception": false,
     "start_time": "2025-03-31T22:11:11.422353",
     "status": "completed"
    },
    "tags": []
   },
   "outputs": [
    {
     "data": {
      "application/vnd.jupyter.widget-view+json": {
       "model_id": "375dc99a42a14440adf399c7040938d4",
       "version_major": 2,
       "version_minor": 0
      },
      "text/plain": [
       "Downloading https://raw.githubusercontent.com/stanfordnlp/stanza-resources/main/resources_1.10.0.json:   0%|  …"
      ]
     },
     "metadata": {},
     "output_type": "display_data"
    },
    {
     "data": {
      "application/vnd.jupyter.widget-view+json": {
       "model_id": "40f132efb1394364bf5f526600b93203",
       "version_major": 2,
       "version_minor": 0
      },
      "text/plain": [
       "Downloading https://huggingface.co/stanfordnlp/stanza-ru/resolve/v1.10.0/models/default.zip:   0%|          | …"
      ]
     },
     "metadata": {},
     "output_type": "display_data"
    },
    {
     "data": {
      "application/vnd.jupyter.widget-view+json": {
       "model_id": "ba9c3ce249ca432887a5ebde1537f3a5",
       "version_major": 2,
       "version_minor": 0
      },
      "text/plain": [
       "Downloading https://raw.githubusercontent.com/stanfordnlp/stanza-resources/main/resources_1.10.0.json:   0%|  …"
      ]
     },
     "metadata": {},
     "output_type": "display_data"
    }
   ],
   "source": [
    "stanza.download('ru')\n",
    "nlp = stanza.Pipeline('ru')"
   ]
  },
  {
   "cell_type": "markdown",
   "id": "43cdc4f7",
   "metadata": {
    "papermill": {
     "duration": 0.004955,
     "end_time": "2025-03-31T22:11:40.607335",
     "exception": false,
     "start_time": "2025-03-31T22:11:40.602380",
     "status": "completed"
    },
    "tags": []
   },
   "source": [
    "# Основные функции"
   ]
  },
  {
   "cell_type": "markdown",
   "id": "0555dd75",
   "metadata": {
    "papermill": {
     "duration": 0.004877,
     "end_time": "2025-03-31T22:11:40.617418",
     "exception": false,
     "start_time": "2025-03-31T22:11:40.612541",
     "status": "completed"
    },
    "tags": []
   },
   "source": [
    "## Очистка мусора в тексте"
   ]
  },
  {
   "cell_type": "code",
   "execution_count": 4,
   "id": "64b1deae",
   "metadata": {
    "execution": {
     "iopub.execute_input": "2025-03-31T22:11:40.628628Z",
     "iopub.status.busy": "2025-03-31T22:11:40.628126Z",
     "iopub.status.idle": "2025-03-31T22:11:40.632223Z",
     "shell.execute_reply": "2025-03-31T22:11:40.631648Z"
    },
    "papermill": {
     "duration": 0.010933,
     "end_time": "2025-03-31T22:11:40.633416",
     "exception": false,
     "start_time": "2025-03-31T22:11:40.622483",
     "status": "completed"
    },
    "tags": []
   },
   "outputs": [],
   "source": [
    "def clean_text(text):\n",
    "    clean_text = re.sub(r'\\d+', '', text)\n",
    "    clean_text = clean_text.strip()\n",
    "    clean_text = re.sub(r'\\b[a-zA-Zа-яА-ЯёЁ]{1}\\b', '', clean_text)\n",
    "    clean_text = re.sub('-\\n+', '', clean_text)\n",
    "    clean_text = re.sub(r'\\b\\d{1,2}\\.\\d{1,2}\\.\\d{4}\\b', '', clean_text)\n",
    "    clean_text = re.sub(r'[\\xad ][\\xad\\n+]', '', clean_text)\n",
    "\n",
    "    return clean_text"
   ]
  },
  {
   "cell_type": "markdown",
   "id": "40ebf019",
   "metadata": {
    "papermill": {
     "duration": 0.004839,
     "end_time": "2025-03-31T22:11:40.643442",
     "exception": false,
     "start_time": "2025-03-31T22:11:40.638603",
     "status": "completed"
    },
    "tags": []
   },
   "source": [
    "## Отбор кандидатов в термины\n",
    "Хоть в дальнейшем и рассматривались только биграммы, но отбирать кандидатов можно и среди триграмм"
   ]
  },
  {
   "cell_type": "code",
   "execution_count": 5,
   "id": "c393eb61",
   "metadata": {
    "execution": {
     "iopub.execute_input": "2025-03-31T22:11:40.654247Z",
     "iopub.status.busy": "2025-03-31T22:11:40.654021Z",
     "iopub.status.idle": "2025-03-31T22:11:40.659712Z",
     "shell.execute_reply": "2025-03-31T22:11:40.659114Z"
    },
    "papermill": {
     "duration": 0.012385,
     "end_time": "2025-03-31T22:11:40.660925",
     "exception": false,
     "start_time": "2025-03-31T22:11:40.648540",
     "status": "completed"
    },
    "tags": []
   },
   "outputs": [],
   "source": [
    "def candidats(doc, gr_sample):\n",
    "    gr_parts = gr_sample.split('+')\n",
    "    gr_fr_dict = {}\n",
    "    \n",
    "    for sentence in doc.sentences:\n",
    "        bigrams = {}\n",
    "\n",
    "        for dependence in sentence.dependencies:\n",
    "            try:\n",
    "                    if dependence[0].upos == gr_parts[1] and dependence[2].upos == gr_parts[0]:\n",
    "                        key = dependence[2].lemma + ' ' + dependence[0].lemma\n",
    "                        if key not in bigrams:\n",
    "                            bigrams[key] = 0\n",
    "                        bigrams[key] += 1\n",
    "\n",
    "            except IndexError:\n",
    "                continue\n",
    " \n",
    "        if len(gr_parts) == 3:\n",
    "            for bigram in bigrams.keys():\n",
    "\n",
    "                words = bigram.split(' ')\n",
    "                last_word = words[1]  \n",
    "             \n",
    "                for dependence in sentence.dependencies:\n",
    "                    if dependence[0].lemma == last_word:  \n",
    "                        if dependence[2].upos == gr_parts[2]: \n",
    "                            trigram_key = words[0] + ' ' + last_word + ' ' + dependence[2].lemma\n",
    "                            if trigram_key not in gr_fr_dict:\n",
    "                                gr_fr_dict[trigram_key] = 0\n",
    "                            gr_fr_dict[trigram_key] += 1\n",
    "        elif len(gr_parts) == 2:\n",
    "            for bigram in bigrams.keys():\n",
    "                if bigram not in gr_fr_dict:\n",
    "                    gr_fr_dict[bigram] = 0\n",
    "                gr_fr_dict[bigram] += 1\n",
    "\n",
    "    return gr_fr_dict"
   ]
  },
  {
   "cell_type": "markdown",
   "id": "8a136557",
   "metadata": {
    "papermill": {
     "duration": 0.005024,
     "end_time": "2025-03-31T22:11:40.671134",
     "exception": false,
     "start_time": "2025-03-31T22:11:40.666110",
     "status": "completed"
    },
    "tags": []
   },
   "source": [
    "## Создание частотного словаря"
   ]
  },
  {
   "cell_type": "code",
   "execution_count": 6,
   "id": "f2418cb4",
   "metadata": {
    "execution": {
     "iopub.execute_input": "2025-03-31T22:11:40.682011Z",
     "iopub.status.busy": "2025-03-31T22:11:40.681818Z",
     "iopub.status.idle": "2025-03-31T22:11:40.685187Z",
     "shell.execute_reply": "2025-03-31T22:11:40.684633Z"
    },
    "papermill": {
     "duration": 0.010132,
     "end_time": "2025-03-31T22:11:40.686340",
     "exception": false,
     "start_time": "2025-03-31T22:11:40.676208",
     "status": "completed"
    },
    "tags": []
   },
   "outputs": [],
   "source": [
    "def count_words(doc):\n",
    "    Counter = {}\n",
    "    for sentence in doc.sentences:\n",
    "        for word in sentence.words:\n",
    "            if word.upos == 'PUNCT':\n",
    "                continue\n",
    "            else:\n",
    "                if word.lemma not in Counter:\n",
    "                    Counter[word.lemma] = 0\n",
    "                Counter[word.lemma] += 1\n",
    "\n",
    "    return Counter"
   ]
  },
  {
   "cell_type": "markdown",
   "id": "40ccceac",
   "metadata": {
    "papermill": {
     "duration": 0.004944,
     "end_time": "2025-03-31T22:11:40.696461",
     "exception": false,
     "start_time": "2025-03-31T22:11:40.691517",
     "status": "completed"
    },
    "tags": []
   },
   "source": [
    "## Статистические признаки"
   ]
  },
  {
   "cell_type": "code",
   "execution_count": 7,
   "id": "516d56bd",
   "metadata": {
    "execution": {
     "iopub.execute_input": "2025-03-31T22:11:40.707381Z",
     "iopub.status.busy": "2025-03-31T22:11:40.707189Z",
     "iopub.status.idle": "2025-03-31T22:11:40.710943Z",
     "shell.execute_reply": "2025-03-31T22:11:40.710309Z"
    },
    "papermill": {
     "duration": 0.010407,
     "end_time": "2025-03-31T22:11:40.712100",
     "exception": false,
     "start_time": "2025-03-31T22:11:40.701693",
     "status": "completed"
    },
    "tags": []
   },
   "outputs": [],
   "source": [
    "def MI(term, fr_term, N, fr_word_dict, alpha= 1):\n",
    "    words = term.split()\n",
    "    mu = 1\n",
    "    for word in words:\n",
    "        mu *= fr_word_dict[word]\n",
    "\n",
    "    return np.log2(fr_term ** alpha * N / mu)\n",
    "\n",
    "def Dice(term, fr_term, fr_word_dict):\n",
    "    words = term.split()\n",
    "    mu = 0\n",
    "    for word in words:\n",
    "        mu += fr_word_dict[word]\n",
    "\n",
    "    return fr_term/(mu)"
   ]
  },
  {
   "cell_type": "markdown",
   "id": "7bac93a7",
   "metadata": {
    "papermill": {
     "duration": 0.005097,
     "end_time": "2025-03-31T22:11:40.722547",
     "exception": false,
     "start_time": "2025-03-31T22:11:40.717450",
     "status": "completed"
    },
    "tags": []
   },
   "source": [
    "## Получение кандидатов в термины по разным грамматическим образцам"
   ]
  },
  {
   "cell_type": "code",
   "execution_count": 8,
   "id": "cad4bc04",
   "metadata": {
    "execution": {
     "iopub.execute_input": "2025-03-31T22:11:40.733745Z",
     "iopub.status.busy": "2025-03-31T22:11:40.733510Z",
     "iopub.status.idle": "2025-03-31T22:11:40.738040Z",
     "shell.execute_reply": "2025-03-31T22:11:40.737453Z"
    },
    "papermill": {
     "duration": 0.011322,
     "end_time": "2025-03-31T22:11:40.739142",
     "exception": false,
     "start_time": "2025-03-31T22:11:40.727820",
     "status": "completed"
    },
    "tags": []
   },
   "outputs": [],
   "source": [
    "def top20by_gr_samples(doc, gr_samples, target_metric):\n",
    "    res = []\n",
    "    for gr_sample in gr_samples:\n",
    "        cand = candidats(doc, gr_sample)\n",
    "        candidats_df = pd.DataFrame(list(cand.items()), columns = ['term', 'ab_fr'])\n",
    "        candidats_df['MI'] = candidats_df.apply(lambda row: MI(row['term'], row['ab_fr'], N, fr_word_dict), axis= 1)\n",
    "        candidats_df['MI3'] = candidats_df.apply(lambda row: MI(row['term'], row['ab_fr'], N, fr_word_dict, alpha= 3), axis= 1)\n",
    "        candidats_df['DICE'] = candidats_df.apply(lambda row: Dice(row['term'], row['ab_fr'], fr_word_dict), axis= 1)\n",
    "        res.append(list(candidats_df.sort_values(by= [target_metric], ascending= False)['term'][:20]))\n",
    "\n",
    "    return res"
   ]
  },
  {
   "cell_type": "markdown",
   "id": "79c5942f",
   "metadata": {
    "papermill": {
     "duration": 0.005014,
     "end_time": "2025-03-31T22:11:40.749295",
     "exception": false,
     "start_time": "2025-03-31T22:11:40.744281",
     "status": "completed"
    },
    "tags": []
   },
   "source": [
    "# Текст по механике"
   ]
  },
  {
   "cell_type": "code",
   "execution_count": 9,
   "id": "51139b8c",
   "metadata": {
    "execution": {
     "iopub.execute_input": "2025-03-31T22:11:40.760177Z",
     "iopub.status.busy": "2025-03-31T22:11:40.759954Z",
     "iopub.status.idle": "2025-03-31T22:11:40.776707Z",
     "shell.execute_reply": "2025-03-31T22:11:40.776103Z"
    },
    "papermill": {
     "duration": 0.023619,
     "end_time": "2025-03-31T22:11:40.777961",
     "exception": false,
     "start_time": "2025-03-31T22:11:40.754342",
     "status": "completed"
    },
    "tags": []
   },
   "outputs": [],
   "source": [
    "link = '/kaggle/input/russian-scientific-articles/data_3/33 Механика/elibrary_16331399_29897286.txt'\n",
    "text = open(link).read()\n",
    "\n",
    "text = clean_text(text)"
   ]
  },
  {
   "cell_type": "code",
   "execution_count": 10,
   "id": "7de84d9a",
   "metadata": {
    "execution": {
     "iopub.execute_input": "2025-03-31T22:11:40.788987Z",
     "iopub.status.busy": "2025-03-31T22:11:40.788795Z",
     "iopub.status.idle": "2025-03-31T22:11:40.793573Z",
     "shell.execute_reply": "2025-03-31T22:11:40.792801Z"
    },
    "papermill": {
     "duration": 0.011493,
     "end_time": "2025-03-31T22:11:40.794705",
     "exception": false,
     "start_time": "2025-03-31T22:11:40.783212",
     "status": "completed"
    },
    "tags": []
   },
   "outputs": [
    {
     "name": "stdout",
     "output_type": "stream",
     "text": [
      "29406\n"
     ]
    },
    {
     "data": {
      "text/plain": [
       "'\\ufeffВычислительная механика сплошных сред. – . – . , № . – . -  \\nУДК ..\\nТЕЧЕНИЕ НЕЛИНЕЙНОЙ УПРУГОВЯЗКОЙ ЖИДКОСТИ  ПЛОСКОМКАНАЛЕ ПОД ДЕЙСТВИЕМ ЗАДАННОГО ГРАДИЕНТА ДАВЛЕНИЯ\\n.. Кузнецова, .. Скульский, .. Пышнограй\\n\\nИнститут механики сплошных сред УрО РАН, Пермь, Россия\\nАлтайский государственный технический университет, Барнаул, РоссияРассмотрено течение нелинейной вязкоупругой жидкости, характеризующейся одним тензорным\\nвнутренним параметром,  плоском канале под действием постоянного перепада давления. Получены всеточные аналитические решения этой задачи  параметрическом виде, из которых выделены заведомофизически недопустимые. Найдены распределения компонент тензора анизотропии, скорости  градиентаскорости по высоте канала для различных параметров реологической модели. Показано, что для значенийперепада давления выше критических наблюдается неоднозначность решения, приводящая  разрывам  профилях компонент тензора анизотропии. Та же задача решена  двумерной постановке методомконечных элемен'"
      ]
     },
     "execution_count": 10,
     "metadata": {},
     "output_type": "execute_result"
    }
   ],
   "source": [
    "print(len(text))\n",
    "text[:1000]"
   ]
  },
  {
   "cell_type": "code",
   "execution_count": 11,
   "id": "405c715a",
   "metadata": {
    "execution": {
     "iopub.execute_input": "2025-03-31T22:11:40.805912Z",
     "iopub.status.busy": "2025-03-31T22:11:40.805720Z",
     "iopub.status.idle": "2025-03-31T22:11:47.068145Z",
     "shell.execute_reply": "2025-03-31T22:11:47.067139Z"
    },
    "papermill": {
     "duration": 6.269851,
     "end_time": "2025-03-31T22:11:47.069793",
     "exception": false,
     "start_time": "2025-03-31T22:11:40.799942",
     "status": "completed"
    },
    "tags": []
   },
   "outputs": [],
   "source": [
    "doc = nlp(text)"
   ]
  },
  {
   "cell_type": "code",
   "execution_count": 12,
   "id": "2200d881",
   "metadata": {
    "execution": {
     "iopub.execute_input": "2025-03-31T22:11:47.082003Z",
     "iopub.status.busy": "2025-03-31T22:11:47.081772Z",
     "iopub.status.idle": "2025-03-31T22:11:47.088536Z",
     "shell.execute_reply": "2025-03-31T22:11:47.087656Z"
    },
    "papermill": {
     "duration": 0.014131,
     "end_time": "2025-03-31T22:11:47.089634",
     "exception": false,
     "start_time": "2025-03-31T22:11:47.075503",
     "status": "completed"
    },
    "tags": []
   },
   "outputs": [
    {
     "name": "stdout",
     "output_type": "stream",
     "text": [
      "Количество слов в тексте:  3486\n"
     ]
    }
   ],
   "source": [
    "fr_word_dict = count_words(doc)\n",
    "N = sum(fr_word_dict.values())\n",
    "print('Количество слов в тексте: ', N)"
   ]
  },
  {
   "cell_type": "code",
   "execution_count": 13,
   "id": "a4212c97",
   "metadata": {
    "execution": {
     "iopub.execute_input": "2025-03-31T22:11:47.100964Z",
     "iopub.status.busy": "2025-03-31T22:11:47.100749Z",
     "iopub.status.idle": "2025-03-31T22:11:47.103641Z",
     "shell.execute_reply": "2025-03-31T22:11:47.103059Z"
    },
    "papermill": {
     "duration": 0.009827,
     "end_time": "2025-03-31T22:11:47.104839",
     "exception": false,
     "start_time": "2025-03-31T22:11:47.095012",
     "status": "completed"
    },
    "tags": []
   },
   "outputs": [],
   "source": [
    "gr_samples = ('ADJ+NOUN', 'NOUN+NOUN', 'VERB+NOUN')"
   ]
  },
  {
   "cell_type": "code",
   "execution_count": 14,
   "id": "0d1510f0",
   "metadata": {
    "execution": {
     "iopub.execute_input": "2025-03-31T22:11:47.116414Z",
     "iopub.status.busy": "2025-03-31T22:11:47.116197Z",
     "iopub.status.idle": "2025-03-31T22:11:47.166304Z",
     "shell.execute_reply": "2025-03-31T22:11:47.165469Z"
    },
    "papermill": {
     "duration": 0.057448,
     "end_time": "2025-03-31T22:11:47.167480",
     "exception": false,
     "start_time": "2025-03-31T22:11:47.110032",
     "status": "completed"
    },
    "tags": []
   },
   "outputs": [
    {
     "data": {
      "text/plain": [
       "[['сплошной среда',\n",
       "  'вычислительный механика',\n",
       "  'плоский канал',\n",
       "  'упруговязкий жидкост',\n",
       "  'тангенциальный разрыв',\n",
       "  'технический университет',\n",
       "  'экспериментальный данные',\n",
       "  'поперечный координата',\n",
       "  'государственный университет',\n",
       "  'реологический модель',\n",
       "  'нормальный составляющая',\n",
       "  'продольный скорость',\n",
       "  'конвективный производная',\n",
       "  'макромолекулярный клубка',\n",
       "  'сдвиговой вязкость',\n",
       "  'материальный констант',\n",
       "  'молекулярный весы',\n",
       "  'относительный движениебусинка',\n",
       "  'исходный параметровмодель',\n",
       "  'нулевой приближение'],\n",
       " ['анизотропия тензор',\n",
       "  'давление перепад',\n",
       "  'среда механика',\n",
       "  'тензор компонент',\n",
       "  'канал высота',\n",
       "  'сходимость критерий',\n",
       "  'скорость профиль',\n",
       "  'степень полином',\n",
       "  'полимер раствор',\n",
       "  'физик технич.',\n",
       "  'технич. мех',\n",
       "  'параметровзадача совокупность',\n",
       "  'заключение привелоавтор',\n",
       "  'теория приближение',\n",
       "  'привелоавтор изучение',\n",
       "  'оператор набла',\n",
       "  'итерация известнымииз',\n",
       "  'пр. сведение',\n",
       "  'размер прямоугольник',\n",
       "  'неоднозначныхрежим появление'],\n",
       " ['разграничать привелоавтор',\n",
       "  'соединить бусинок',\n",
       "  'модифицировать модельюВиноградово',\n",
       "  'пределахрассматривать зона',\n",
       "  'частотывыждать колебание',\n",
       "  'осциллировать колебание',\n",
       "  'зависеть коэффициент',\n",
       "  'соединять вектор',\n",
       "  'определить совокупность',\n",
       "  'замкнуть петля',\n",
       "  'связать вклад',\n",
       "  'задать перепададавление',\n",
       "  'отличаться существуютдва',\n",
       "  'описывать движениебусинка',\n",
       "  'сопрячить корень',\n",
       "  'проскакивать процесс',\n",
       "  'сеткеопределять процесс',\n",
       "  'позволять соотношение',\n",
       "  'наложить сдвиг',\n",
       "  'кинематическиновать область']]"
      ]
     },
     "execution_count": 14,
     "metadata": {},
     "output_type": "execute_result"
    }
   ],
   "source": [
    "top20by_gr_samples(doc, gr_samples, 'MI3')"
   ]
  },
  {
   "cell_type": "code",
   "execution_count": 15,
   "id": "6556d29b",
   "metadata": {
    "execution": {
     "iopub.execute_input": "2025-03-31T22:11:47.178934Z",
     "iopub.status.busy": "2025-03-31T22:11:47.178738Z",
     "iopub.status.idle": "2025-03-31T22:11:47.183000Z",
     "shell.execute_reply": "2025-03-31T22:11:47.182337Z"
    },
    "papermill": {
     "duration": 0.011222,
     "end_time": "2025-03-31T22:11:47.184108",
     "exception": false,
     "start_time": "2025-03-31T22:11:47.172886",
     "status": "completed"
    },
    "tags": []
   },
   "outputs": [
    {
     "name": "stdout",
     "output_type": "stream",
     "text": [
      "Точность нахождения терминов: 0.65\n"
     ]
    }
   ],
   "source": [
    "acc1 = 17/20\n",
    "acc2 = 15/20\n",
    "acc3 = 7/20\n",
    "\n",
    "print(\"Точность нахождения терминов:\", np.mean([acc1, acc2, acc3]))"
   ]
  },
  {
   "cell_type": "markdown",
   "id": "dfaa570f",
   "metadata": {
    "papermill": {
     "duration": 0.00522,
     "end_time": "2025-03-31T22:11:47.194921",
     "exception": false,
     "start_time": "2025-03-31T22:11:47.189701",
     "status": "completed"
    },
    "tags": []
   },
   "source": [
    "# Sapiens"
   ]
  },
  {
   "cell_type": "code",
   "execution_count": 16,
   "id": "0f134148",
   "metadata": {
    "execution": {
     "iopub.execute_input": "2025-03-31T22:11:47.206624Z",
     "iopub.status.busy": "2025-03-31T22:11:47.206386Z",
     "iopub.status.idle": "2025-03-31T22:11:47.304949Z",
     "shell.execute_reply": "2025-03-31T22:11:47.304319Z"
    },
    "papermill": {
     "duration": 0.10594,
     "end_time": "2025-03-31T22:11:47.306292",
     "exception": false,
     "start_time": "2025-03-31T22:11:47.200352",
     "status": "completed"
    },
    "tags": []
   },
   "outputs": [],
   "source": [
    "link = '/kaggle/input/sapiens/Harari_Sapiens-Kratkaya-istoriya-chelovechestva.OGmOcQ.504097.txt'\n",
    "text = open(link).read()\n",
    "\n",
    "text = clean_text(text)"
   ]
  },
  {
   "cell_type": "code",
   "execution_count": 17,
   "id": "c99a9f48",
   "metadata": {
    "execution": {
     "iopub.execute_input": "2025-03-31T22:11:47.318254Z",
     "iopub.status.busy": "2025-03-31T22:11:47.318015Z",
     "iopub.status.idle": "2025-03-31T22:11:47.323223Z",
     "shell.execute_reply": "2025-03-31T22:11:47.322385Z"
    },
    "papermill": {
     "duration": 0.012515,
     "end_time": "2025-03-31T22:11:47.324440",
     "exception": false,
     "start_time": "2025-03-31T22:11:47.311925",
     "status": "completed"
    },
    "tags": []
   },
   "outputs": [
    {
     "name": "stdout",
     "output_type": "stream",
     "text": [
      "817730\n"
     ]
    },
    {
     "data": {
      "text/plain": [
       "'Annotation\\n\\n\\nСто тысяч лет назад Homo sapiens был одним из как минимум шести видов человека, живших на этой планете, – ничем не примечательным животным, которое играло  экосистеме роль не большую, чем гориллы, светлячки или медузы. Но около семидесяти тысяч лет назад загадочное изменение когнитивных способностей Homo sapiens превратило его  хозяина планеты  кошмар экосистемы. Как человек разумный сумел покорить мир? Что стало  другими видами человека? Когда  почему появились деньги, государства  религия? Как возникали  рушились империи? Почему почти все общества ставили женщин ниже мужчин? Как наука  капитализм стали господствующими вероучениями современной эры? Становились ли люди  течением времени счастливее? Какое будущее нас ожидает?\\n\\nЮваль Харари показывает, как ход истории формировал человеческое общество  действительность вокруг него. Его книга прослеживает связь между событиями прошлого  проблемами современности  заставляет читателя пересмотреть все устоявшиеся представления об'"
      ]
     },
     "execution_count": 17,
     "metadata": {},
     "output_type": "execute_result"
    }
   ],
   "source": [
    "print(len(text))\n",
    "text[:1000]"
   ]
  },
  {
   "cell_type": "code",
   "execution_count": 18,
   "id": "d28b6a53",
   "metadata": {
    "execution": {
     "iopub.execute_input": "2025-03-31T22:11:47.336109Z",
     "iopub.status.busy": "2025-03-31T22:11:47.335911Z",
     "iopub.status.idle": "2025-03-31T22:13:14.044531Z",
     "shell.execute_reply": "2025-03-31T22:13:14.043815Z"
    },
    "papermill": {
     "duration": 86.716162,
     "end_time": "2025-03-31T22:13:14.046180",
     "exception": false,
     "start_time": "2025-03-31T22:11:47.330018",
     "status": "completed"
    },
    "tags": []
   },
   "outputs": [],
   "source": [
    "doc = nlp(text)"
   ]
  },
  {
   "cell_type": "code",
   "execution_count": 19,
   "id": "1367134e",
   "metadata": {
    "execution": {
     "iopub.execute_input": "2025-03-31T22:13:14.059050Z",
     "iopub.status.busy": "2025-03-31T22:13:14.058828Z",
     "iopub.status.idle": "2025-03-31T22:13:14.145982Z",
     "shell.execute_reply": "2025-03-31T22:13:14.145199Z"
    },
    "papermill": {
     "duration": 0.094826,
     "end_time": "2025-03-31T22:13:14.147301",
     "exception": false,
     "start_time": "2025-03-31T22:13:14.052475",
     "status": "completed"
    },
    "tags": []
   },
   "outputs": [
    {
     "name": "stdout",
     "output_type": "stream",
     "text": [
      "Количество слов в тексте:  102139\n"
     ]
    }
   ],
   "source": [
    "fr_word_dict = count_words(doc)\n",
    "N = sum(fr_word_dict.values())\n",
    "print('Количество слов в тексте: ', N)"
   ]
  },
  {
   "cell_type": "code",
   "execution_count": 20,
   "id": "f1991c76",
   "metadata": {
    "execution": {
     "iopub.execute_input": "2025-03-31T22:13:14.159848Z",
     "iopub.status.busy": "2025-03-31T22:13:14.159616Z",
     "iopub.status.idle": "2025-03-31T22:13:14.162600Z",
     "shell.execute_reply": "2025-03-31T22:13:14.162002Z"
    },
    "papermill": {
     "duration": 0.010493,
     "end_time": "2025-03-31T22:13:14.163871",
     "exception": false,
     "start_time": "2025-03-31T22:13:14.153378",
     "status": "completed"
    },
    "tags": []
   },
   "outputs": [],
   "source": [
    "gr_samples = ('ADJ+NOUN', 'NOUN+NOUN', 'VERB+NOUN', 'ADV+ADJ')"
   ]
  },
  {
   "cell_type": "code",
   "execution_count": 21,
   "id": "76a924c9",
   "metadata": {
    "execution": {
     "iopub.execute_input": "2025-03-31T22:13:14.175870Z",
     "iopub.status.busy": "2025-03-31T22:13:14.175642Z",
     "iopub.status.idle": "2025-03-31T22:13:14.980803Z",
     "shell.execute_reply": "2025-03-31T22:13:14.979923Z"
    },
    "papermill": {
     "duration": 0.81263,
     "end_time": "2025-03-31T22:13:14.982151",
     "exception": false,
     "start_time": "2025-03-31T22:13:14.169521",
     "status": "completed"
    },
    "tags": []
   },
   "outputs": [
    {
     "data": {
      "text/plain": [
       "[['сельский хозяйство',\n",
       "  'аграрный революция',\n",
       "  'генный инженерия',\n",
       "  'железный дорога',\n",
       "  'xix век',\n",
       "  'живой существо',\n",
       "  'порочный круг',\n",
       "  'квантовый механика',\n",
       "  'самый дело',\n",
       "  'современный эпоха',\n",
       "  'квадратный километр',\n",
       "  'детский смертность',\n",
       "  'когнитивный революция',\n",
       "  'атомный бомба',\n",
       "  'естественный отбор',\n",
       "  'сахарный тростник',\n",
       "  'тысячелетний давность',\n",
       "  'тихий океан',\n",
       "  'промышленный революция',\n",
       "  'воображаемый порядок'],\n",
       " ['зрение точка',\n",
       "  'собиратель охотник',\n",
       "  'друг друг',\n",
       "  'тысяча год',\n",
       "  'авт прим.',\n",
       "  'чиля перец',\n",
       "  'молчание завес',\n",
       "  'серебро сикель',\n",
       "  'пенс шиллинг',\n",
       "  'ткач землевладелец',\n",
       "  'мобиль перпетуум',\n",
       "  'чулок парик',\n",
       "  'каблук парик',\n",
       "  'шпион муха',\n",
       "  'каури раковина',\n",
       "  'община семья',\n",
       "  'обстоятельство стечение',\n",
       "  'закат рассвет',\n",
       "  'приключение искатель',\n",
       "  'грант заявка'],\n",
       " ['окружать среда',\n",
       "  'просигнать гудка',\n",
       "  'вживить макака',\n",
       "  'абортировать зародыша',\n",
       "  'обуглить тушка',\n",
       "  'возносить похвала',\n",
       "  'выдубить патриарх',\n",
       "  'капризничать чад',\n",
       "  'высочить стопка',\n",
       "  'расположить микрофон',\n",
       "  'жеть свита',\n",
       "  'отъявить злодей',\n",
       "  'депонировать чек',\n",
       "  'взбить сливки',\n",
       "  'дыметься труба',\n",
       "  'усложнять курьез',\n",
       "  'проклюнуться росток',\n",
       "  'состязаться соревнование',\n",
       "  'спланировать решимость',\n",
       "  'упитать агнец'],\n",
       " ['эмоционально неприспособленный',\n",
       "  'чудовищно неэффективный',\n",
       "  'излишне снисходительный',\n",
       "  'взаимно проигрышный',\n",
       "  'политически раздробленный',\n",
       "  'родом эндемичный',\n",
       "  'яростно антиевропейский',\n",
       "  'поистине неограничный',\n",
       "  'когда-то единодушный',\n",
       "  'экологически несхожий',\n",
       "  'оттого брутальный',\n",
       "  'генетически предрасположенный',\n",
       "  'стопроцентно достоверный',\n",
       "  'враждебно настроенный',\n",
       "  'спобно трудолюбивый',\n",
       "  'впрочем карликовый',\n",
       "  'так-то простой',\n",
       "  'общественно полезный',\n",
       "  'приятно спокойный',\n",
       "  'отдельно закладной']]"
      ]
     },
     "execution_count": 21,
     "metadata": {},
     "output_type": "execute_result"
    }
   ],
   "source": [
    "top20by_gr_samples(doc, gr_samples, 'MI3')"
   ]
  },
  {
   "cell_type": "code",
   "execution_count": 22,
   "id": "89338c60",
   "metadata": {
    "execution": {
     "iopub.execute_input": "2025-03-31T22:13:14.995206Z",
     "iopub.status.busy": "2025-03-31T22:13:14.994978Z",
     "iopub.status.idle": "2025-03-31T22:13:14.998998Z",
     "shell.execute_reply": "2025-03-31T22:13:14.998049Z"
    },
    "papermill": {
     "duration": 0.011871,
     "end_time": "2025-03-31T22:13:15.000236",
     "exception": false,
     "start_time": "2025-03-31T22:13:14.988365",
     "status": "completed"
    },
    "tags": []
   },
   "outputs": [
    {
     "name": "stdout",
     "output_type": "stream",
     "text": [
      "Точность нахождения терминов: 0.525\n"
     ]
    }
   ],
   "source": [
    "acc1 = 16/20\n",
    "acc2 = 14/20\n",
    "acc3 = 3/20\n",
    "acc4 = 9/20\n",
    "\n",
    "print(\"Точность нахождения терминов:\", np.mean([acc1, acc2, acc3, acc4]))"
   ]
  }
 ],
 "metadata": {
  "kaggle": {
   "accelerator": "nvidiaTeslaT4",
   "dataSources": [
    {
     "datasetId": 3538305,
     "sourceId": 6166930,
     "sourceType": "datasetVersion"
    },
    {
     "datasetId": 7014503,
     "sourceId": 11230004,
     "sourceType": "datasetVersion"
    }
   ],
   "dockerImageVersionId": 30918,
   "isGpuEnabled": true,
   "isInternetEnabled": true,
   "language": "python",
   "sourceType": "notebook"
  },
  "kernelspec": {
   "display_name": "Python 3",
   "language": "python",
   "name": "python3"
  },
  "language_info": {
   "codemirror_mode": {
    "name": "ipython",
    "version": 3
   },
   "file_extension": ".py",
   "mimetype": "text/x-python",
   "name": "python",
   "nbconvert_exporter": "python",
   "pygments_lexer": "ipython3",
   "version": "3.10.12"
  },
  "papermill": {
   "default_parameters": {},
   "duration": 139.819896,
   "end_time": "2025-03-31T22:13:17.956322",
   "environment_variables": {},
   "exception": null,
   "input_path": "__notebook__.ipynb",
   "output_path": "__notebook__.ipynb",
   "parameters": {},
   "start_time": "2025-03-31T22:10:58.136426",
   "version": "2.6.0"
  },
  "widgets": {
   "application/vnd.jupyter.widget-state+json": {
    "state": {
     "0311e255f0884783aa42dfceddd9764f": {
      "model_module": "@jupyter-widgets/controls",
      "model_module_version": "2.0.0",
      "model_name": "HTMLModel",
      "state": {
       "_dom_classes": [],
       "_model_module": "@jupyter-widgets/controls",
       "_model_module_version": "2.0.0",
       "_model_name": "HTMLModel",
       "_view_count": null,
       "_view_module": "@jupyter-widgets/controls",
       "_view_module_version": "2.0.0",
       "_view_name": "HTMLView",
       "description": "",
       "description_allow_html": false,
       "layout": "IPY_MODEL_1aa020edb1ff4ed49ca874b9f50cc954",
       "placeholder": "​",
       "style": "IPY_MODEL_4b05485d973b491487986f57a01fa1d2",
       "tabbable": null,
       "tooltip": null,
       "value": " 424k/? [00:00&lt;00:00, 30.9MB/s]"
      }
     },
     "1843f35ef9d544818d665650c628f0fd": {
      "model_module": "@jupyter-widgets/base",
      "model_module_version": "2.0.0",
      "model_name": "LayoutModel",
      "state": {
       "_model_module": "@jupyter-widgets/base",
       "_model_module_version": "2.0.0",
       "_model_name": "LayoutModel",
       "_view_count": null,
       "_view_module": "@jupyter-widgets/base",
       "_view_module_version": "2.0.0",
       "_view_name": "LayoutView",
       "align_content": null,
       "align_items": null,
       "align_self": null,
       "border_bottom": null,
       "border_left": null,
       "border_right": null,
       "border_top": null,
       "bottom": null,
       "display": null,
       "flex": null,
       "flex_flow": null,
       "grid_area": null,
       "grid_auto_columns": null,
       "grid_auto_flow": null,
       "grid_auto_rows": null,
       "grid_column": null,
       "grid_gap": null,
       "grid_row": null,
       "grid_template_areas": null,
       "grid_template_columns": null,
       "grid_template_rows": null,
       "height": null,
       "justify_content": null,
       "justify_items": null,
       "left": null,
       "margin": null,
       "max_height": null,
       "max_width": null,
       "min_height": null,
       "min_width": null,
       "object_fit": null,
       "object_position": null,
       "order": null,
       "overflow": null,
       "padding": null,
       "right": null,
       "top": null,
       "visibility": null,
       "width": null
      }
     },
     "1aa020edb1ff4ed49ca874b9f50cc954": {
      "model_module": "@jupyter-widgets/base",
      "model_module_version": "2.0.0",
      "model_name": "LayoutModel",
      "state": {
       "_model_module": "@jupyter-widgets/base",
       "_model_module_version": "2.0.0",
       "_model_name": "LayoutModel",
       "_view_count": null,
       "_view_module": "@jupyter-widgets/base",
       "_view_module_version": "2.0.0",
       "_view_name": "LayoutView",
       "align_content": null,
       "align_items": null,
       "align_self": null,
       "border_bottom": null,
       "border_left": null,
       "border_right": null,
       "border_top": null,
       "bottom": null,
       "display": null,
       "flex": null,
       "flex_flow": null,
       "grid_area": null,
       "grid_auto_columns": null,
       "grid_auto_flow": null,
       "grid_auto_rows": null,
       "grid_column": null,
       "grid_gap": null,
       "grid_row": null,
       "grid_template_areas": null,
       "grid_template_columns": null,
       "grid_template_rows": null,
       "height": null,
       "justify_content": null,
       "justify_items": null,
       "left": null,
       "margin": null,
       "max_height": null,
       "max_width": null,
       "min_height": null,
       "min_width": null,
       "object_fit": null,
       "object_position": null,
       "order": null,
       "overflow": null,
       "padding": null,
       "right": null,
       "top": null,
       "visibility": null,
       "width": null
      }
     },
     "1e268f0b7ad141948b81c6fa4255d281": {
      "model_module": "@jupyter-widgets/controls",
      "model_module_version": "2.0.0",
      "model_name": "FloatProgressModel",
      "state": {
       "_dom_classes": [],
       "_model_module": "@jupyter-widgets/controls",
       "_model_module_version": "2.0.0",
       "_model_name": "FloatProgressModel",
       "_view_count": null,
       "_view_module": "@jupyter-widgets/controls",
       "_view_module_version": "2.0.0",
       "_view_name": "ProgressView",
       "bar_style": "success",
       "description": "",
       "description_allow_html": false,
       "layout": "IPY_MODEL_8142fa5781b74e71a42db75514780dbe",
       "max": 629165195.0,
       "min": 0.0,
       "orientation": "horizontal",
       "style": "IPY_MODEL_7788e5e29c954c84b0cdb2f971371ccb",
       "tabbable": null,
       "tooltip": null,
       "value": 629165195.0
      }
     },
     "226817935c974742a4006c0c2aeae0b5": {
      "model_module": "@jupyter-widgets/controls",
      "model_module_version": "2.0.0",
      "model_name": "HTMLStyleModel",
      "state": {
       "_model_module": "@jupyter-widgets/controls",
       "_model_module_version": "2.0.0",
       "_model_name": "HTMLStyleModel",
       "_view_count": null,
       "_view_module": "@jupyter-widgets/base",
       "_view_module_version": "2.0.0",
       "_view_name": "StyleView",
       "background": null,
       "description_width": "",
       "font_size": null,
       "text_color": null
      }
     },
     "2cc0708ac75d4804a08a7f6223dda014": {
      "model_module": "@jupyter-widgets/base",
      "model_module_version": "2.0.0",
      "model_name": "LayoutModel",
      "state": {
       "_model_module": "@jupyter-widgets/base",
       "_model_module_version": "2.0.0",
       "_model_name": "LayoutModel",
       "_view_count": null,
       "_view_module": "@jupyter-widgets/base",
       "_view_module_version": "2.0.0",
       "_view_name": "LayoutView",
       "align_content": null,
       "align_items": null,
       "align_self": null,
       "border_bottom": null,
       "border_left": null,
       "border_right": null,
       "border_top": null,
       "bottom": null,
       "display": null,
       "flex": null,
       "flex_flow": null,
       "grid_area": null,
       "grid_auto_columns": null,
       "grid_auto_flow": null,
       "grid_auto_rows": null,
       "grid_column": null,
       "grid_gap": null,
       "grid_row": null,
       "grid_template_areas": null,
       "grid_template_columns": null,
       "grid_template_rows": null,
       "height": null,
       "justify_content": null,
       "justify_items": null,
       "left": null,
       "margin": null,
       "max_height": null,
       "max_width": null,
       "min_height": null,
       "min_width": null,
       "object_fit": null,
       "object_position": null,
       "order": null,
       "overflow": null,
       "padding": null,
       "right": null,
       "top": null,
       "visibility": null,
       "width": null
      }
     },
     "2ea7476f13734d1eb72ab76bf4c52274": {
      "model_module": "@jupyter-widgets/controls",
      "model_module_version": "2.0.0",
      "model_name": "HTMLModel",
      "state": {
       "_dom_classes": [],
       "_model_module": "@jupyter-widgets/controls",
       "_model_module_version": "2.0.0",
       "_model_name": "HTMLModel",
       "_view_count": null,
       "_view_module": "@jupyter-widgets/controls",
       "_view_module_version": "2.0.0",
       "_view_name": "HTMLView",
       "description": "",
       "description_allow_html": false,
       "layout": "IPY_MODEL_dc3e92aa24dd456f903d4ddc75ec71fa",
       "placeholder": "​",
       "style": "IPY_MODEL_226817935c974742a4006c0c2aeae0b5",
       "tabbable": null,
       "tooltip": null,
       "value": " 629M/629M [00:02&lt;00:00, 232MB/s]"
      }
     },
     "375dc99a42a14440adf399c7040938d4": {
      "model_module": "@jupyter-widgets/controls",
      "model_module_version": "2.0.0",
      "model_name": "HBoxModel",
      "state": {
       "_dom_classes": [],
       "_model_module": "@jupyter-widgets/controls",
       "_model_module_version": "2.0.0",
       "_model_name": "HBoxModel",
       "_view_count": null,
       "_view_module": "@jupyter-widgets/controls",
       "_view_module_version": "2.0.0",
       "_view_name": "HBoxView",
       "box_style": "",
       "children": [
        "IPY_MODEL_7ef3b21ef8684f0da0fdb033c5bdcc0d",
        "IPY_MODEL_d5fb873ef7c24b3591adda6b2a588d2c",
        "IPY_MODEL_0311e255f0884783aa42dfceddd9764f"
       ],
       "layout": "IPY_MODEL_6f53a633bbfc4bdfbb4ef21ea54f9fef",
       "tabbable": null,
       "tooltip": null
      }
     },
     "40f132efb1394364bf5f526600b93203": {
      "model_module": "@jupyter-widgets/controls",
      "model_module_version": "2.0.0",
      "model_name": "HBoxModel",
      "state": {
       "_dom_classes": [],
       "_model_module": "@jupyter-widgets/controls",
       "_model_module_version": "2.0.0",
       "_model_name": "HBoxModel",
       "_view_count": null,
       "_view_module": "@jupyter-widgets/controls",
       "_view_module_version": "2.0.0",
       "_view_name": "HBoxView",
       "box_style": "",
       "children": [
        "IPY_MODEL_83ba8969ece544a4b92aea6cf41db702",
        "IPY_MODEL_1e268f0b7ad141948b81c6fa4255d281",
        "IPY_MODEL_2ea7476f13734d1eb72ab76bf4c52274"
       ],
       "layout": "IPY_MODEL_792c16d59caf44f684e4c6ca61501862",
       "tabbable": null,
       "tooltip": null
      }
     },
     "453740ae54bf49b99ce5fa8b97ea9a60": {
      "model_module": "@jupyter-widgets/controls",
      "model_module_version": "2.0.0",
      "model_name": "FloatProgressModel",
      "state": {
       "_dom_classes": [],
       "_model_module": "@jupyter-widgets/controls",
       "_model_module_version": "2.0.0",
       "_model_name": "FloatProgressModel",
       "_view_count": null,
       "_view_module": "@jupyter-widgets/controls",
       "_view_module_version": "2.0.0",
       "_view_name": "ProgressView",
       "bar_style": "success",
       "description": "",
       "description_allow_html": false,
       "layout": "IPY_MODEL_709ae6ef6985465a9962d1848655fa83",
       "max": 52554.0,
       "min": 0.0,
       "orientation": "horizontal",
       "style": "IPY_MODEL_7bba7c198d384a489821c975382ea7a2",
       "tabbable": null,
       "tooltip": null,
       "value": 52554.0
      }
     },
     "4b05485d973b491487986f57a01fa1d2": {
      "model_module": "@jupyter-widgets/controls",
      "model_module_version": "2.0.0",
      "model_name": "HTMLStyleModel",
      "state": {
       "_model_module": "@jupyter-widgets/controls",
       "_model_module_version": "2.0.0",
       "_model_name": "HTMLStyleModel",
       "_view_count": null,
       "_view_module": "@jupyter-widgets/base",
       "_view_module_version": "2.0.0",
       "_view_name": "StyleView",
       "background": null,
       "description_width": "",
       "font_size": null,
       "text_color": null
      }
     },
     "55ed9b8bcd054b8cbb81cd11302144ce": {
      "model_module": "@jupyter-widgets/controls",
      "model_module_version": "2.0.0",
      "model_name": "HTMLStyleModel",
      "state": {
       "_model_module": "@jupyter-widgets/controls",
       "_model_module_version": "2.0.0",
       "_model_name": "HTMLStyleModel",
       "_view_count": null,
       "_view_module": "@jupyter-widgets/base",
       "_view_module_version": "2.0.0",
       "_view_name": "StyleView",
       "background": null,
       "description_width": "",
       "font_size": null,
       "text_color": null
      }
     },
     "5f0fd46f5fcb4e37b5c0580346b3e8aa": {
      "model_module": "@jupyter-widgets/base",
      "model_module_version": "2.0.0",
      "model_name": "LayoutModel",
      "state": {
       "_model_module": "@jupyter-widgets/base",
       "_model_module_version": "2.0.0",
       "_model_name": "LayoutModel",
       "_view_count": null,
       "_view_module": "@jupyter-widgets/base",
       "_view_module_version": "2.0.0",
       "_view_name": "LayoutView",
       "align_content": null,
       "align_items": null,
       "align_self": null,
       "border_bottom": null,
       "border_left": null,
       "border_right": null,
       "border_top": null,
       "bottom": null,
       "display": null,
       "flex": null,
       "flex_flow": null,
       "grid_area": null,
       "grid_auto_columns": null,
       "grid_auto_flow": null,
       "grid_auto_rows": null,
       "grid_column": null,
       "grid_gap": null,
       "grid_row": null,
       "grid_template_areas": null,
       "grid_template_columns": null,
       "grid_template_rows": null,
       "height": null,
       "justify_content": null,
       "justify_items": null,
       "left": null,
       "margin": null,
       "max_height": null,
       "max_width": null,
       "min_height": null,
       "min_width": null,
       "object_fit": null,
       "object_position": null,
       "order": null,
       "overflow": null,
       "padding": null,
       "right": null,
       "top": null,
       "visibility": null,
       "width": null
      }
     },
     "648e3068d7e74b11ba19b68e22afa29b": {
      "model_module": "@jupyter-widgets/base",
      "model_module_version": "2.0.0",
      "model_name": "LayoutModel",
      "state": {
       "_model_module": "@jupyter-widgets/base",
       "_model_module_version": "2.0.0",
       "_model_name": "LayoutModel",
       "_view_count": null,
       "_view_module": "@jupyter-widgets/base",
       "_view_module_version": "2.0.0",
       "_view_name": "LayoutView",
       "align_content": null,
       "align_items": null,
       "align_self": null,
       "border_bottom": null,
       "border_left": null,
       "border_right": null,
       "border_top": null,
       "bottom": null,
       "display": null,
       "flex": null,
       "flex_flow": null,
       "grid_area": null,
       "grid_auto_columns": null,
       "grid_auto_flow": null,
       "grid_auto_rows": null,
       "grid_column": null,
       "grid_gap": null,
       "grid_row": null,
       "grid_template_areas": null,
       "grid_template_columns": null,
       "grid_template_rows": null,
       "height": null,
       "justify_content": null,
       "justify_items": null,
       "left": null,
       "margin": null,
       "max_height": null,
       "max_width": null,
       "min_height": null,
       "min_width": null,
       "object_fit": null,
       "object_position": null,
       "order": null,
       "overflow": null,
       "padding": null,
       "right": null,
       "top": null,
       "visibility": null,
       "width": null
      }
     },
     "67e7537c780441a09e8ddfa3d381201a": {
      "model_module": "@jupyter-widgets/controls",
      "model_module_version": "2.0.0",
      "model_name": "HTMLStyleModel",
      "state": {
       "_model_module": "@jupyter-widgets/controls",
       "_model_module_version": "2.0.0",
       "_model_name": "HTMLStyleModel",
       "_view_count": null,
       "_view_module": "@jupyter-widgets/base",
       "_view_module_version": "2.0.0",
       "_view_name": "StyleView",
       "background": null,
       "description_width": "",
       "font_size": null,
       "text_color": null
      }
     },
     "6f53a633bbfc4bdfbb4ef21ea54f9fef": {
      "model_module": "@jupyter-widgets/base",
      "model_module_version": "2.0.0",
      "model_name": "LayoutModel",
      "state": {
       "_model_module": "@jupyter-widgets/base",
       "_model_module_version": "2.0.0",
       "_model_name": "LayoutModel",
       "_view_count": null,
       "_view_module": "@jupyter-widgets/base",
       "_view_module_version": "2.0.0",
       "_view_name": "LayoutView",
       "align_content": null,
       "align_items": null,
       "align_self": null,
       "border_bottom": null,
       "border_left": null,
       "border_right": null,
       "border_top": null,
       "bottom": null,
       "display": null,
       "flex": null,
       "flex_flow": null,
       "grid_area": null,
       "grid_auto_columns": null,
       "grid_auto_flow": null,
       "grid_auto_rows": null,
       "grid_column": null,
       "grid_gap": null,
       "grid_row": null,
       "grid_template_areas": null,
       "grid_template_columns": null,
       "grid_template_rows": null,
       "height": null,
       "justify_content": null,
       "justify_items": null,
       "left": null,
       "margin": null,
       "max_height": null,
       "max_width": null,
       "min_height": null,
       "min_width": null,
       "object_fit": null,
       "object_position": null,
       "order": null,
       "overflow": null,
       "padding": null,
       "right": null,
       "top": null,
       "visibility": null,
       "width": null
      }
     },
     "709ae6ef6985465a9962d1848655fa83": {
      "model_module": "@jupyter-widgets/base",
      "model_module_version": "2.0.0",
      "model_name": "LayoutModel",
      "state": {
       "_model_module": "@jupyter-widgets/base",
       "_model_module_version": "2.0.0",
       "_model_name": "LayoutModel",
       "_view_count": null,
       "_view_module": "@jupyter-widgets/base",
       "_view_module_version": "2.0.0",
       "_view_name": "LayoutView",
       "align_content": null,
       "align_items": null,
       "align_self": null,
       "border_bottom": null,
       "border_left": null,
       "border_right": null,
       "border_top": null,
       "bottom": null,
       "display": null,
       "flex": null,
       "flex_flow": null,
       "grid_area": null,
       "grid_auto_columns": null,
       "grid_auto_flow": null,
       "grid_auto_rows": null,
       "grid_column": null,
       "grid_gap": null,
       "grid_row": null,
       "grid_template_areas": null,
       "grid_template_columns": null,
       "grid_template_rows": null,
       "height": null,
       "justify_content": null,
       "justify_items": null,
       "left": null,
       "margin": null,
       "max_height": null,
       "max_width": null,
       "min_height": null,
       "min_width": null,
       "object_fit": null,
       "object_position": null,
       "order": null,
       "overflow": null,
       "padding": null,
       "right": null,
       "top": null,
       "visibility": null,
       "width": null
      }
     },
     "7788e5e29c954c84b0cdb2f971371ccb": {
      "model_module": "@jupyter-widgets/controls",
      "model_module_version": "2.0.0",
      "model_name": "ProgressStyleModel",
      "state": {
       "_model_module": "@jupyter-widgets/controls",
       "_model_module_version": "2.0.0",
       "_model_name": "ProgressStyleModel",
       "_view_count": null,
       "_view_module": "@jupyter-widgets/base",
       "_view_module_version": "2.0.0",
       "_view_name": "StyleView",
       "bar_color": null,
       "description_width": ""
      }
     },
     "792c16d59caf44f684e4c6ca61501862": {
      "model_module": "@jupyter-widgets/base",
      "model_module_version": "2.0.0",
      "model_name": "LayoutModel",
      "state": {
       "_model_module": "@jupyter-widgets/base",
       "_model_module_version": "2.0.0",
       "_model_name": "LayoutModel",
       "_view_count": null,
       "_view_module": "@jupyter-widgets/base",
       "_view_module_version": "2.0.0",
       "_view_name": "LayoutView",
       "align_content": null,
       "align_items": null,
       "align_self": null,
       "border_bottom": null,
       "border_left": null,
       "border_right": null,
       "border_top": null,
       "bottom": null,
       "display": null,
       "flex": null,
       "flex_flow": null,
       "grid_area": null,
       "grid_auto_columns": null,
       "grid_auto_flow": null,
       "grid_auto_rows": null,
       "grid_column": null,
       "grid_gap": null,
       "grid_row": null,
       "grid_template_areas": null,
       "grid_template_columns": null,
       "grid_template_rows": null,
       "height": null,
       "justify_content": null,
       "justify_items": null,
       "left": null,
       "margin": null,
       "max_height": null,
       "max_width": null,
       "min_height": null,
       "min_width": null,
       "object_fit": null,
       "object_position": null,
       "order": null,
       "overflow": null,
       "padding": null,
       "right": null,
       "top": null,
       "visibility": null,
       "width": null
      }
     },
     "7bba7c198d384a489821c975382ea7a2": {
      "model_module": "@jupyter-widgets/controls",
      "model_module_version": "2.0.0",
      "model_name": "ProgressStyleModel",
      "state": {
       "_model_module": "@jupyter-widgets/controls",
       "_model_module_version": "2.0.0",
       "_model_name": "ProgressStyleModel",
       "_view_count": null,
       "_view_module": "@jupyter-widgets/base",
       "_view_module_version": "2.0.0",
       "_view_name": "StyleView",
       "bar_color": null,
       "description_width": ""
      }
     },
     "7ef3b21ef8684f0da0fdb033c5bdcc0d": {
      "model_module": "@jupyter-widgets/controls",
      "model_module_version": "2.0.0",
      "model_name": "HTMLModel",
      "state": {
       "_dom_classes": [],
       "_model_module": "@jupyter-widgets/controls",
       "_model_module_version": "2.0.0",
       "_model_name": "HTMLModel",
       "_view_count": null,
       "_view_module": "@jupyter-widgets/controls",
       "_view_module_version": "2.0.0",
       "_view_name": "HTMLView",
       "description": "",
       "description_allow_html": false,
       "layout": "IPY_MODEL_bd53ebb4c70b46b089d171dcfe197190",
       "placeholder": "​",
       "style": "IPY_MODEL_b48a62ed0f014b778ce2c560b8e64fb8",
       "tabbable": null,
       "tooltip": null,
       "value": "Downloading https://raw.githubusercontent.com/stanfordnlp/stanza-resources/main/resources_1.10.0.json: "
      }
     },
     "8142fa5781b74e71a42db75514780dbe": {
      "model_module": "@jupyter-widgets/base",
      "model_module_version": "2.0.0",
      "model_name": "LayoutModel",
      "state": {
       "_model_module": "@jupyter-widgets/base",
       "_model_module_version": "2.0.0",
       "_model_name": "LayoutModel",
       "_view_count": null,
       "_view_module": "@jupyter-widgets/base",
       "_view_module_version": "2.0.0",
       "_view_name": "LayoutView",
       "align_content": null,
       "align_items": null,
       "align_self": null,
       "border_bottom": null,
       "border_left": null,
       "border_right": null,
       "border_top": null,
       "bottom": null,
       "display": null,
       "flex": null,
       "flex_flow": null,
       "grid_area": null,
       "grid_auto_columns": null,
       "grid_auto_flow": null,
       "grid_auto_rows": null,
       "grid_column": null,
       "grid_gap": null,
       "grid_row": null,
       "grid_template_areas": null,
       "grid_template_columns": null,
       "grid_template_rows": null,
       "height": null,
       "justify_content": null,
       "justify_items": null,
       "left": null,
       "margin": null,
       "max_height": null,
       "max_width": null,
       "min_height": null,
       "min_width": null,
       "object_fit": null,
       "object_position": null,
       "order": null,
       "overflow": null,
       "padding": null,
       "right": null,
       "top": null,
       "visibility": null,
       "width": null
      }
     },
     "83ba8969ece544a4b92aea6cf41db702": {
      "model_module": "@jupyter-widgets/controls",
      "model_module_version": "2.0.0",
      "model_name": "HTMLModel",
      "state": {
       "_dom_classes": [],
       "_model_module": "@jupyter-widgets/controls",
       "_model_module_version": "2.0.0",
       "_model_name": "HTMLModel",
       "_view_count": null,
       "_view_module": "@jupyter-widgets/controls",
       "_view_module_version": "2.0.0",
       "_view_name": "HTMLView",
       "description": "",
       "description_allow_html": false,
       "layout": "IPY_MODEL_648e3068d7e74b11ba19b68e22afa29b",
       "placeholder": "​",
       "style": "IPY_MODEL_67e7537c780441a09e8ddfa3d381201a",
       "tabbable": null,
       "tooltip": null,
       "value": "Downloading https://huggingface.co/stanfordnlp/stanza-ru/resolve/v1.10.0/models/default.zip: 100%"
      }
     },
     "8e8599723e53487f8eedbf58b1ae81a4": {
      "model_module": "@jupyter-widgets/controls",
      "model_module_version": "2.0.0",
      "model_name": "HTMLModel",
      "state": {
       "_dom_classes": [],
       "_model_module": "@jupyter-widgets/controls",
       "_model_module_version": "2.0.0",
       "_model_name": "HTMLModel",
       "_view_count": null,
       "_view_module": "@jupyter-widgets/controls",
       "_view_module_version": "2.0.0",
       "_view_name": "HTMLView",
       "description": "",
       "description_allow_html": false,
       "layout": "IPY_MODEL_5f0fd46f5fcb4e37b5c0580346b3e8aa",
       "placeholder": "​",
       "style": "IPY_MODEL_a382e39a73674a90b3344a73e776edf4",
       "tabbable": null,
       "tooltip": null,
       "value": " 424k/? [00:00&lt;00:00, 19.1MB/s]"
      }
     },
     "a382e39a73674a90b3344a73e776edf4": {
      "model_module": "@jupyter-widgets/controls",
      "model_module_version": "2.0.0",
      "model_name": "HTMLStyleModel",
      "state": {
       "_model_module": "@jupyter-widgets/controls",
       "_model_module_version": "2.0.0",
       "_model_name": "HTMLStyleModel",
       "_view_count": null,
       "_view_module": "@jupyter-widgets/base",
       "_view_module_version": "2.0.0",
       "_view_name": "StyleView",
       "background": null,
       "description_width": "",
       "font_size": null,
       "text_color": null
      }
     },
     "b48a62ed0f014b778ce2c560b8e64fb8": {
      "model_module": "@jupyter-widgets/controls",
      "model_module_version": "2.0.0",
      "model_name": "HTMLStyleModel",
      "state": {
       "_model_module": "@jupyter-widgets/controls",
       "_model_module_version": "2.0.0",
       "_model_name": "HTMLStyleModel",
       "_view_count": null,
       "_view_module": "@jupyter-widgets/base",
       "_view_module_version": "2.0.0",
       "_view_name": "StyleView",
       "background": null,
       "description_width": "",
       "font_size": null,
       "text_color": null
      }
     },
     "ba9c3ce249ca432887a5ebde1537f3a5": {
      "model_module": "@jupyter-widgets/controls",
      "model_module_version": "2.0.0",
      "model_name": "HBoxModel",
      "state": {
       "_dom_classes": [],
       "_model_module": "@jupyter-widgets/controls",
       "_model_module_version": "2.0.0",
       "_model_name": "HBoxModel",
       "_view_count": null,
       "_view_module": "@jupyter-widgets/controls",
       "_view_module_version": "2.0.0",
       "_view_name": "HBoxView",
       "box_style": "",
       "children": [
        "IPY_MODEL_e61e1e15244240eb8959bb70b75fce9d",
        "IPY_MODEL_453740ae54bf49b99ce5fa8b97ea9a60",
        "IPY_MODEL_8e8599723e53487f8eedbf58b1ae81a4"
       ],
       "layout": "IPY_MODEL_1843f35ef9d544818d665650c628f0fd",
       "tabbable": null,
       "tooltip": null
      }
     },
     "bbd0e5db1c4d40f39feb3fd7eb4170d9": {
      "model_module": "@jupyter-widgets/base",
      "model_module_version": "2.0.0",
      "model_name": "LayoutModel",
      "state": {
       "_model_module": "@jupyter-widgets/base",
       "_model_module_version": "2.0.0",
       "_model_name": "LayoutModel",
       "_view_count": null,
       "_view_module": "@jupyter-widgets/base",
       "_view_module_version": "2.0.0",
       "_view_name": "LayoutView",
       "align_content": null,
       "align_items": null,
       "align_self": null,
       "border_bottom": null,
       "border_left": null,
       "border_right": null,
       "border_top": null,
       "bottom": null,
       "display": null,
       "flex": null,
       "flex_flow": null,
       "grid_area": null,
       "grid_auto_columns": null,
       "grid_auto_flow": null,
       "grid_auto_rows": null,
       "grid_column": null,
       "grid_gap": null,
       "grid_row": null,
       "grid_template_areas": null,
       "grid_template_columns": null,
       "grid_template_rows": null,
       "height": null,
       "justify_content": null,
       "justify_items": null,
       "left": null,
       "margin": null,
       "max_height": null,
       "max_width": null,
       "min_height": null,
       "min_width": null,
       "object_fit": null,
       "object_position": null,
       "order": null,
       "overflow": null,
       "padding": null,
       "right": null,
       "top": null,
       "visibility": null,
       "width": null
      }
     },
     "bd53ebb4c70b46b089d171dcfe197190": {
      "model_module": "@jupyter-widgets/base",
      "model_module_version": "2.0.0",
      "model_name": "LayoutModel",
      "state": {
       "_model_module": "@jupyter-widgets/base",
       "_model_module_version": "2.0.0",
       "_model_name": "LayoutModel",
       "_view_count": null,
       "_view_module": "@jupyter-widgets/base",
       "_view_module_version": "2.0.0",
       "_view_name": "LayoutView",
       "align_content": null,
       "align_items": null,
       "align_self": null,
       "border_bottom": null,
       "border_left": null,
       "border_right": null,
       "border_top": null,
       "bottom": null,
       "display": null,
       "flex": null,
       "flex_flow": null,
       "grid_area": null,
       "grid_auto_columns": null,
       "grid_auto_flow": null,
       "grid_auto_rows": null,
       "grid_column": null,
       "grid_gap": null,
       "grid_row": null,
       "grid_template_areas": null,
       "grid_template_columns": null,
       "grid_template_rows": null,
       "height": null,
       "justify_content": null,
       "justify_items": null,
       "left": null,
       "margin": null,
       "max_height": null,
       "max_width": null,
       "min_height": null,
       "min_width": null,
       "object_fit": null,
       "object_position": null,
       "order": null,
       "overflow": null,
       "padding": null,
       "right": null,
       "top": null,
       "visibility": null,
       "width": null
      }
     },
     "d5fb873ef7c24b3591adda6b2a588d2c": {
      "model_module": "@jupyter-widgets/controls",
      "model_module_version": "2.0.0",
      "model_name": "FloatProgressModel",
      "state": {
       "_dom_classes": [],
       "_model_module": "@jupyter-widgets/controls",
       "_model_module_version": "2.0.0",
       "_model_name": "FloatProgressModel",
       "_view_count": null,
       "_view_module": "@jupyter-widgets/controls",
       "_view_module_version": "2.0.0",
       "_view_name": "ProgressView",
       "bar_style": "success",
       "description": "",
       "description_allow_html": false,
       "layout": "IPY_MODEL_2cc0708ac75d4804a08a7f6223dda014",
       "max": 52554.0,
       "min": 0.0,
       "orientation": "horizontal",
       "style": "IPY_MODEL_f11e75bc1edd46b8aaab69bc0b367d35",
       "tabbable": null,
       "tooltip": null,
       "value": 52554.0
      }
     },
     "dc3e92aa24dd456f903d4ddc75ec71fa": {
      "model_module": "@jupyter-widgets/base",
      "model_module_version": "2.0.0",
      "model_name": "LayoutModel",
      "state": {
       "_model_module": "@jupyter-widgets/base",
       "_model_module_version": "2.0.0",
       "_model_name": "LayoutModel",
       "_view_count": null,
       "_view_module": "@jupyter-widgets/base",
       "_view_module_version": "2.0.0",
       "_view_name": "LayoutView",
       "align_content": null,
       "align_items": null,
       "align_self": null,
       "border_bottom": null,
       "border_left": null,
       "border_right": null,
       "border_top": null,
       "bottom": null,
       "display": null,
       "flex": null,
       "flex_flow": null,
       "grid_area": null,
       "grid_auto_columns": null,
       "grid_auto_flow": null,
       "grid_auto_rows": null,
       "grid_column": null,
       "grid_gap": null,
       "grid_row": null,
       "grid_template_areas": null,
       "grid_template_columns": null,
       "grid_template_rows": null,
       "height": null,
       "justify_content": null,
       "justify_items": null,
       "left": null,
       "margin": null,
       "max_height": null,
       "max_width": null,
       "min_height": null,
       "min_width": null,
       "object_fit": null,
       "object_position": null,
       "order": null,
       "overflow": null,
       "padding": null,
       "right": null,
       "top": null,
       "visibility": null,
       "width": null
      }
     },
     "e61e1e15244240eb8959bb70b75fce9d": {
      "model_module": "@jupyter-widgets/controls",
      "model_module_version": "2.0.0",
      "model_name": "HTMLModel",
      "state": {
       "_dom_classes": [],
       "_model_module": "@jupyter-widgets/controls",
       "_model_module_version": "2.0.0",
       "_model_name": "HTMLModel",
       "_view_count": null,
       "_view_module": "@jupyter-widgets/controls",
       "_view_module_version": "2.0.0",
       "_view_name": "HTMLView",
       "description": "",
       "description_allow_html": false,
       "layout": "IPY_MODEL_bbd0e5db1c4d40f39feb3fd7eb4170d9",
       "placeholder": "​",
       "style": "IPY_MODEL_55ed9b8bcd054b8cbb81cd11302144ce",
       "tabbable": null,
       "tooltip": null,
       "value": "Downloading https://raw.githubusercontent.com/stanfordnlp/stanza-resources/main/resources_1.10.0.json: "
      }
     },
     "f11e75bc1edd46b8aaab69bc0b367d35": {
      "model_module": "@jupyter-widgets/controls",
      "model_module_version": "2.0.0",
      "model_name": "ProgressStyleModel",
      "state": {
       "_model_module": "@jupyter-widgets/controls",
       "_model_module_version": "2.0.0",
       "_model_name": "ProgressStyleModel",
       "_view_count": null,
       "_view_module": "@jupyter-widgets/base",
       "_view_module_version": "2.0.0",
       "_view_name": "StyleView",
       "bar_color": null,
       "description_width": ""
      }
     }
    },
    "version_major": 2,
    "version_minor": 0
   }
  }
 },
 "nbformat": 4,
 "nbformat_minor": 5
}
